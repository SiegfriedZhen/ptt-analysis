{
  "nbformat": 4,
  "nbformat_minor": 0,
  "metadata": {
    "colab": {
      "name": "ptt_etl.ipynb",
      "provenance": [],
      "collapsed_sections": [
        "_IJgnRtM7g2U"
      ],
      "include_colab_link": true
    },
    "language_info": {
      "codemirror_mode": {
        "name": "ipython",
        "version": 3
      },
      "file_extension": ".py",
      "mimetype": "text/x-python",
      "name": "python",
      "nbconvert_exporter": "python",
      "pygments_lexer": "ipython3",
      "version": "3.6.3"
    },
    "kernelspec": {
      "name": "python3",
      "display_name": "Python 3"
    },
    "accelerator": "GPU"
  },
  "cells": [
    {
      "cell_type": "markdown",
      "metadata": {
        "id": "view-in-github",
        "colab_type": "text"
      },
      "source": [
        "<a href=\"https://colab.research.google.com/github/SiegfriedZhen/ptt-analysis/blob/master/ptt_etl_201910.ipynb\" target=\"_parent\"><img src=\"https://colab.research.google.com/assets/colab-badge.svg\" alt=\"Open In Colab\"/></a>"
      ]
    },
    {
      "cell_type": "markdown",
      "metadata": {
        "id": "1jFgmZze7g1y",
        "colab_type": "text"
      },
      "source": [
        "# ptt的網路分析(network analysis)\n",
        "#### 近期天下的專題[輿論戰爭](https://www.cw.com.tw/article/article.action?id=5093610&fbclid=IwAR3NXtzdUBrUYBPPepMVzRXwY2tGZj6B84QzjWyPaIgjBL8QnSQjSOU6EeI#_=_)，點出在八卦或政黑有些操作的跡象，其中有些網路分析的技術，這裡嘗試重現相關分析。\n"
      ]
    },
    {
      "cell_type": "markdown",
      "metadata": {
        "id": "NMW6sbvh7g10",
        "colab_type": "text"
      },
      "source": [
        "### 1. import 網路分析常用的package [networkx](https://networkx.github.io/)\n",
        "\n",
        "---\n",
        "可直接用jwliny在github的[ptt-web-crawler](https://github.com/jwlin/ptt-web-crawler)，不用自己寫爬蟲，安裝完後直接下指令(超佛!\n",
        "python -m PttWebCrawler -b PublicServan -i 100 200\n",
        "python crawler.py -b 看板名稱 -i 起始索引 結束索引 (設為-1為最後一頁, ps. 原作者聲稱是「設為負數則以倒數第幾頁計算」，但只有-1 會是有效的負數參數，另外如果index如果超過頁面，會有json格式錯誤發生) "
      ]
    },
    {
      "cell_type": "code",
      "metadata": {
        "id": "tBPfDKGc7g11",
        "colab_type": "code",
        "colab": {}
      },
      "source": [
        "import networkx as nx\n",
        "import matplotlib.pyplot as plt\n",
        "import pandas as pd\n",
        "import operator\n",
        "from collections import Counter\n",
        "from IPython.display import Image\n",
        "import numpy as np\n",
        "import os"
      ],
      "execution_count": 0,
      "outputs": []
    },
    {
      "cell_type": "code",
      "metadata": {
        "id": "gbP6o78U098N",
        "colab_type": "code",
        "colab": {}
      },
      "source": [
        "# 讀取 Google drive\n",
        "from google.colab import drive\n",
        "drive.mount('/content/drive')"
      ],
      "execution_count": 0,
      "outputs": []
    },
    {
      "cell_type": "code",
      "metadata": {
        "id": "fFpAZ39H7g15",
        "colab_type": "code",
        "colab": {}
      },
      "source": [
        "path = '/content/drive/My Drive/Colab Notebooks/'\n",
        "file_1 = path + 'HatePolitics-0-4060.json'\n",
        "file_2 = path + 'HatePolitics-1500-3989.json'"
      ],
      "execution_count": 0,
      "outputs": []
    },
    {
      "cell_type": "markdown",
      "metadata": {
        "id": "JocYs7JL7g17",
        "colab_type": "text"
      },
      "source": [
        "###   2. modified json ending \n",
        "#### ptt-web-crawler 有一個小bug，當爬的文章頁數超過，結尾會多一個逗號，由於只有read file by binary mode 支援負指標搜尋，所以會使用，ab+ 二進制讀寫模式，且寫入只能在文件末端，執行時用truncate後寫入。\n",
        "#### correct ending\n",
        "#### b'erid\": \"wei121\"}]}]}'\n",
        "#### false ending\n",
        "#### b'serid\": \"L1ON\"}]},]}'"
      ]
    },
    {
      "cell_type": "code",
      "metadata": {
        "id": "IDbG87-h7g17",
        "colab_type": "code",
        "colab": {}
      },
      "source": [
        "def check_json_format(file):\n",
        "  with open(file, 'ab+') as f:\n",
        "      # read as binary is for reverse file search\n",
        "      print('check trivial comma in EOF before revesing')\n",
        "      # * 2 -- end of stream; offset is usually negative\n",
        "      f.seek(-6, 2)\n",
        "\n",
        "      if f.read(200) == b'}]},]}':\n",
        "        print('revising error endings')\n",
        "        f.seek(-3, 2)\n",
        "        f.truncate()\n",
        "        f.write(b']}')\n",
        "\n",
        "      print('check trivial comma in EOF after revising')\n",
        "      f.seek(-20, 2)\n",
        "      print(f.read(200))"
      ],
      "execution_count": 0,
      "outputs": []
    },
    {
      "cell_type": "code",
      "metadata": {
        "id": "UDEWKhoVPWtS",
        "colab_type": "code",
        "outputId": "f7e9183f-aa25-4806-a736-70941a91902f",
        "colab": {
          "base_uri": "https://localhost:8080/",
          "height": 118
        }
      },
      "source": [
        "check_json_format(file_1)\n",
        "check_json_format(file_2)"
      ],
      "execution_count": 0,
      "outputs": [
        {
          "output_type": "stream",
          "text": [
            "check trivial comma in EOF before revesing\n",
            "check trivial comma in EOF after revising\n",
            "b'rid\": \"wayne62\"}]}]}'\n",
            "check trivial comma in EOF before revesing\n",
            "check trivial comma in EOF after revising\n",
            "b'erid\": \"kuwawa\"}]}]}'\n"
          ],
          "name": "stdout"
        }
      ]
    },
    {
      "cell_type": "code",
      "metadata": {
        "id": "2tOAEMkj7g2A",
        "colab_type": "code",
        "colab": {}
      },
      "source": [
        "ptt_df_1 = pd.read_json(file_1, encoding='utf8')\n",
        "ptt_df_2 = pd.read_json(file_2, encoding='utf8')"
      ],
      "execution_count": 0,
      "outputs": []
    },
    {
      "cell_type": "markdown",
      "metadata": {
        "id": "VXQljIfV7g2C",
        "colab_type": "text"
      },
      "source": [
        "### 3. 來看看一篇文章的json長怎樣吧!\n",
        "#### (1)大量的DataFrame效能很差, 目前看到有兩個解法\n",
        "####  a. 先把大小設定好，才不會每次append都重新申請空間(但不太適用本狀況, 因為要觀察留言的互動，那就要先把文章 x 留言數\n",
        "####  b. 把每一篇文章的DataFrame存在一個list，最後用pd.concat 批次處理(這次使用的方法)\n",
        "\n",
        "#### package typo... message_conut"
      ]
    },
    {
      "cell_type": "code",
      "metadata": {
        "id": "o9KEW4OX7g2C",
        "colab_type": "code",
        "colab": {}
      },
      "source": [
        "def ptt_json_to_df(ptt_df):\n",
        "  art_df = []\n",
        "  invalid_lst = []\n",
        "  for x in ptt_df.itertuples():\n",
        "    #some inconsistent page failed!\n",
        "    if x.articles == {'error': 'invalid url'}:\n",
        "        print('invalid record')\n",
        "        print(x.Index)\n",
        "        invalid_lst.append(x)\n",
        "        continue\n",
        "    art = pd.DataFrame([x.articles])  \n",
        "    ##如果發文沒有人推或作者是None，直接濾除\n",
        "    if art.messages[0] == []:\n",
        "        invalid_lst.append(x)\n",
        "        continue\n",
        "    elif art.author[0] is None:\n",
        "        print('invalid author')\n",
        "        #print(x.articles)\n",
        "        invalid_lst.append(x)\n",
        "        continue\n",
        "    \n",
        "    art.author = art.author.replace(r'\\([^)]*\\)', '',regex=True).values[0].replace(' ', '')\n",
        "    #fixing package typo of columns\n",
        "    art.rename({'message_conut':'message_count'}, axis=1, inplace=True)\n",
        "    reply_aggr = pd.DataFrame(art.message_count.values[0], index=[0])\n",
        "    art.drop(['message_count'], axis=1, inplace=True)\n",
        "    art = pd.concat([art, reply_aggr], axis=1)\n",
        "    art_df.append(art)\n",
        "  return art_df"
      ],
      "execution_count": 0,
      "outputs": []
    },
    {
      "cell_type": "code",
      "metadata": {
        "id": "mfIZk6m4RJJe",
        "colab_type": "code",
        "colab": {}
      },
      "source": [
        "art_df_1 = ptt_json_to_df(ptt_df_1)\n",
        "art_df_2 = ptt_json_to_df(ptt_df_2)"
      ],
      "execution_count": 0,
      "outputs": []
    },
    {
      "cell_type": "code",
      "metadata": {
        "id": "uHlfNFlb7g2F",
        "colab_type": "code",
        "cellView": "code",
        "colab": {}
      },
      "source": [
        "art_df_1 = pd.concat(art_df_1)\n",
        "art_df_2 = pd.concat(art_df_2)"
      ],
      "execution_count": 0,
      "outputs": []
    },
    {
      "cell_type": "code",
      "metadata": {
        "id": "MxKFaX3GePn_",
        "colab_type": "code",
        "colab": {}
      },
      "source": [
        "art_df = art_df_1[~art_df_1.article_id.isin(art_df_2.article_id)].append(art_df_2)"
      ],
      "execution_count": 0,
      "outputs": []
    },
    {
      "cell_type": "code",
      "metadata": {
        "id": "i21bi1WneNXX",
        "colab_type": "code",
        "colab": {}
      },
      "source": [
        "del art_df_1, art_df_2"
      ],
      "execution_count": 0,
      "outputs": []
    },
    {
      "cell_type": "code",
      "metadata": {
        "id": "w34noJVjdmpo",
        "colab_type": "code",
        "colab": {}
      },
      "source": [
        "art_df.date = pd.to_datetime(art_df.date, format='%a %b %d %H:%M:%S %Y', errors='coerce')\n",
        "art_df['re_flag'] = art_df.article_title.str.contains('Re')"
      ],
      "execution_count": 0,
      "outputs": []
    },
    {
      "cell_type": "markdown",
      "metadata": {
        "id": "QOKTpiJUQVH1",
        "colab_type": "text"
      },
      "source": [
        "### 4. 輸出發文檔案，作為Tableau分析使用"
      ]
    },
    {
      "cell_type": "code",
      "metadata": {
        "id": "9VM-HbZBPyzo",
        "colab_type": "code",
        "colab": {}
      },
      "source": [
        "art_df[['article_id', 'article_title', 'author', 'board', 'date', 'ip', 'all', \n",
        "       'boo', 'count', 'neutral', 'push', 're_flag']].to_excel(path + 'hate_pol_node_dtl.xlsx', index=False)"
      ],
      "execution_count": 0,
      "outputs": []
    },
    {
      "cell_type": "code",
      "metadata": {
        "id": "t7NwTfr27g2H",
        "colab_type": "code",
        "colab": {}
      },
      "source": [
        "art_cnt = art_df.groupby('author', as_index=False)['article_id'].count()\n",
        "author_attr = art_df.groupby('author', as_index=False)['all', 'boo', 'count', 'neutral', 'push'].sum()\n",
        "author_attr = author_attr.merge(art_cnt, how='left', on='author').rename({'article_id':'art_cnt'}, axis=1)\n",
        "author_attr.rename({'author':'Id'}, axis=1, inplace=True)"
      ],
      "execution_count": 0,
      "outputs": []
    },
    {
      "cell_type": "code",
      "metadata": {
        "id": "clIGUVzf7g2N",
        "colab_type": "code",
        "colab": {}
      },
      "source": [
        "author_attr.to_excel(path + 'hate_pol_node.xlsx', index=False)"
      ],
      "execution_count": 0,
      "outputs": []
    },
    {
      "cell_type": "code",
      "metadata": {
        "id": "5MftPYvx7g2L",
        "colab_type": "code",
        "outputId": "fe19cc07-76ca-440e-864a-61700c8b9fca",
        "colab": {
          "base_uri": "https://localhost:8080/",
          "height": 195
        }
      },
      "source": [
        "author_attr.head()"
      ],
      "execution_count": 0,
      "outputs": [
        {
          "output_type": "execute_result",
          "data": {
            "text/html": [
              "<div>\n",
              "<style scoped>\n",
              "    .dataframe tbody tr th:only-of-type {\n",
              "        vertical-align: middle;\n",
              "    }\n",
              "\n",
              "    .dataframe tbody tr th {\n",
              "        vertical-align: top;\n",
              "    }\n",
              "\n",
              "    .dataframe thead th {\n",
              "        text-align: right;\n",
              "    }\n",
              "</style>\n",
              "<table border=\"1\" class=\"dataframe\">\n",
              "  <thead>\n",
              "    <tr style=\"text-align: right;\">\n",
              "      <th></th>\n",
              "      <th>Id</th>\n",
              "      <th>all</th>\n",
              "      <th>boo</th>\n",
              "      <th>count</th>\n",
              "      <th>neutral</th>\n",
              "      <th>push</th>\n",
              "      <th>art_cnt</th>\n",
              "    </tr>\n",
              "  </thead>\n",
              "  <tbody>\n",
              "    <tr>\n",
              "      <th>0</th>\n",
              "      <td></td>\n",
              "      <td>13239</td>\n",
              "      <td>557</td>\n",
              "      <td>5446</td>\n",
              "      <td>6679</td>\n",
              "      <td>6003</td>\n",
              "      <td>303</td>\n",
              "    </tr>\n",
              "    <tr>\n",
              "      <th>1</th>\n",
              "      <td>A1an</td>\n",
              "      <td>1</td>\n",
              "      <td>0</td>\n",
              "      <td>0</td>\n",
              "      <td>1</td>\n",
              "      <td>0</td>\n",
              "      <td>1</td>\n",
              "    </tr>\n",
              "    <tr>\n",
              "      <th>2</th>\n",
              "      <td>A1bertPujols</td>\n",
              "      <td>1672</td>\n",
              "      <td>119</td>\n",
              "      <td>503</td>\n",
              "      <td>931</td>\n",
              "      <td>622</td>\n",
              "      <td>53</td>\n",
              "    </tr>\n",
              "    <tr>\n",
              "      <th>3</th>\n",
              "      <td>A1right</td>\n",
              "      <td>24</td>\n",
              "      <td>1</td>\n",
              "      <td>8</td>\n",
              "      <td>14</td>\n",
              "      <td>9</td>\n",
              "      <td>1</td>\n",
              "    </tr>\n",
              "    <tr>\n",
              "      <th>4</th>\n",
              "      <td>A4013</td>\n",
              "      <td>7</td>\n",
              "      <td>0</td>\n",
              "      <td>4</td>\n",
              "      <td>3</td>\n",
              "      <td>4</td>\n",
              "      <td>1</td>\n",
              "    </tr>\n",
              "  </tbody>\n",
              "</table>\n",
              "</div>"
            ],
            "text/plain": [
              "             Id    all  boo  count  neutral  push  art_cnt\n",
              "0                13239  557   5446     6679  6003      303\n",
              "1          A1an      1    0      0        1     0        1\n",
              "2  A1bertPujols   1672  119    503      931   622       53\n",
              "3       A1right     24    1      8       14     9        1\n",
              "4         A4013      7    0      4        3     4        1"
            ]
          },
          "metadata": {
            "tags": []
          },
          "execution_count": 45
        }
      ]
    },
    {
      "cell_type": "code",
      "metadata": {
        "scrolled": false,
        "id": "KM181bvL7g2O",
        "colab_type": "code",
        "colab": {}
      },
      "source": [
        "#check date\n",
        "art_df.sort_values('date')[-30:].date"
      ],
      "execution_count": 0,
      "outputs": []
    },
    {
      "cell_type": "code",
      "metadata": {
        "id": "ediGn59H7g2S",
        "colab_type": "code",
        "outputId": "59d32844-b0cb-46a7-aa6a-fa56a927c29b",
        "colab": {
          "base_uri": "https://localhost:8080/",
          "height": 34
        }
      },
      "source": [
        "'蒐集政黑板資料自 {} to {}'.format(art_df.date.min(), art_df.date.max())"
      ],
      "execution_count": 0,
      "outputs": [
        {
          "output_type": "execute_result",
          "data": {
            "text/plain": [
              "'蒐集政黑板資料自 1993-02-14 17:02:28 to 2021-02-19 10:40:22'"
            ]
          },
          "metadata": {
            "tags": []
          },
          "execution_count": 47
        }
      ]
    },
    {
      "cell_type": "markdown",
      "metadata": {
        "id": "_IJgnRtM7g2U",
        "colab_type": "text"
      },
      "source": [
        "### 4. 參考資料:天下對於ptt網軍的分析 \n",
        "https://www.cw.com.tw/article/article.action?id=5093610\n",
        "---\n",
        "關於mark2165的質疑，現在卻成為政黑的板主，也是很有趣的現象，也有可能是報導的時間差，要再看最近發文~\n",
        "\n",
        "###### (1)版規公告\n",
        "https://www.ptt.cc/bbs/HatePolitics/M.1555306691.A.ED4.html\n",
        "###### (2) 參選公告\n",
        "https://www.ptt.cc/bbs/HatePolitics/M.1551694135.A.CFA.html\n",
        "###### (3) 根據ptt 鄉民百科：是政黑的板主之一\n",
        "https://pttpedia.fandom.com/zh/wiki/HatePolitics%E6%9D%BF_(%E6%94%BF%E9%BB%91%E6%9D%BF)\n",
        "###### (4) 2019/04/02上任公告\n",
        "https://www.ptt.cc/bbs/L_SecretGard/M.1554186459.A.9AA.html"
      ]
    },
    {
      "cell_type": "markdown",
      "metadata": {
        "id": "d8g5k2Rg7g2U",
        "colab_type": "text"
      },
      "source": [
        "### 5. top 10 by 推噓加總\n",
        "---\n",
        "#### mark2165位居第一，第二名則是ptt名人KingKingCold，但加總還是差了快一倍"
      ]
    },
    {
      "cell_type": "code",
      "metadata": {
        "id": "_W1pWYzd7g2V",
        "colab_type": "code",
        "outputId": "73178403-4d84-4fee-f411-4dfa30212894",
        "colab": {
          "base_uri": "https://localhost:8080/",
          "height": 343
        }
      },
      "source": [
        "author_attr.sort_values('count', ascending=False)[:10]"
      ],
      "execution_count": 0,
      "outputs": [
        {
          "output_type": "execute_result",
          "data": {
            "text/html": [
              "<div>\n",
              "<style scoped>\n",
              "    .dataframe tbody tr th:only-of-type {\n",
              "        vertical-align: middle;\n",
              "    }\n",
              "\n",
              "    .dataframe tbody tr th {\n",
              "        vertical-align: top;\n",
              "    }\n",
              "\n",
              "    .dataframe thead th {\n",
              "        text-align: right;\n",
              "    }\n",
              "</style>\n",
              "<table border=\"1\" class=\"dataframe\">\n",
              "  <thead>\n",
              "    <tr style=\"text-align: right;\">\n",
              "      <th></th>\n",
              "      <th>Id</th>\n",
              "      <th>all</th>\n",
              "      <th>boo</th>\n",
              "      <th>count</th>\n",
              "      <th>neutral</th>\n",
              "      <th>push</th>\n",
              "      <th>art_cnt</th>\n",
              "    </tr>\n",
              "  </thead>\n",
              "  <tbody>\n",
              "    <tr>\n",
              "      <th>3886</th>\n",
              "      <td>mark2165</td>\n",
              "      <td>41767</td>\n",
              "      <td>1526</td>\n",
              "      <td>20897</td>\n",
              "      <td>17818</td>\n",
              "      <td>22423</td>\n",
              "      <td>324</td>\n",
              "    </tr>\n",
              "    <tr>\n",
              "      <th>587</th>\n",
              "      <td>KingKingCold</td>\n",
              "      <td>25253</td>\n",
              "      <td>1225</td>\n",
              "      <td>13182</td>\n",
              "      <td>9621</td>\n",
              "      <td>14407</td>\n",
              "      <td>111</td>\n",
              "    </tr>\n",
              "    <tr>\n",
              "      <th>1157</th>\n",
              "      <td>Wojnarowski</td>\n",
              "      <td>38855</td>\n",
              "      <td>4854</td>\n",
              "      <td>12104</td>\n",
              "      <td>17043</td>\n",
              "      <td>16958</td>\n",
              "      <td>334</td>\n",
              "    </tr>\n",
              "    <tr>\n",
              "      <th>5682</th>\n",
              "      <td>wizardfizban</td>\n",
              "      <td>36172</td>\n",
              "      <td>1568</td>\n",
              "      <td>11900</td>\n",
              "      <td>21136</td>\n",
              "      <td>13468</td>\n",
              "      <td>452</td>\n",
              "    </tr>\n",
              "    <tr>\n",
              "      <th>2914</th>\n",
              "      <td>hithaman</td>\n",
              "      <td>14136</td>\n",
              "      <td>233</td>\n",
              "      <td>10463</td>\n",
              "      <td>3207</td>\n",
              "      <td>10696</td>\n",
              "      <td>172</td>\n",
              "    </tr>\n",
              "    <tr>\n",
              "      <th>3430</th>\n",
              "      <td>kero2377</td>\n",
              "      <td>27138</td>\n",
              "      <td>1219</td>\n",
              "      <td>9942</td>\n",
              "      <td>14758</td>\n",
              "      <td>11161</td>\n",
              "      <td>431</td>\n",
              "    </tr>\n",
              "    <tr>\n",
              "      <th>5950</th>\n",
              "      <td>zxcelephant</td>\n",
              "      <td>21218</td>\n",
              "      <td>1223</td>\n",
              "      <td>9505</td>\n",
              "      <td>9267</td>\n",
              "      <td>10728</td>\n",
              "      <td>344</td>\n",
              "    </tr>\n",
              "    <tr>\n",
              "      <th>5191</th>\n",
              "      <td>sunyeah</td>\n",
              "      <td>32806</td>\n",
              "      <td>1764</td>\n",
              "      <td>9028</td>\n",
              "      <td>20250</td>\n",
              "      <td>10792</td>\n",
              "      <td>544</td>\n",
              "    </tr>\n",
              "    <tr>\n",
              "      <th>2281</th>\n",
              "      <td>diefishfish</td>\n",
              "      <td>31618</td>\n",
              "      <td>4024</td>\n",
              "      <td>7737</td>\n",
              "      <td>15833</td>\n",
              "      <td>11761</td>\n",
              "      <td>512</td>\n",
              "    </tr>\n",
              "    <tr>\n",
              "      <th>4259</th>\n",
              "      <td>omanorboyo</td>\n",
              "      <td>24780</td>\n",
              "      <td>2094</td>\n",
              "      <td>7627</td>\n",
              "      <td>12965</td>\n",
              "      <td>9721</td>\n",
              "      <td>536</td>\n",
              "    </tr>\n",
              "  </tbody>\n",
              "</table>\n",
              "</div>"
            ],
            "text/plain": [
              "                Id    all   boo  count  neutral   push  art_cnt\n",
              "3886      mark2165  41767  1526  20897    17818  22423      324\n",
              "587   KingKingCold  25253  1225  13182     9621  14407      111\n",
              "1157   Wojnarowski  38855  4854  12104    17043  16958      334\n",
              "5682  wizardfizban  36172  1568  11900    21136  13468      452\n",
              "2914      hithaman  14136   233  10463     3207  10696      172\n",
              "3430      kero2377  27138  1219   9942    14758  11161      431\n",
              "5950   zxcelephant  21218  1223   9505     9267  10728      344\n",
              "5191       sunyeah  32806  1764   9028    20250  10792      544\n",
              "2281   diefishfish  31618  4024   7737    15833  11761      512\n",
              "4259    omanorboyo  24780  2094   7627    12965   9721      536"
            ]
          },
          "metadata": {
            "tags": []
          },
          "execution_count": 48
        }
      ]
    },
    {
      "cell_type": "code",
      "metadata": {
        "id": "0_7D97UK7g2X",
        "colab_type": "code",
        "colab": {}
      },
      "source": [
        "art_df.reset_index(drop=True, inplace=True)\n",
        "\n",
        "# error records\n",
        "# some no article.....\n",
        "#[問卦]把蔣公銅像裝扮成薩諾斯會被吉嗎 invalid time formate"
      ],
      "execution_count": 0,
      "outputs": []
    },
    {
      "cell_type": "code",
      "metadata": {
        "id": "NzLZYYUe7g2Z",
        "colab_type": "code",
        "colab": {}
      },
      "source": [
        "del ptt_df"
      ],
      "execution_count": 0,
      "outputs": []
    },
    {
      "cell_type": "code",
      "metadata": {
        "id": "xfTdmJ447g2e",
        "colab_type": "code",
        "colab": {}
      },
      "source": [
        "#todo\n",
        "#find some id mapping table\n",
        "\n",
        "#https://pttpedia.fandom.com/zh/wiki/%E5%88%86%E9%A1%9E:PTT%E5%90%8D%E4%BA%BA\n",
        "#crawl ptt celebrity"
      ],
      "execution_count": 0,
      "outputs": []
    },
    {
      "cell_type": "markdown",
      "metadata": {
        "id": "-tZXczck7g2g",
        "colab_type": "text"
      },
      "source": [
        "### 5. checking area"
      ]
    },
    {
      "cell_type": "code",
      "metadata": {
        "id": "AAzFqtZW7g2g",
        "colab_type": "code",
        "colab": {}
      },
      "source": [
        "#'{} 筆無效文章'.format(len(invalid_lst))"
      ],
      "execution_count": 0,
      "outputs": []
    },
    {
      "cell_type": "code",
      "metadata": {
        "id": "5cG8_zji7g2j",
        "colab_type": "code",
        "colab": {}
      },
      "source": [
        "## 八卦板版規\n",
        "\n",
        "# ※ 八卦板務請到 GossipPicket 檢舉板詢問\n",
        "# ※ a.張貼問卦請注意，充實文章內容、是否有專板，本板並非萬能問板。\n",
        "# ※ b.一天只能張貼 \"兩則\" 問卦，自刪及被刪也算兩篇之內，\n",
        "# ※   超貼者將被水桶，請注意!\n",
        "# ※ c.本看板嚴格禁止政治問卦，發文問卦前請先仔細閱讀相關板規。\n",
        "# ※ d.未滿30繁體中文字水桶3個月，嚴重者以鬧板論，請注意！\n",
        "# ※ (↑看完提醒請刪除ctrl + y)"
      ],
      "execution_count": 0,
      "outputs": []
    },
    {
      "cell_type": "code",
      "metadata": {
        "id": "4l7pTcPM7g2k",
        "colab_type": "code",
        "colab": {}
      },
      "source": [
        "# some special character id would become NaN\n",
        "#art  yesyesyesyes (@_@O)\n",
        "# rex520368 (b@N9)\n",
        "#rainbowsheep (@V@?)"
      ],
      "execution_count": 0,
      "outputs": []
    },
    {
      "cell_type": "markdown",
      "metadata": {
        "id": "VkqGp33n7g2m",
        "colab_type": "text"
      },
      "source": [
        "todo: ip parse ref\n",
        "#### https://www.ptt.cc/bbs/Gossiping/M.1559471533.A.6AD.html"
      ]
    },
    {
      "cell_type": "markdown",
      "metadata": {
        "id": "qyZ-GKbW7g2n",
        "colab_type": "text"
      },
      "source": [
        "### 3. 整理資料：推文作為source，發文作為target，主要是覺得推文作為主動方，觀察是否有大量互相推文的現象"
      ]
    },
    {
      "cell_type": "code",
      "metadata": {
        "scrolled": true,
        "id": "K3kPyv217g2q",
        "colab_type": "code",
        "outputId": "7a5e0fa6-ed33-46d3-aaed-75a1ffaad662",
        "colab": {
          "base_uri": "https://localhost:8080/",
          "height": 218
        }
      },
      "source": [
        "reply_df = []\n",
        "\n",
        "for x in art_df.itertuples():\n",
        "    \n",
        "    if x.Index % 10000 == 1:\n",
        "        print(x.Index)\n",
        "        \n",
        "    tmp_reply = pd.DataFrame(x.messages)\n",
        "    #push_ip_ = reply.push_ipdatetime.str.split(' ', n=1, expand=True)\n",
        "\n",
        "    tmp_reply['target'] = x.author\n",
        "    tmp_ip_dt = tmp_reply.push_ipdatetime.copy()\n",
        "    \n",
        "    tmp_reply['reply_datetime'] = str(x.date.year) + '/' + np.where(tmp_ip_dt.str.len() < 20, tmp_ip_dt, tmp_ip_dt.str[-11:])\n",
        "    ##以發文日期作為推文的估計值，因為push_ipdatetime的ip 跟 datetime放在一起，有些只有datetime 沒有ip，好像跟RE 有關....\n",
        "    ##欄位重新命名，push_userid 改為 source\n",
        "    tmp_reply.rename({'push_userid':'source'}, axis=1, inplace=True)\n",
        "    reply_df.append(tmp_reply)"
      ],
      "execution_count": 0,
      "outputs": [
        {
          "output_type": "stream",
          "text": [
            "1\n",
            "10001\n",
            "20001\n",
            "30001\n",
            "40001\n",
            "50001\n",
            "60001\n",
            "70001\n",
            "80001\n",
            "90001\n",
            "100001\n",
            "110001\n"
          ],
          "name": "stdout"
        }
      ]
    },
    {
      "cell_type": "code",
      "metadata": {
        "id": "pcw5k35g7g2s",
        "colab_type": "code",
        "colab": {}
      },
      "source": [
        "# check global vars"
      ],
      "execution_count": 0,
      "outputs": []
    },
    {
      "cell_type": "code",
      "metadata": {
        "scrolled": true,
        "id": "gbOcOByX7g2u",
        "colab_type": "code",
        "colab": {}
      },
      "source": [
        "del art_df\n",
        "reply_df = pd.concat(reply_df)"
      ],
      "execution_count": 0,
      "outputs": []
    },
    {
      "cell_type": "code",
      "metadata": {
        "id": "_BCZpzbr7g2x",
        "colab_type": "code",
        "outputId": "ce6ffd70-6991-428f-fe62-31a038881b99",
        "colab": {
          "base_uri": "https://localhost:8080/",
          "height": 195
        }
      },
      "source": [
        "reply_df.head()"
      ],
      "execution_count": 0,
      "outputs": [
        {
          "output_type": "execute_result",
          "data": {
            "text/html": [
              "<div>\n",
              "<style scoped>\n",
              "    .dataframe tbody tr th:only-of-type {\n",
              "        vertical-align: middle;\n",
              "    }\n",
              "\n",
              "    .dataframe tbody tr th {\n",
              "        vertical-align: top;\n",
              "    }\n",
              "\n",
              "    .dataframe thead th {\n",
              "        text-align: right;\n",
              "    }\n",
              "</style>\n",
              "<table border=\"1\" class=\"dataframe\">\n",
              "  <thead>\n",
              "    <tr style=\"text-align: right;\">\n",
              "      <th></th>\n",
              "      <th>push_content</th>\n",
              "      <th>push_ipdatetime</th>\n",
              "      <th>push_tag</th>\n",
              "      <th>source</th>\n",
              "      <th>target</th>\n",
              "      <th>reply_datetime</th>\n",
              "    </tr>\n",
              "  </thead>\n",
              "  <tbody>\n",
              "    <tr>\n",
              "      <th>0</th>\n",
              "      <td>蛤?他現在已經輸小英了</td>\n",
              "      <td>36.226.56.117 06/18 07:03</td>\n",
              "      <td>推</td>\n",
              "      <td>Chantaljones</td>\n",
              "      <td>sim2347</td>\n",
              "      <td>2019/06/18 07:03</td>\n",
              "    </tr>\n",
              "    <tr>\n",
              "      <th>1</th>\n",
              "      <td>繼續給他鬧下去 繼續跌..</td>\n",
              "      <td>36.226.56.117 06/18 07:03</td>\n",
              "      <td>→</td>\n",
              "      <td>Chantaljones</td>\n",
              "      <td>sim2347</td>\n",
              "      <td>2019/06/18 07:03</td>\n",
              "    </tr>\n",
              "    <tr>\n",
              "      <th>2</th>\n",
              "      <td>而且韓還會帶賽國民黨選情</td>\n",
              "      <td>36.226.56.117 06/18 07:04</td>\n",
              "      <td>→</td>\n",
              "      <td>Chantaljones</td>\n",
              "      <td>sim2347</td>\n",
              "      <td>2019/06/18 07:04</td>\n",
              "    </tr>\n",
              "    <tr>\n",
              "      <th>3</th>\n",
              "      <td>把大順風弄到逆風了</td>\n",
              "      <td>36.226.56.117 06/18 07:04</td>\n",
              "      <td>→</td>\n",
              "      <td>Chantaljones</td>\n",
              "      <td>sim2347</td>\n",
              "      <td>2019/06/18 07:04</td>\n",
              "    </tr>\n",
              "    <tr>\n",
              "      <th>4</th>\n",
              "      <td>我也不知道果凍有什麼好吹的</td>\n",
              "      <td>61.223.91.138 06/18 07:04</td>\n",
              "      <td>→</td>\n",
              "      <td>indium111</td>\n",
              "      <td>sim2347</td>\n",
              "      <td>2019/06/18 07:04</td>\n",
              "    </tr>\n",
              "  </tbody>\n",
              "</table>\n",
              "</div>"
            ],
            "text/plain": [
              "    push_content            push_ipdatetime  ...   target    reply_datetime\n",
              "0    蛤?他現在已經輸小英了  36.226.56.117 06/18 07:03  ...  sim2347  2019/06/18 07:03\n",
              "1  繼續給他鬧下去 繼續跌..  36.226.56.117 06/18 07:03  ...  sim2347  2019/06/18 07:03\n",
              "2   而且韓還會帶賽國民黨選情  36.226.56.117 06/18 07:04  ...  sim2347  2019/06/18 07:04\n",
              "3      把大順風弄到逆風了  36.226.56.117 06/18 07:04  ...  sim2347  2019/06/18 07:04\n",
              "4  我也不知道果凍有什麼好吹的  61.223.91.138 06/18 07:04  ...  sim2347  2019/06/18 07:04\n",
              "\n",
              "[5 rows x 6 columns]"
            ]
          },
          "metadata": {
            "tags": []
          },
          "execution_count": 54
        }
      ]
    },
    {
      "cell_type": "code",
      "metadata": {
        "id": "tJ3ngPjA7g2z",
        "colab_type": "code",
        "colab": {}
      },
      "source": [
        "reply_df.reply_datetime = pd.to_datetime(reply_df.reply_datetime, format='%Y/%m/%d %H:%M', errors='coerce')\n",
        "reply_df['ip'] = np.where(reply_df.push_ipdatetime.str.len() > 20, reply_df.push_ipdatetime.str[:-12], None)"
      ],
      "execution_count": 0,
      "outputs": []
    },
    {
      "cell_type": "code",
      "metadata": {
        "id": "27TuguNS7g20",
        "colab_type": "code",
        "colab": {}
      },
      "source": [
        "#reply_df['ip'] = np.where(reply_df.ipstr.len() > 20, reply_df.str[:-12], None)"
      ],
      "execution_count": 0,
      "outputs": []
    },
    {
      "cell_type": "code",
      "metadata": {
        "id": "ZbxJLWrD7g22",
        "colab_type": "code",
        "outputId": "e07e0f21-49a9-40f1-be91-20b106da93bf",
        "colab": {
          "base_uri": "https://localhost:8080/",
          "height": 168
        }
      },
      "source": [
        "reply_df.dtypes"
      ],
      "execution_count": 0,
      "outputs": [
        {
          "output_type": "execute_result",
          "data": {
            "text/plain": [
              "push_tag                  object\n",
              "source                    object\n",
              "target                    object\n",
              "reply_datetime    datetime64[ns]\n",
              "ip                        object\n",
              "push                       int64\n",
              "neutral                    int64\n",
              "boo                        int64\n",
              "dtype: object"
            ]
          },
          "metadata": {
            "tags": []
          },
          "execution_count": 55
        }
      ]
    },
    {
      "cell_type": "code",
      "metadata": {
        "id": "JvW2eLZd7g24",
        "colab_type": "code",
        "colab": {}
      },
      "source": [
        "reply_df.drop(['push_content', 'push_ipdatetime'], axis=1, inplace=True)"
      ],
      "execution_count": 0,
      "outputs": []
    },
    {
      "cell_type": "code",
      "metadata": {
        "id": "F-tIxGP-Pkvf",
        "colab_type": "code",
        "colab": {}
      },
      "source": [
        "reply_df.push_tag.replace({'推':'push', '噓':'boo', '→':'neutral'}, inplace=True)"
      ],
      "execution_count": 0,
      "outputs": []
    },
    {
      "cell_type": "code",
      "metadata": {
        "id": "qnfSs3FK7g25",
        "colab_type": "code",
        "colab": {}
      },
      "source": [
        "#sample code for multi-edges for GraphDB\n",
        "#reply_df['push'] = np.where(reply_df.push_tag == '推',1,0)\n",
        "#reply_df['neutral'] = np.where(reply_df.push_tag == '→',1,0)\n",
        "#reply_df['boo'] = np.where(reply_df.push_tag == '噓',1,0)\n",
        "#reply_df.loc[reply_df.push_tag == '推']['push'] = 1\n",
        "\n",
        "#['推', '→', '噓']"
      ],
      "execution_count": 0,
      "outputs": []
    },
    {
      "cell_type": "code",
      "metadata": {
        "id": "aaV7Bit07g27",
        "colab_type": "code",
        "colab": {}
      },
      "source": [
        "#for multi-edge\n",
        "#revsing the title to more general category/proj, hate_pol_edge\n",
        "\n",
        "reply_df.to_csv(path + 'hate_pol_edge.csv', index=False)"
      ],
      "execution_count": 0,
      "outputs": []
    },
    {
      "cell_type": "code",
      "metadata": {
        "id": "wSD8BNDqXd8_",
        "colab_type": "code",
        "colab": {}
      },
      "source": [
        "#reply_df = pd.read_csv(path + 'hate_pol_edge.csv')"
      ],
      "execution_count": 0,
      "outputs": []
    },
    {
      "cell_type": "code",
      "metadata": {
        "id": "JVhP3xXdXnAt",
        "colab_type": "code",
        "colab": {}
      },
      "source": [
        "reply_df['reply_date'] = reply_df.reply_datetime.astype(str).str[:10]\n",
        "reply_df['reply_mn'] = reply_df.reply_datetime.astype(str).str[:7]"
      ],
      "execution_count": 0,
      "outputs": []
    },
    {
      "cell_type": "code",
      "metadata": {
        "id": "lwcsDP_2YbYY",
        "colab_type": "code",
        "colab": {}
      },
      "source": [
        "reply_aggr_df = reply_df.groupby(['push_tag', 'source', 'target', 'reply_date']).count()['reply_mn']"
      ],
      "execution_count": 0,
      "outputs": []
    },
    {
      "cell_type": "code",
      "metadata": {
        "id": "vOH14V5MeH4J",
        "colab_type": "code",
        "colab": {}
      },
      "source": [
        "reply_aggr_df = pd.DataFrame(reply_aggr_df).reset_index()\n",
        "reply_aggr_df.columns = ['push_tag', 'source', 'target', 'reply_date', 'cnt']"
      ],
      "execution_count": 0,
      "outputs": []
    },
    {
      "cell_type": "code",
      "metadata": {
        "id": "HPc3yVr8kRWQ",
        "colab_type": "code",
        "outputId": "7633f6d7-95c5-4c84-caba-ef6866612268",
        "colab": {
          "base_uri": "https://localhost:8080/",
          "height": 34
        }
      },
      "source": [
        "reply_aggr_df.shape"
      ],
      "execution_count": 0,
      "outputs": [
        {
          "output_type": "execute_result",
          "data": {
            "text/plain": [
              "(2361592, 5)"
            ]
          },
          "metadata": {
            "tags": []
          },
          "execution_count": 99
        }
      ]
    },
    {
      "cell_type": "code",
      "metadata": {
        "id": "fUYQN_Xrcfq1",
        "colab_type": "code",
        "colab": {}
      },
      "source": [
        "reply_aggr_df.to_csv(path + 'hate_pol_edge_aggr.csv')"
      ],
      "execution_count": 0,
      "outputs": []
    },
    {
      "cell_type": "code",
      "metadata": {
        "id": "2K2H-XK5Yj6m",
        "colab_type": "code",
        "colab": {}
      },
      "source": [
        "# reply_df['push'] = np.where(reply_df.push_tag == 'push',1,0)\n",
        "# reply_df['neutral'] = np.where(reply_df.push_tag == 'neutral',1,0)\n",
        "# reply_df['boo'] = np.where(reply_df.push_tag == 'boo',1,0)\n",
        "\n",
        "\n",
        "#reply_df[reply_df.target == 'mark2165'].groupby(['source', 'target']).count()"
      ],
      "execution_count": 0,
      "outputs": []
    },
    {
      "cell_type": "markdown",
      "metadata": {
        "id": "RvkEkLw97g3S",
        "colab_type": "text"
      },
      "source": [
        "## 5. 把DataFrame轉為有向圖"
      ]
    },
    {
      "cell_type": "code",
      "metadata": {
        "id": "SgIvDqzfRFgf",
        "colab_type": "code",
        "outputId": "99f93c7d-846e-4084-8988-8e2517338c60",
        "colab": {
          "base_uri": "https://localhost:8080/",
          "height": 204
        }
      },
      "source": [
        "reply_df.head()"
      ],
      "execution_count": 0,
      "outputs": [
        {
          "output_type": "execute_result",
          "data": {
            "text/html": [
              "<div>\n",
              "<style scoped>\n",
              "    .dataframe tbody tr th:only-of-type {\n",
              "        vertical-align: middle;\n",
              "    }\n",
              "\n",
              "    .dataframe tbody tr th {\n",
              "        vertical-align: top;\n",
              "    }\n",
              "\n",
              "    .dataframe thead th {\n",
              "        text-align: right;\n",
              "    }\n",
              "</style>\n",
              "<table border=\"1\" class=\"dataframe\">\n",
              "  <thead>\n",
              "    <tr style=\"text-align: right;\">\n",
              "      <th></th>\n",
              "      <th>push_tag</th>\n",
              "      <th>source</th>\n",
              "      <th>target</th>\n",
              "      <th>reply_datetime</th>\n",
              "      <th>ip</th>\n",
              "      <th>push</th>\n",
              "      <th>neutral</th>\n",
              "      <th>boo</th>\n",
              "    </tr>\n",
              "  </thead>\n",
              "  <tbody>\n",
              "    <tr>\n",
              "      <th>0</th>\n",
              "      <td>推</td>\n",
              "      <td>askemm</td>\n",
              "      <td>Sparkle001</td>\n",
              "      <td>2019-06-18 06:15:00</td>\n",
              "      <td>114.32.32.195</td>\n",
              "      <td>1</td>\n",
              "      <td>0</td>\n",
              "      <td>0</td>\n",
              "    </tr>\n",
              "    <tr>\n",
              "      <th>1</th>\n",
              "      <td>→</td>\n",
              "      <td>markyu64</td>\n",
              "      <td>Sparkle001</td>\n",
              "      <td>2019-06-18 06:17:00</td>\n",
              "      <td>36.229.130.52</td>\n",
              "      <td>0</td>\n",
              "      <td>1</td>\n",
              "      <td>0</td>\n",
              "    </tr>\n",
              "    <tr>\n",
              "      <th>2</th>\n",
              "      <td>→</td>\n",
              "      <td>markyu64</td>\n",
              "      <td>Sparkle001</td>\n",
              "      <td>2019-06-18 06:19:00</td>\n",
              "      <td>36.229.130.52</td>\n",
              "      <td>0</td>\n",
              "      <td>1</td>\n",
              "      <td>0</td>\n",
              "    </tr>\n",
              "    <tr>\n",
              "      <th>3</th>\n",
              "      <td>→</td>\n",
              "      <td>markyu64</td>\n",
              "      <td>Sparkle001</td>\n",
              "      <td>2019-06-18 06:20:00</td>\n",
              "      <td>36.229.130.52</td>\n",
              "      <td>0</td>\n",
              "      <td>1</td>\n",
              "      <td>0</td>\n",
              "    </tr>\n",
              "    <tr>\n",
              "      <th>4</th>\n",
              "      <td>推</td>\n",
              "      <td>echoesofneko</td>\n",
              "      <td>Sparkle001</td>\n",
              "      <td>2019-06-18 06:25:00</td>\n",
              "      <td>61.230.33.229</td>\n",
              "      <td>1</td>\n",
              "      <td>0</td>\n",
              "      <td>0</td>\n",
              "    </tr>\n",
              "  </tbody>\n",
              "</table>\n",
              "</div>"
            ],
            "text/plain": [
              "  push_tag        source      target  ... push neutral  boo\n",
              "0        推        askemm  Sparkle001  ...    1       0    0\n",
              "1        →      markyu64  Sparkle001  ...    0       1    0\n",
              "2        →      markyu64  Sparkle001  ...    0       1    0\n",
              "3        →      markyu64  Sparkle001  ...    0       1    0\n",
              "4        推  echoesofneko  Sparkle001  ...    1       0    0\n",
              "\n",
              "[5 rows x 8 columns]"
            ]
          },
          "metadata": {
            "tags": []
          },
          "execution_count": 34
        }
      ]
    },
    {
      "cell_type": "code",
      "metadata": {
        "id": "kpHbi3ku7g3S",
        "colab_type": "code",
        "colab": {}
      },
      "source": [
        "G = nx.from_pandas_edgelist(reply_df, source='source', target='target', create_using=nx.DiGraph())"
      ],
      "execution_count": 0,
      "outputs": []
    },
    {
      "cell_type": "markdown",
      "metadata": {
        "id": "iB2uuBzS7g3T",
        "colab_type": "text"
      },
      "source": [
        "### 5-1. 看一下degree(in_degree + out_degree)前10名吧!\n",
        "#### out-degree 外度數: 某個id留言給不同 id的數量\n",
        "#### in-degree 輸入度: 某個id「被留言」的不同id數量\n",
        "#### 翻譯名稱參考：http://terms.naer.edu.tw/detail/2378473/"
      ]
    },
    {
      "cell_type": "code",
      "metadata": {
        "id": "3JacN9xK7g3T",
        "colab_type": "code",
        "outputId": "aebcacf3-6525-48df-9fc1-7345a2038983",
        "colab": {
          "base_uri": "https://localhost:8080/",
          "height": 527
        }
      },
      "source": [
        "#設定top幾\n",
        "#degree不高  但是  推文高, 代表有高度集中性\n",
        "rnk = 30\n",
        "\n",
        "deg_g = dict(G.degree)\n",
        "top_deg_node = [ x[0] for x in sorted(deg_g.items(), key=operator.itemgetter(1), reverse=True)[:rnk]]\n",
        "sorted(deg_g.items(), key=operator.itemgetter(1), reverse=True)[:rnk]"
      ],
      "execution_count": 0,
      "outputs": [
        {
          "output_type": "execute_result",
          "data": {
            "text/plain": [
              "[('butt1106', 5145),\n",
              " ('diefishfish', 4458),\n",
              " ('KingKingCold', 4417),\n",
              " ('omanorboyo', 4266),\n",
              " ('Wojnarowski', 3994),\n",
              " ('yuxds', 3911),\n",
              " ('howiekuohr', 3764),\n",
              " ('WeiKitten', 3758),\n",
              " ('ebsd', 3707),\n",
              " ('sunyeah', 3588),\n",
              " ('jojoway', 3572),\n",
              " ('kero2377', 3542),\n",
              " ('amego2017', 3541),\n",
              " ('ben108472', 3475),\n",
              " ('TheoEpstein', 3461),\n",
              " ('ymuit', 3442),\n",
              " ('cjol', 3427),\n",
              " ('cat886688', 3402),\n",
              " ('', 3318),\n",
              " ('yishiuelin', 3248),\n",
              " ('c1951', 3243),\n",
              " ('Sinreigensou', 3159),\n",
              " ('zxcelephant', 3080),\n",
              " ('tamecat', 3034),\n",
              " ('PanzerGuP', 2999),\n",
              " ('kapasky', 2997),\n",
              " ('wizardfizban', 2989),\n",
              " ('mark2165', 2849),\n",
              " ('wishcrystal', 2849),\n",
              " ('outdowave', 2841)]"
            ]
          },
          "metadata": {
            "tags": []
          },
          "execution_count": 36
        }
      ]
    },
    {
      "cell_type": "markdown",
      "metadata": {
        "id": "Hgx32QKO7g3W",
        "colab_type": "text"
      },
      "source": [
        "### 5-2. 看一下pagerank前10名吧!"
      ]
    },
    {
      "cell_type": "code",
      "metadata": {
        "id": "RHaVIZbi7g3W",
        "colab_type": "code",
        "outputId": "6f55215d-4b8c-48f3-800c-ef580438a930",
        "colab": {
          "base_uri": "https://localhost:8080/",
          "height": 527
        }
      },
      "source": [
        "pg_rnk_g = nx.pagerank(G)\n",
        "top_pg_rnk_node = [ x[0] for x in sorted(pg_rnk_g.items(), key=operator.itemgetter(1), reverse=True)[:rnk]]\n",
        "sorted(pg_rnk_g.items(), key=operator.itemgetter(1), reverse=True)[:rnk]"
      ],
      "execution_count": 0,
      "outputs": [
        {
          "output_type": "execute_result",
          "data": {
            "text/plain": [
              "[('', 0.007339350727974433),\n",
              " ('butt1106', 0.005635132598608863),\n",
              " ('AskWhat', 0.005095127566004633),\n",
              " ('Neptunium', 0.005058417280781773),\n",
              " ('diefishfish', 0.004471567004356932),\n",
              " ('cjol', 0.00435005597652126),\n",
              " ('Wojnarowski', 0.003952184498467985),\n",
              " ('ymuit', 0.003935776960287192),\n",
              " ('amego2017', 0.003907878985922581),\n",
              " ('KingKingCold', 0.003890969839081447),\n",
              " ('vikk33', 0.0037492535019763985),\n",
              " ('sunyeah', 0.0036624907031514793),\n",
              " ('omanorboyo', 0.0035360912693231388),\n",
              " ('Reewalker', 0.0033174370920292092),\n",
              " ('TheoEpstein', 0.0032829316731366204),\n",
              " ('kero2377', 0.0031715458341216767),\n",
              " ('cat886688', 0.00316399443648128),\n",
              " ('PanzerGuP', 0.0030611916223706754),\n",
              " ('jojoway', 0.0028961655575377838),\n",
              " ('ebsd', 0.0027852499101254364),\n",
              " ('mark2165', 0.002722115744554707),\n",
              " ('jobli', 0.0026727947876327416),\n",
              " ('luke7212', 0.0026563361141518386),\n",
              " ('yuxds', 0.0026530945079800625),\n",
              " ('oftisa', 0.002652602331331273),\n",
              " ('kapasky', 0.00262025880692198),\n",
              " ('hong888', 0.00258757589840407),\n",
              " ('papamama007', 0.0025768224667757074),\n",
              " ('WeiKitten', 0.0025657527757356343),\n",
              " ('Fant1408', 0.0024977774291545284)]"
            ]
          },
          "metadata": {
            "tags": []
          },
          "execution_count": 37
        }
      ]
    },
    {
      "cell_type": "code",
      "metadata": {
        "id": "v24SHBHc7g3X",
        "colab_type": "code",
        "outputId": "132a3c75-1e14-4503-9a81-0fc2f250ef59",
        "colab": {
          "base_uri": "https://localhost:8080/",
          "height": 527
        }
      },
      "source": [
        "sorted(pg_rnk_g.items(), key=operator.itemgetter(1), reverse=True)[:rnk]"
      ],
      "execution_count": 0,
      "outputs": [
        {
          "output_type": "execute_result",
          "data": {
            "text/plain": [
              "[('', 0.007339350727974433),\n",
              " ('butt1106', 0.005635132598608863),\n",
              " ('AskWhat', 0.005095127566004633),\n",
              " ('Neptunium', 0.005058417280781773),\n",
              " ('diefishfish', 0.004471567004356932),\n",
              " ('cjol', 0.00435005597652126),\n",
              " ('Wojnarowski', 0.003952184498467985),\n",
              " ('ymuit', 0.003935776960287192),\n",
              " ('amego2017', 0.003907878985922581),\n",
              " ('KingKingCold', 0.003890969839081447),\n",
              " ('vikk33', 0.0037492535019763985),\n",
              " ('sunyeah', 0.0036624907031514793),\n",
              " ('omanorboyo', 0.0035360912693231388),\n",
              " ('Reewalker', 0.0033174370920292092),\n",
              " ('TheoEpstein', 0.0032829316731366204),\n",
              " ('kero2377', 0.0031715458341216767),\n",
              " ('cat886688', 0.00316399443648128),\n",
              " ('PanzerGuP', 0.0030611916223706754),\n",
              " ('jojoway', 0.0028961655575377838),\n",
              " ('ebsd', 0.0027852499101254364),\n",
              " ('mark2165', 0.002722115744554707),\n",
              " ('jobli', 0.0026727947876327416),\n",
              " ('luke7212', 0.0026563361141518386),\n",
              " ('yuxds', 0.0026530945079800625),\n",
              " ('oftisa', 0.002652602331331273),\n",
              " ('kapasky', 0.00262025880692198),\n",
              " ('hong888', 0.00258757589840407),\n",
              " ('papamama007', 0.0025768224667757074),\n",
              " ('WeiKitten', 0.0025657527757356343),\n",
              " ('Fant1408', 0.0024977774291545284)]"
            ]
          },
          "metadata": {
            "tags": []
          },
          "execution_count": 38
        }
      ]
    },
    {
      "cell_type": "code",
      "metadata": {
        "id": "RLybknam7g3Z",
        "colab_type": "code",
        "colab": {}
      },
      "source": [
        "#nx.write_gexf(G, path='ptt_201905.gexf')"
      ],
      "execution_count": 0,
      "outputs": []
    },
    {
      "cell_type": "code",
      "metadata": {
        "scrolled": false,
        "id": "k04fhWn07g3a",
        "colab_type": "code",
        "colab": {}
      },
      "source": [
        "plt.figure(figsize=(12, 12))#nodelist\n",
        "nx.draw_networkx(G, with_labels=True, nodelist=top_pg_rnk_node, labels={x:x for x in top_pg_rnk_node})\n",
        "plt.show()"
      ],
      "execution_count": 0,
      "outputs": []
    },
    {
      "cell_type": "code",
      "metadata": {
        "scrolled": false,
        "id": "4e5GaV4R7g3b",
        "colab_type": "code",
        "outputId": "1e67ec01-deec-4631-fb97-022b3c1f8671",
        "colab": {}
      },
      "source": [
        "Image(filename = 'ptt.jpg')"
      ],
      "execution_count": 0,
      "outputs": [
        {
          "output_type": "execute_result",
          "data": {
            "image/jpeg": "[encoded data removed]",
            "text/plain": [
              "<IPython.core.display.Image object>"
            ]
          },
          "metadata": {
            "tags": []
          },
          "execution_count": 17
        }
      ]
    },
    {
      "cell_type": "markdown",
      "metadata": {
        "id": "M6UfLtz77g3d",
        "colab_type": "text"
      },
      "source": [
        "# ToDo\n",
        "#### 1. https://pttpedia.fandom.com/zh/wiki/KingKingCold 比對ptt名人\n",
        "#### 2. 解析ip(國家) 與 回文時間\n",
        "#### 3. 增加資料區間\n",
        "#### 4. 研究其他graph file format，優化效能\n",
        "#### 5. [研究community detection](https://kknews.cc/zh-tw/news/pp5olqz.html)\n",
        "#### 6. [igraph](http://landcareweb.com/questions/4756/igraphzhong-she-qu-jian-ce-suan-fa-zhi-jian-you-shi-yao-qu-bie)\n",
        "#### 7. [add dynamic graph](https://seinecle.github.io/gephi-tutorials/generated-html/converting-a-network-with-dates-into-dynamic.html#_1_dynamic_nodes_with_a_start_date)"
      ]
    }
  ]
}