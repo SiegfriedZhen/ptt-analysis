{
  "nbformat": 4,
  "nbformat_minor": 0,
  "metadata": {
    "colab": {
      "name": "ptt_feature_engineering.ipynb",
      "provenance": [],
      "collapsed_sections": [],
      "include_colab_link": true
    },
    "kernelspec": {
      "name": "python3",
      "display_name": "Python 3"
    },
    "accelerator": "TPU"
  },
  "cells": [
    {
      "cell_type": "markdown",
      "metadata": {
        "id": "view-in-github",
        "colab_type": "text"
      },
      "source": [
        "<a href=\"https://colab.research.google.com/github/SiegfriedZhen/ptt-analysis/blob/master/ptt_feature_engineering.ipynb\" target=\"_parent\"><img src=\"https://colab.research.google.com/assets/colab-badge.svg\" alt=\"Open In Colab\"/></a>"
      ]
    },
    {
      "cell_type": "code",
      "metadata": {
        "id": "MeRpPNkroCPh",
        "colab_type": "code",
        "colab": {}
      },
      "source": [
        "# install packages\n",
        "#!pip install pyLDAvis\n",
        "#!pip install -U ckiptagger[tfgpu,gdown]\n",
        "\n",
        "#import pyLDAvis#所需可视化模块\n",
        "#import pyLDAvis.sklearn\n",
        "# loading your Google drive\n",
        "from google.colab import drive\n",
        "import pandas as pd\n",
        "\n",
        "import jieba\n",
        "import jieba.analyse\n",
        "#from ckiptagger import data_utils, construct_dictionary, WS, POS, NER\n",
        "\n",
        "import gc\n",
        "import os\n",
        "import time\n",
        "import requests\n",
        "from bs4 import BeautifulSoup"
      ],
      "execution_count": 0,
      "outputs": []
    },
    {
      "cell_type": "code",
      "metadata": {
        "id": "pEvhBTslF885",
        "colab_type": "code",
        "colab": {}
      },
      "source": [
        "#The default version of TensorFlow in Colab will soon switch to TensorFlow 2.x.\n",
        "#We recommend you upgrade now or ensure your notebook will continue to use TensorFlow 1.x via the %tensorflow_version 1.x magic: more info.\n",
        "\n",
        "#https://www.tensorflow.org/guide/migrate\n",
        "#https://colab.research.google.com/notebooks/tensorflow_version.ipynb"
      ],
      "execution_count": 0,
      "outputs": []
    },
    {
      "cell_type": "markdown",
      "metadata": {
        "id": "kQnGT56nuXJN",
        "colab_type": "text"
      },
      "source": [
        "https://github.com/crownpku/Awesome-Chinese-NLP\n",
        "\n",
        "#Tasks:\n",
        "##1. find pos/neg samples\n",
        "##2. feature engineering\n",
        "#### (1) networking\n",
        "#### (2) statistics \n",
        "##3. modeling\n",
        "#### (1) scikit\n",
        "#### (2) cat-boost\n",
        "ref:  public opinion sys in acnia http://learn.iis.sinica.edu.tw:9187/\n"
      ]
    },
    {
      "cell_type": "code",
      "metadata": {
        "id": "zSRal7ugBtYY",
        "colab_type": "code",
        "outputId": "d67fed05-17bc-486f-c02d-6a12c23db4cc",
        "colab": {
          "base_uri": "https://localhost:8080/",
          "height": 170
        }
      },
      "source": [
        "drive.mount('/content/drive/', force_remount=True)\n",
        "path = '/content/drive/My Drive/side project/20191109_ptt_analysis/'\n",
        "os.listdir(path)"
      ],
      "execution_count": 19,
      "outputs": [
        {
          "output_type": "stream",
          "text": [
            "Mounted at /content/drive/\n"
          ],
          "name": "stdout"
        },
        {
          "output_type": "execute_result",
          "data": {
            "text/plain": [
              "['text_clustering.ipynb',\n",
              " 'bert_for_ptt.ipynb',\n",
              " 'ptt_setence_embedding.ipynb',\n",
              " 'ptt_ana2.ipynb',\n",
              " 'OCF_project_ptt_gossip_etl_20191023.ipynb',\n",
              " 'ptt_etl.ipynb',\n",
              " 'LDA_viz.ipynb',\n",
              " 'HatePolitics-0-4062.json']"
            ]
          },
          "metadata": {
            "tags": []
          },
          "execution_count": 19
        }
      ]
    },
    {
      "cell_type": "code",
      "metadata": {
        "id": "rmep4myujOjr",
        "colab_type": "code",
        "colab": {}
      },
      "source": [
        "#for root, subdirs, files in os.walk('./'):\n",
        "#    print(root, subdirs, files)"
      ],
      "execution_count": 0,
      "outputs": []
    },
    {
      "cell_type": "code",
      "metadata": {
        "id": "4umS3YScoKrN",
        "colab_type": "code",
        "colab": {}
      },
      "source": [
        "ht_file = path + 'HatePolitics-0-4062.json'\n",
        "hate_df = pd.read_json(ht_file, encoding='utf8')"
      ],
      "execution_count": 0,
      "outputs": []
    },
    {
      "cell_type": "code",
      "metadata": {
        "id": "6xK3ZujGerkr",
        "colab_type": "code",
        "outputId": "e79b4bc4-3b15-4871-940c-9f0b3fab1b7a",
        "colab": {
          "base_uri": "https://localhost:8080/",
          "height": 34
        }
      },
      "source": [
        "hate_df.shape"
      ],
      "execution_count": 22,
      "outputs": [
        {
          "output_type": "execute_result",
          "data": {
            "text/plain": [
              "(78942, 1)"
            ]
          },
          "metadata": {
            "tags": []
          },
          "execution_count": 22
        }
      ]
    },
    {
      "cell_type": "code",
      "metadata": {
        "id": "7RKihd58oTuf",
        "colab_type": "code",
        "colab": {}
      },
      "source": [
        "def ptt_json_to_df(ptt_df):\n",
        "  art_df = []\n",
        "  invalid_lst = []\n",
        "  for x in ptt_df.itertuples():\n",
        "    #some inconsistent page failed!\n",
        "    if x.articles == {'error': 'invalid url'}:\n",
        "        print('invalid record')\n",
        "        print(x.Index)\n",
        "        invalid_lst.append(x)\n",
        "        continue\n",
        "    art = pd.DataFrame([x.articles])  \n",
        "    ##如果發文沒有人推或作者是None，直接濾除\n",
        "    if art.messages[0] == []:\n",
        "        invalid_lst.append(x)\n",
        "        continue\n",
        "    elif art.author[0] is None:\n",
        "        print('invalid author')\n",
        "        #print(x.articles)\n",
        "        invalid_lst.append(x)\n",
        "        continue\n",
        "    \n",
        "    art.author = art.author.replace(r'\\([^)]*\\)', '',regex=True).values[0].replace(' ', '')\n",
        "    #fixing package typo of columns\n",
        "    art.rename({'message_conut':'message_count'}, axis=1, inplace=True)\n",
        "    reply_aggr = pd.DataFrame(art.message_count.values[0], index=[0])\n",
        "    art.drop(['message_count'], axis=1, inplace=True)\n",
        "    art = pd.concat([art, reply_aggr], axis=1)\n",
        "    art_df.append(art)\n",
        "  return art_df"
      ],
      "execution_count": 0,
      "outputs": []
    },
    {
      "cell_type": "code",
      "metadata": {
        "id": "W-j9qxUkoUlA",
        "colab_type": "code",
        "colab": {
          "base_uri": "https://localhost:8080/",
          "height": 1000
        },
        "outputId": "ee87f25e-fdf3-4e9c-fb51-535488a9e27c"
      },
      "source": [
        "hate_df_t1 = ptt_json_to_df(hate_df)\n",
        "hate_df_t2 = pd.concat(hate_df_t1)"
      ],
      "execution_count": 24,
      "outputs": [
        {
          "output_type": "stream",
          "text": [
            "invalid record\n",
            "8210\n",
            "invalid record\n",
            "9353\n",
            "invalid record\n",
            "21871\n",
            "invalid record\n",
            "21890\n",
            "invalid record\n",
            "21898\n",
            "invalid record\n",
            "21908\n",
            "invalid record\n",
            "21918\n",
            "invalid record\n",
            "21935\n",
            "invalid record\n",
            "21939\n",
            "invalid record\n",
            "22832\n",
            "invalid record\n",
            "22856\n",
            "invalid record\n",
            "22898\n",
            "invalid record\n",
            "22924\n",
            "invalid record\n",
            "23519\n",
            "invalid record\n",
            "23525\n",
            "invalid record\n",
            "23533\n",
            "invalid record\n",
            "28836\n",
            "invalid record\n",
            "34594\n",
            "invalid record\n",
            "34595\n",
            "invalid record\n",
            "34596\n",
            "invalid record\n",
            "34597\n",
            "invalid record\n",
            "34598\n",
            "invalid record\n",
            "34599\n",
            "invalid record\n",
            "34600\n",
            "invalid record\n",
            "34601\n",
            "invalid record\n",
            "34602\n",
            "invalid record\n",
            "34603\n",
            "invalid record\n",
            "34604\n",
            "invalid record\n",
            "34605\n",
            "invalid record\n",
            "34606\n",
            "invalid record\n",
            "34607\n",
            "invalid record\n",
            "34608\n",
            "invalid record\n",
            "34609\n",
            "invalid record\n",
            "34610\n",
            "invalid author\n",
            "invalid author\n",
            "invalid author\n",
            "invalid record\n",
            "57989\n",
            "invalid record\n",
            "57990\n",
            "invalid record\n",
            "57991\n",
            "invalid record\n",
            "57992\n",
            "invalid author\n"
          ],
          "name": "stdout"
        }
      ]
    },
    {
      "cell_type": "markdown",
      "metadata": {
        "id": "99uPjPj4IAoj",
        "colab_type": "text"
      },
      "source": [
        "# time formate transform"
      ]
    },
    {
      "cell_type": "code",
      "metadata": {
        "id": "uCBUvAQwDrc1",
        "colab_type": "code",
        "colab": {}
      },
      "source": [
        "#what if no time formate\n",
        "\n",
        "hate_df_t2.date = pd.to_datetime(hate_df_t2.date, format='%a %b %d %H:%M:%S %Y', errors='coerce')\n",
        "hate_df_t2['re_flag'] = hate_df_t2.article_title.str.contains('Re')"
      ],
      "execution_count": 0,
      "outputs": []
    },
    {
      "cell_type": "code",
      "metadata": {
        "id": "eKNWIH7nIbPb",
        "colab_type": "code",
        "outputId": "676ad24c-b93f-4736-d6a6-a65ddcabbbcd",
        "colab": {
          "base_uri": "https://localhost:8080/",
          "height": 51
        }
      },
      "source": [
        "print(hate_df_t2.date.min())\n",
        "print(hate_df_t2.date.max())"
      ],
      "execution_count": 26,
      "outputs": [
        {
          "output_type": "stream",
          "text": [
            "2006-04-03 23:54:45\n",
            "2019-10-18 08:10:04\n"
          ],
          "name": "stdout"
        }
      ]
    },
    {
      "cell_type": "code",
      "metadata": {
        "id": "OyH02LpMIbT_",
        "colab_type": "code",
        "outputId": "2bc474e1-9dbf-475c-f52e-3fde97a725f0",
        "colab": {
          "base_uri": "https://localhost:8080/",
          "height": 296
        }
      },
      "source": [
        "_t = hate_df_t2.date.astype(str).str[:10]\n",
        "#4 month\n",
        "_t.groupby(_t).count()[-130:].plot()"
      ],
      "execution_count": 30,
      "outputs": [
        {
          "output_type": "execute_result",
          "data": {
            "text/plain": [
              "<matplotlib.axes._subplots.AxesSubplot at 0x7fa519d235c0>"
            ]
          },
          "metadata": {
            "tags": []
          },
          "execution_count": 30
        },
        {
          "output_type": "display_data",
          "data": {
            "image/png": "[encoded data removed]",
            "text/plain": [
              "<Figure size 432x288 with 1 Axes>"
            ]
          },
          "metadata": {
            "tags": []
          }
        }
      ]
    },
    {
      "cell_type": "code",
      "metadata": {
        "id": "X4poeNMhIbXx",
        "colab_type": "code",
        "outputId": "e246870a-f6bd-4408-c56d-48f23e6247d8",
        "colab": {
          "base_uri": "https://localhost:8080/",
          "height": 238
        }
      },
      "source": [
        "_t.groupby(_t).count()[-120:]\n",
        "#2019-06-23 ~ 10-15"
      ],
      "execution_count": 31,
      "outputs": [
        {
          "output_type": "execute_result",
          "data": {
            "text/plain": [
              "date\n",
              "2019-06-19      4\n",
              "2019-06-20      1\n",
              "2019-06-21      3\n",
              "2019-06-22      3\n",
              "2019-06-23    850\n",
              "             ... \n",
              "2019-10-14    471\n",
              "2019-10-15    511\n",
              "2019-10-16      1\n",
              "2019-10-18      1\n",
              "NaT           264\n",
              "Name: date, Length: 120, dtype: int64"
            ]
          },
          "metadata": {
            "tags": []
          },
          "execution_count": 31
        }
      ]
    },
    {
      "cell_type": "code",
      "metadata": {
        "id": "Ve9pqFYTxTw-",
        "colab_type": "code",
        "colab": {}
      },
      "source": [
        "art_df = hate_df_t2\n",
        "\n",
        "art_cnt = art_df.groupby('author', as_index=False)['article_id'].count()\n",
        "author_attr = art_df.groupby('author', as_index=False)['all', 'boo', 'count', 'neutral', 'push'].sum()\n",
        "author_attr = author_attr.merge(art_cnt, how='left', on='author').rename({'article_id':'art_cnt'}, axis=1)\n",
        "author_attr.rename({'author':'Id'}, axis=1, inplace=True)"
      ],
      "execution_count": 0,
      "outputs": []
    },
    {
      "cell_type": "code",
      "metadata": {
        "id": "NHJXLVVHyQdM",
        "colab_type": "code",
        "colab": {}
      },
      "source": [
        "url = 'https://pttpedia.fandom.com/zh/wiki/%E5%88%86%E9%A1%9E:PTT%E5%90%8D%E4%BA%BA'\n",
        "rs = requests.get(url)\n",
        "soup = BeautifulSoup(rs.content)"
      ],
      "execution_count": 0,
      "outputs": []
    },
    {
      "cell_type": "code",
      "metadata": {
        "id": "nwih043dylKF",
        "colab_type": "code",
        "colab": {}
      },
      "source": [
        "known_id = []\n",
        "\n",
        "for x in soup.select('.category-page__member-link'):\n",
        "    #print(x)\n",
        "    temp_id = x.text.replace(' ', '').split('(')[0].split('（')[0]\n",
        "    known_id.append(temp_id)\n",
        "    print(temp_id)"
      ],
      "execution_count": 0,
      "outputs": []
    },
    {
      "cell_type": "code",
      "metadata": {
        "id": "0mtVh2uFylMw",
        "colab_type": "code",
        "colab": {
          "base_uri": "https://localhost:8080/",
          "height": 669
        },
        "outputId": "e6e74539-c013-4abd-c563-33b45ef3b4ca"
      },
      "source": [
        "author_attr.sort_values('push', ascending=False)[:20]"
      ],
      "execution_count": 66,
      "outputs": [
        {
          "output_type": "execute_result",
          "data": {
            "text/html": [
              "<div>\n",
              "<style scoped>\n",
              "    .dataframe tbody tr th:only-of-type {\n",
              "        vertical-align: middle;\n",
              "    }\n",
              "\n",
              "    .dataframe tbody tr th {\n",
              "        vertical-align: top;\n",
              "    }\n",
              "\n",
              "    .dataframe thead th {\n",
              "        text-align: right;\n",
              "    }\n",
              "</style>\n",
              "<table border=\"1\" class=\"dataframe\">\n",
              "  <thead>\n",
              "    <tr style=\"text-align: right;\">\n",
              "      <th></th>\n",
              "      <th>Id</th>\n",
              "      <th>all</th>\n",
              "      <th>boo</th>\n",
              "      <th>count</th>\n",
              "      <th>neutral</th>\n",
              "      <th>push</th>\n",
              "      <th>art_cnt</th>\n",
              "    </tr>\n",
              "  </thead>\n",
              "  <tbody>\n",
              "    <tr>\n",
              "      <th>985</th>\n",
              "      <td>Wojnarowski</td>\n",
              "      <td>41339</td>\n",
              "      <td>5709</td>\n",
              "      <td>10046</td>\n",
              "      <td>19875</td>\n",
              "      <td>15755</td>\n",
              "      <td>348</td>\n",
              "    </tr>\n",
              "    <tr>\n",
              "      <th>2881</th>\n",
              "      <td>kero2377</td>\n",
              "      <td>34441</td>\n",
              "      <td>1873</td>\n",
              "      <td>9923</td>\n",
              "      <td>20772</td>\n",
              "      <td>11796</td>\n",
              "      <td>467</td>\n",
              "    </tr>\n",
              "    <tr>\n",
              "      <th>3476</th>\n",
              "      <td>nicholas0406</td>\n",
              "      <td>24728</td>\n",
              "      <td>2847</td>\n",
              "      <td>5127</td>\n",
              "      <td>13907</td>\n",
              "      <td>7974</td>\n",
              "      <td>438</td>\n",
              "    </tr>\n",
              "    <tr>\n",
              "      <th>2455</th>\n",
              "      <td>hithaman</td>\n",
              "      <td>10534</td>\n",
              "      <td>197</td>\n",
              "      <td>7324</td>\n",
              "      <td>2816</td>\n",
              "      <td>7521</td>\n",
              "      <td>122</td>\n",
              "    </tr>\n",
              "    <tr>\n",
              "      <th>667</th>\n",
              "      <td>Neptunium</td>\n",
              "      <td>15330</td>\n",
              "      <td>597</td>\n",
              "      <td>6736</td>\n",
              "      <td>7400</td>\n",
              "      <td>7333</td>\n",
              "      <td>635</td>\n",
              "    </tr>\n",
              "    <tr>\n",
              "      <th>3570</th>\n",
              "      <td>omanorboyo</td>\n",
              "      <td>20583</td>\n",
              "      <td>1970</td>\n",
              "      <td>5087</td>\n",
              "      <td>11556</td>\n",
              "      <td>7057</td>\n",
              "      <td>415</td>\n",
              "    </tr>\n",
              "    <tr>\n",
              "      <th>4749</th>\n",
              "      <td>wizardfizban</td>\n",
              "      <td>18826</td>\n",
              "      <td>1036</td>\n",
              "      <td>5539</td>\n",
              "      <td>11215</td>\n",
              "      <td>6575</td>\n",
              "      <td>212</td>\n",
              "    </tr>\n",
              "    <tr>\n",
              "      <th>1992</th>\n",
              "      <td>ebsd</td>\n",
              "      <td>18328</td>\n",
              "      <td>2936</td>\n",
              "      <td>3164</td>\n",
              "      <td>9292</td>\n",
              "      <td>6100</td>\n",
              "      <td>303</td>\n",
              "    </tr>\n",
              "    <tr>\n",
              "      <th>1428</th>\n",
              "      <td>ben108472</td>\n",
              "      <td>18059</td>\n",
              "      <td>1773</td>\n",
              "      <td>4269</td>\n",
              "      <td>10244</td>\n",
              "      <td>6042</td>\n",
              "      <td>338</td>\n",
              "    </tr>\n",
              "    <tr>\n",
              "      <th>2276</th>\n",
              "      <td>girl10319</td>\n",
              "      <td>14891</td>\n",
              "      <td>1500</td>\n",
              "      <td>4282</td>\n",
              "      <td>7609</td>\n",
              "      <td>5782</td>\n",
              "      <td>259</td>\n",
              "    </tr>\n",
              "    <tr>\n",
              "      <th>4982</th>\n",
              "      <td>zxcelephant</td>\n",
              "      <td>11321</td>\n",
              "      <td>519</td>\n",
              "      <td>5162</td>\n",
              "      <td>5121</td>\n",
              "      <td>5681</td>\n",
              "      <td>165</td>\n",
              "    </tr>\n",
              "    <tr>\n",
              "      <th>4916</th>\n",
              "      <td>yuxds</td>\n",
              "      <td>17533</td>\n",
              "      <td>1325</td>\n",
              "      <td>4146</td>\n",
              "      <td>10737</td>\n",
              "      <td>5471</td>\n",
              "      <td>386</td>\n",
              "    </tr>\n",
              "    <tr>\n",
              "      <th>495</th>\n",
              "      <td>KingKingCold</td>\n",
              "      <td>9507</td>\n",
              "      <td>561</td>\n",
              "      <td>4758</td>\n",
              "      <td>3627</td>\n",
              "      <td>5319</td>\n",
              "      <td>29</td>\n",
              "    </tr>\n",
              "    <tr>\n",
              "      <th>839</th>\n",
              "      <td>Sinreigensou</td>\n",
              "      <td>16686</td>\n",
              "      <td>1198</td>\n",
              "      <td>4050</td>\n",
              "      <td>10240</td>\n",
              "      <td>5248</td>\n",
              "      <td>270</td>\n",
              "    </tr>\n",
              "    <tr>\n",
              "      <th>3868</th>\n",
              "      <td>ray90910</td>\n",
              "      <td>16815</td>\n",
              "      <td>1411</td>\n",
              "      <td>3827</td>\n",
              "      <td>10166</td>\n",
              "      <td>5238</td>\n",
              "      <td>218</td>\n",
              "    </tr>\n",
              "    <tr>\n",
              "      <th>2553</th>\n",
              "      <td>ice80712</td>\n",
              "      <td>17060</td>\n",
              "      <td>2096</td>\n",
              "      <td>3073</td>\n",
              "      <td>9795</td>\n",
              "      <td>5169</td>\n",
              "      <td>299</td>\n",
              "    </tr>\n",
              "    <tr>\n",
              "      <th>4741</th>\n",
              "      <td>winu</td>\n",
              "      <td>13029</td>\n",
              "      <td>1375</td>\n",
              "      <td>3731</td>\n",
              "      <td>6548</td>\n",
              "      <td>5106</td>\n",
              "      <td>277</td>\n",
              "    </tr>\n",
              "    <tr>\n",
              "      <th>3444</th>\n",
              "      <td>nawabonga</td>\n",
              "      <td>14302</td>\n",
              "      <td>919</td>\n",
              "      <td>4101</td>\n",
              "      <td>8363</td>\n",
              "      <td>5020</td>\n",
              "      <td>337</td>\n",
              "    </tr>\n",
              "    <tr>\n",
              "      <th>1901</th>\n",
              "      <td>diefishfish</td>\n",
              "      <td>13458</td>\n",
              "      <td>2149</td>\n",
              "      <td>2693</td>\n",
              "      <td>6467</td>\n",
              "      <td>4842</td>\n",
              "      <td>227</td>\n",
              "    </tr>\n",
              "    <tr>\n",
              "      <th>0</th>\n",
              "      <td></td>\n",
              "      <td>10182</td>\n",
              "      <td>232</td>\n",
              "      <td>4363</td>\n",
              "      <td>5355</td>\n",
              "      <td>4595</td>\n",
              "      <td>260</td>\n",
              "    </tr>\n",
              "  </tbody>\n",
              "</table>\n",
              "</div>"
            ],
            "text/plain": [
              "                Id    all   boo  count  neutral   push  art_cnt\n",
              "985    Wojnarowski  41339  5709  10046    19875  15755      348\n",
              "2881      kero2377  34441  1873   9923    20772  11796      467\n",
              "3476  nicholas0406  24728  2847   5127    13907   7974      438\n",
              "2455      hithaman  10534   197   7324     2816   7521      122\n",
              "667      Neptunium  15330   597   6736     7400   7333      635\n",
              "3570    omanorboyo  20583  1970   5087    11556   7057      415\n",
              "4749  wizardfizban  18826  1036   5539    11215   6575      212\n",
              "1992          ebsd  18328  2936   3164     9292   6100      303\n",
              "1428     ben108472  18059  1773   4269    10244   6042      338\n",
              "2276     girl10319  14891  1500   4282     7609   5782      259\n",
              "4982   zxcelephant  11321   519   5162     5121   5681      165\n",
              "4916         yuxds  17533  1325   4146    10737   5471      386\n",
              "495   KingKingCold   9507   561   4758     3627   5319       29\n",
              "839   Sinreigensou  16686  1198   4050    10240   5248      270\n",
              "3868      ray90910  16815  1411   3827    10166   5238      218\n",
              "2553      ice80712  17060  2096   3073     9795   5169      299\n",
              "4741          winu  13029  1375   3731     6548   5106      277\n",
              "3444     nawabonga  14302   919   4101     8363   5020      337\n",
              "1901   diefishfish  13458  2149   2693     6467   4842      227\n",
              "0                   10182   232   4363     5355   4595      260"
            ]
          },
          "metadata": {
            "tags": []
          },
          "execution_count": 66
        }
      ]
    },
    {
      "cell_type": "code",
      "metadata": {
        "id": "MOpJef7Jxe7d",
        "colab_type": "code",
        "colab": {
          "base_uri": "https://localhost:8080/",
          "height": 374
        },
        "outputId": "f353ce09-51cc-4635-a455-03e80ceee006"
      },
      "source": [
        "author_attr.sort_values('push', ascending=False)[:20].Id.isin(known_id)"
      ],
      "execution_count": 64,
      "outputs": [
        {
          "output_type": "execute_result",
          "data": {
            "text/plain": [
              "985     False\n",
              "2881    False\n",
              "3476    False\n",
              "2455    False\n",
              "667     False\n",
              "3570    False\n",
              "4749    False\n",
              "1992    False\n",
              "1428    False\n",
              "2276    False\n",
              "4982    False\n",
              "4916    False\n",
              "495      True\n",
              "839     False\n",
              "3868    False\n",
              "2553    False\n",
              "4741    False\n",
              "3444    False\n",
              "1901    False\n",
              "0       False\n",
              "Name: Id, dtype: bool"
            ]
          },
          "metadata": {
            "tags": []
          },
          "execution_count": 64
        }
      ]
    },
    {
      "cell_type": "markdown",
      "metadata": {
        "id": "Mg2eBrr2su26",
        "colab_type": "text"
      },
      "source": [
        "# reply"
      ]
    },
    {
      "cell_type": "code",
      "metadata": {
        "id": "KK0raRvfsu6M",
        "colab_type": "code",
        "colab": {
          "base_uri": "https://localhost:8080/",
          "height": 315
        },
        "outputId": "f544bab3-ec30-40f1-f208-0acdcf85938e"
      },
      "source": [
        "hate_df_t2[:3]"
      ],
      "execution_count": 35,
      "outputs": [
        {
          "output_type": "execute_result",
          "data": {
            "text/html": [
              "<div>\n",
              "<style scoped>\n",
              "    .dataframe tbody tr th:only-of-type {\n",
              "        vertical-align: middle;\n",
              "    }\n",
              "\n",
              "    .dataframe tbody tr th {\n",
              "        vertical-align: top;\n",
              "    }\n",
              "\n",
              "    .dataframe thead th {\n",
              "        text-align: right;\n",
              "    }\n",
              "</style>\n",
              "<table border=\"1\" class=\"dataframe\">\n",
              "  <thead>\n",
              "    <tr style=\"text-align: right;\">\n",
              "      <th></th>\n",
              "      <th>article_id</th>\n",
              "      <th>article_title</th>\n",
              "      <th>author</th>\n",
              "      <th>board</th>\n",
              "      <th>content</th>\n",
              "      <th>date</th>\n",
              "      <th>ip</th>\n",
              "      <th>messages</th>\n",
              "      <th>all</th>\n",
              "      <th>boo</th>\n",
              "      <th>count</th>\n",
              "      <th>neutral</th>\n",
              "      <th>push</th>\n",
              "      <th>re_flag</th>\n",
              "    </tr>\n",
              "  </thead>\n",
              "  <tbody>\n",
              "    <tr>\n",
              "      <th>0</th>\n",
              "      <td>M.1571141315.A.A38</td>\n",
              "      <td>[新聞] 台灣民眾黨第二波提名 移民署專員陳允萍</td>\n",
              "      <td>batt0909</td>\n",
              "      <td>HatePolitics</td>\n",
              "      <td>1.新聞網址 https://tinyurl.com/y59nj5jl 2.新聞來源 聯合 ...</td>\n",
              "      <td>2019-10-15 20:08:31</td>\n",
              "      <td>118.171.54.225</td>\n",
              "      <td>[{'push_content': '不是台東人 不過 聽過他的事蹟 很棒', 'push_...</td>\n",
              "      <td>11</td>\n",
              "      <td>0</td>\n",
              "      <td>9</td>\n",
              "      <td>2</td>\n",
              "      <td>9</td>\n",
              "      <td>False</td>\n",
              "    </tr>\n",
              "    <tr>\n",
              "      <th>0</th>\n",
              "      <td>M.1565594449.A.3F0</td>\n",
              "      <td></td>\n",
              "      <td></td>\n",
              "      <td>HatePolitics</td>\n",
              "      <td>作者: kero2377 (賤畜福利熊) 看板: HatePolitics 標題: [討論]...</td>\n",
              "      <td>NaT</td>\n",
              "      <td>123.194.10.195</td>\n",
              "      <td>[{'push_content': '我只看見郭台銘蓄勢以待', 'push_ipdatet...</td>\n",
              "      <td>189</td>\n",
              "      <td>11</td>\n",
              "      <td>64</td>\n",
              "      <td>103</td>\n",
              "      <td>75</td>\n",
              "      <td>False</td>\n",
              "    </tr>\n",
              "    <tr>\n",
              "      <th>0</th>\n",
              "      <td>M.1570175294.A.C5E</td>\n",
              "      <td>[公告] 政治黑特板板規_20191004_V5.4</td>\n",
              "      <td>mark2165</td>\n",
              "      <td>HatePolitics</td>\n",
              "      <td>第一章 總則 1.本板接受中華民國政府頒布之法律，教育部學術網路公約，以及PTT站方制定之站...</td>\n",
              "      <td>2019-10-04 15:48:12</td>\n",
              "      <td>111.242.230.238</td>\n",
              "      <td>[{'push_content': '修了什麼也講一下吧', 'push_ipdatetim...</td>\n",
              "      <td>5</td>\n",
              "      <td>0</td>\n",
              "      <td>2</td>\n",
              "      <td>3</td>\n",
              "      <td>2</td>\n",
              "      <td>False</td>\n",
              "    </tr>\n",
              "  </tbody>\n",
              "</table>\n",
              "</div>"
            ],
            "text/plain": [
              "           article_id               article_title  ... push re_flag\n",
              "0  M.1571141315.A.A38    [新聞] 台灣民眾黨第二波提名 移民署專員陳允萍  ...    9   False\n",
              "0  M.1565594449.A.3F0                              ...   75   False\n",
              "0  M.1570175294.A.C5E  [公告] 政治黑特板板規_20191004_V5.4  ...    2   False\n",
              "\n",
              "[3 rows x 14 columns]"
            ]
          },
          "metadata": {
            "tags": []
          },
          "execution_count": 35
        }
      ]
    },
    {
      "cell_type": "code",
      "metadata": {
        "id": "2pLkICr2su89",
        "colab_type": "code",
        "colab": {}
      },
      "source": [
        ""
      ],
      "execution_count": 0,
      "outputs": []
    },
    {
      "cell_type": "code",
      "metadata": {
        "id": "rw3ZX1ZRsu_8",
        "colab_type": "code",
        "colab": {}
      },
      "source": [
        ""
      ],
      "execution_count": 0,
      "outputs": []
    },
    {
      "cell_type": "code",
      "metadata": {
        "id": "fOo3lqi3svCR",
        "colab_type": "code",
        "colab": {}
      },
      "source": [
        ""
      ],
      "execution_count": 0,
      "outputs": []
    },
    {
      "cell_type": "markdown",
      "metadata": {
        "id": "c6Z8_vv_skOB",
        "colab_type": "text"
      },
      "source": [
        "# statistics"
      ]
    },
    {
      "cell_type": "code",
      "metadata": {
        "id": "zGF9mKrvskQZ",
        "colab_type": "code",
        "colab": {
          "base_uri": "https://localhost:8080/",
          "height": 949
        },
        "outputId": "3ceedc83-6ad0-490c-91b4-a9f953009f93"
      },
      "source": [
        "hate_df_t2"
      ],
      "execution_count": 32,
      "outputs": [
        {
          "output_type": "execute_result",
          "data": {
            "text/html": [
              "<div>\n",
              "<style scoped>\n",
              "    .dataframe tbody tr th:only-of-type {\n",
              "        vertical-align: middle;\n",
              "    }\n",
              "\n",
              "    .dataframe tbody tr th {\n",
              "        vertical-align: top;\n",
              "    }\n",
              "\n",
              "    .dataframe thead th {\n",
              "        text-align: right;\n",
              "    }\n",
              "</style>\n",
              "<table border=\"1\" class=\"dataframe\">\n",
              "  <thead>\n",
              "    <tr style=\"text-align: right;\">\n",
              "      <th></th>\n",
              "      <th>article_id</th>\n",
              "      <th>article_title</th>\n",
              "      <th>author</th>\n",
              "      <th>board</th>\n",
              "      <th>content</th>\n",
              "      <th>date</th>\n",
              "      <th>ip</th>\n",
              "      <th>messages</th>\n",
              "      <th>all</th>\n",
              "      <th>boo</th>\n",
              "      <th>count</th>\n",
              "      <th>neutral</th>\n",
              "      <th>push</th>\n",
              "      <th>re_flag</th>\n",
              "    </tr>\n",
              "  </thead>\n",
              "  <tbody>\n",
              "    <tr>\n",
              "      <th>0</th>\n",
              "      <td>M.1571141315.A.A38</td>\n",
              "      <td>[新聞] 台灣民眾黨第二波提名 移民署專員陳允萍</td>\n",
              "      <td>batt0909</td>\n",
              "      <td>HatePolitics</td>\n",
              "      <td>1.新聞網址 https://tinyurl.com/y59nj5jl 2.新聞來源 聯合 ...</td>\n",
              "      <td>2019-10-15 20:08:31</td>\n",
              "      <td>118.171.54.225</td>\n",
              "      <td>[{'push_content': '不是台東人 不過 聽過他的事蹟 很棒', 'push_...</td>\n",
              "      <td>11</td>\n",
              "      <td>0</td>\n",
              "      <td>9</td>\n",
              "      <td>2</td>\n",
              "      <td>9</td>\n",
              "      <td>False</td>\n",
              "    </tr>\n",
              "    <tr>\n",
              "      <th>0</th>\n",
              "      <td>M.1565594449.A.3F0</td>\n",
              "      <td></td>\n",
              "      <td></td>\n",
              "      <td>HatePolitics</td>\n",
              "      <td>作者: kero2377 (賤畜福利熊) 看板: HatePolitics 標題: [討論]...</td>\n",
              "      <td>NaT</td>\n",
              "      <td>123.194.10.195</td>\n",
              "      <td>[{'push_content': '我只看見郭台銘蓄勢以待', 'push_ipdatet...</td>\n",
              "      <td>189</td>\n",
              "      <td>11</td>\n",
              "      <td>64</td>\n",
              "      <td>103</td>\n",
              "      <td>75</td>\n",
              "      <td>False</td>\n",
              "    </tr>\n",
              "    <tr>\n",
              "      <th>0</th>\n",
              "      <td>M.1570175294.A.C5E</td>\n",
              "      <td>[公告] 政治黑特板板規_20191004_V5.4</td>\n",
              "      <td>mark2165</td>\n",
              "      <td>HatePolitics</td>\n",
              "      <td>第一章 總則 1.本板接受中華民國政府頒布之法律，教育部學術網路公約，以及PTT站方制定之站...</td>\n",
              "      <td>2019-10-04 15:48:12</td>\n",
              "      <td>111.242.230.238</td>\n",
              "      <td>[{'push_content': '修了什麼也講一下吧', 'push_ipdatetim...</td>\n",
              "      <td>5</td>\n",
              "      <td>0</td>\n",
              "      <td>2</td>\n",
              "      <td>3</td>\n",
              "      <td>2</td>\n",
              "      <td>False</td>\n",
              "    </tr>\n",
              "    <tr>\n",
              "      <th>0</th>\n",
              "      <td>M.1570254569.A.D42</td>\n",
              "      <td>[討論] 政黑投票結果整理</td>\n",
              "      <td>kero2377</td>\n",
              "      <td>HatePolitics</td>\n",
              "      <td>總統你錯了投票結果 投票結果:(共有 228 人投票每人最多可投 5 票) 選 項 政治鬥爭...</td>\n",
              "      <td>2019-10-05 13:49:26</td>\n",
              "      <td>123.194.10.195</td>\n",
              "      <td>[{'push_content': '厚氣氣氣', 'push_ipdatetime': '...</td>\n",
              "      <td>27</td>\n",
              "      <td>4</td>\n",
              "      <td>8</td>\n",
              "      <td>11</td>\n",
              "      <td>12</td>\n",
              "      <td>False</td>\n",
              "    </tr>\n",
              "    <tr>\n",
              "      <th>0</th>\n",
              "      <td>M.1570332617.A.90A</td>\n",
              "      <td>[公告] 2020選戰大預測活動開跑!!!!!!!!!!!</td>\n",
              "      <td>kero2377</td>\n",
              "      <td>HatePolitics</td>\n",
              "      <td>2020選戰預測大活動正式開跑 2020大選將至 各家版友的預測文也如雨後春筍般紛紛出爐 所...</td>\n",
              "      <td>2019-10-06 11:30:15</td>\n",
              "      <td>123.194.10.195</td>\n",
              "      <td>[{'push_content': '推', 'push_ipdatetime': '110...</td>\n",
              "      <td>30</td>\n",
              "      <td>6</td>\n",
              "      <td>5</td>\n",
              "      <td>13</td>\n",
              "      <td>11</td>\n",
              "      <td>False</td>\n",
              "    </tr>\n",
              "    <tr>\n",
              "      <th>...</th>\n",
              "      <td>...</td>\n",
              "      <td>...</td>\n",
              "      <td>...</td>\n",
              "      <td>...</td>\n",
              "      <td>...</td>\n",
              "      <td>...</td>\n",
              "      <td>...</td>\n",
              "      <td>...</td>\n",
              "      <td>...</td>\n",
              "      <td>...</td>\n",
              "      <td>...</td>\n",
              "      <td>...</td>\n",
              "      <td>...</td>\n",
              "      <td>...</td>\n",
              "    </tr>\n",
              "    <tr>\n",
              "      <th>0</th>\n",
              "      <td>M.1571143570.A.242</td>\n",
              "      <td>[討論] 韓國瑜再撐10天就換不掉了</td>\n",
              "      <td>RichWomen</td>\n",
              "      <td>HatePolitics</td>\n",
              "      <td>很清楚麻 不到一個月 韓國瑜就要去中選會登記 現在就是韓國瑜不被換的危急存亡之秋 不換不換不...</td>\n",
              "      <td>2019-10-15 20:46:08</td>\n",
              "      <td>36.224.44.144</td>\n",
              "      <td>[{'push_content': '笑 韓國瑜是初選大勝的最強打者', 'push_ipd...</td>\n",
              "      <td>53</td>\n",
              "      <td>2</td>\n",
              "      <td>15</td>\n",
              "      <td>34</td>\n",
              "      <td>17</td>\n",
              "      <td>False</td>\n",
              "    </tr>\n",
              "    <tr>\n",
              "      <th>0</th>\n",
              "      <td>M.1571143609.A.8FF</td>\n",
              "      <td>Re: [黑特] 台灣社運圈的悲哀與裂痕</td>\n",
              "      <td>ak47good</td>\n",
              "      <td>HatePolitics</td>\n",
              "      <td>: 引述《radiohead56 (L o S e r f a t n e r D)》之銘言...</td>\n",
              "      <td>2019-10-15 20:46:43</td>\n",
              "      <td>61.228.233.77</td>\n",
              "      <td>[{'push_content': '多標吃屎柯糞算嗎? 到處貼特別噁心', 'push_i...</td>\n",
              "      <td>1</td>\n",
              "      <td>0</td>\n",
              "      <td>1</td>\n",
              "      <td>0</td>\n",
              "      <td>1</td>\n",
              "      <td>True</td>\n",
              "    </tr>\n",
              "    <tr>\n",
              "      <th>0</th>\n",
              "      <td>M.1571144004.A.3CD</td>\n",
              "      <td>[新聞] 柯文哲稱時代力量被消化 林濁水打臉狠批</td>\n",
              "      <td>bankingpaul</td>\n",
              "      <td>HatePolitics</td>\n",
              "      <td>媒體：自由 柯文哲稱時代力量被消化 林濁水打臉狠批：龜笑鱉無尾 http://news.lt...</td>\n",
              "      <td>2019-10-15 20:53:22</td>\n",
              "      <td>110.50.159.50</td>\n",
              "      <td>[{'push_content': '那裡狠？', 'push_ipdatetime': '...</td>\n",
              "      <td>8</td>\n",
              "      <td>0</td>\n",
              "      <td>4</td>\n",
              "      <td>4</td>\n",
              "      <td>4</td>\n",
              "      <td>False</td>\n",
              "    </tr>\n",
              "    <tr>\n",
              "      <th>0</th>\n",
              "      <td>M.1571144083.A.90A</td>\n",
              "      <td>[新聞] 雙北申辦亞運 侯友宜：中央地方合作才辦</td>\n",
              "      <td>weni302</td>\n",
              "      <td>HatePolitics</td>\n",
              "      <td>1.新聞網址 https://www.cna.com.tw/news/aspt/201910...</td>\n",
              "      <td>2019-10-15 20:54:41</td>\n",
              "      <td>180.217.141.158</td>\n",
              "      <td>[{'push_content': '卡韓', 'push_ipdatetime': '22...</td>\n",
              "      <td>9</td>\n",
              "      <td>1</td>\n",
              "      <td>3</td>\n",
              "      <td>4</td>\n",
              "      <td>4</td>\n",
              "      <td>False</td>\n",
              "    </tr>\n",
              "    <tr>\n",
              "      <th>0</th>\n",
              "      <td>M.1571144424.A.47A</td>\n",
              "      <td>Re: [討論] 韓導的副手是哪位?</td>\n",
              "      <td>Alfief</td>\n",
              "      <td>HatePolitics</td>\n",
              "      <td>一定是外省籍搭配本省籍 這樣人選就很好猜了 不太可能正副總統候選人都是外省籍</td>\n",
              "      <td>2019-10-15 21:00:22</td>\n",
              "      <td>118.165.131.105</td>\n",
              "      <td>[{'push_content': '期待周金', 'push_ipdatetime': '...</td>\n",
              "      <td>9</td>\n",
              "      <td>0</td>\n",
              "      <td>3</td>\n",
              "      <td>6</td>\n",
              "      <td>3</td>\n",
              "      <td>True</td>\n",
              "    </tr>\n",
              "  </tbody>\n",
              "</table>\n",
              "<p>77421 rows × 14 columns</p>\n",
              "</div>"
            ],
            "text/plain": [
              "            article_id                  article_title  ... push re_flag\n",
              "0   M.1571141315.A.A38       [新聞] 台灣民眾黨第二波提名 移民署專員陳允萍  ...    9   False\n",
              "0   M.1565594449.A.3F0                                 ...   75   False\n",
              "0   M.1570175294.A.C5E     [公告] 政治黑特板板規_20191004_V5.4  ...    2   False\n",
              "0   M.1570254569.A.D42                  [討論] 政黑投票結果整理  ...   12   False\n",
              "0   M.1570332617.A.90A  [公告] 2020選戰大預測活動開跑!!!!!!!!!!!  ...   11   False\n",
              "..                 ...                            ...  ...  ...     ...\n",
              "0   M.1571143570.A.242             [討論] 韓國瑜再撐10天就換不掉了  ...   17   False\n",
              "0   M.1571143609.A.8FF           Re: [黑特] 台灣社運圈的悲哀與裂痕  ...    1    True\n",
              "0   M.1571144004.A.3CD       [新聞] 柯文哲稱時代力量被消化 林濁水打臉狠批  ...    4   False\n",
              "0   M.1571144083.A.90A       [新聞] 雙北申辦亞運 侯友宜：中央地方合作才辦  ...    4   False\n",
              "0   M.1571144424.A.47A             Re: [討論] 韓導的副手是哪位?  ...    3    True\n",
              "\n",
              "[77421 rows x 14 columns]"
            ]
          },
          "metadata": {
            "tags": []
          },
          "execution_count": 32
        }
      ]
    },
    {
      "cell_type": "code",
      "metadata": {
        "id": "3ZW_-bgtskTE",
        "colab_type": "code",
        "colab": {}
      },
      "source": [
        ""
      ],
      "execution_count": 0,
      "outputs": []
    },
    {
      "cell_type": "code",
      "metadata": {
        "id": "rrPXmc8RskWB",
        "colab_type": "code",
        "colab": {}
      },
      "source": [
        ""
      ],
      "execution_count": 0,
      "outputs": []
    },
    {
      "cell_type": "code",
      "metadata": {
        "id": "s3Q0I1-WskYx",
        "colab_type": "code",
        "colab": {}
      },
      "source": [
        ""
      ],
      "execution_count": 0,
      "outputs": []
    },
    {
      "cell_type": "markdown",
      "metadata": {
        "id": "kY1eTmoDf-V-",
        "colab_type": "text"
      },
      "source": [
        "features:\n",
        "ptt profiling (source\n",
        "1. create time\n",
        "\n",
        "behavior\n",
        "1. centralization (networking & statistics (distribution)\n",
        "\n",
        "協同性資訊操弄/群控引流  \n",
        "cib? \n",
        "Collaborative Information Behaviour (CIB)\n",
        "collaborative inauthentic behavior\n",
        "cio coordinate influence operatoin\n",
        "cib coordinate inauthentic behavior\n"
      ]
    },
    {
      "cell_type": "code",
      "metadata": {
        "id": "HyfFWgeOf--p",
        "colab_type": "code",
        "colab": {}
      },
      "source": [
        ""
      ],
      "execution_count": 0,
      "outputs": []
    },
    {
      "cell_type": "code",
      "metadata": {
        "id": "xzTkpyRnf_BE",
        "colab_type": "code",
        "colab": {}
      },
      "source": [
        ""
      ],
      "execution_count": 0,
      "outputs": []
    },
    {
      "cell_type": "markdown",
      "metadata": {
        "id": "6PNMzBucIba4",
        "colab_type": "text"
      },
      "source": [
        "# frequency calculation"
      ]
    },
    {
      "cell_type": "code",
      "metadata": {
        "id": "vBrQeHNRoXPX",
        "colab_type": "code",
        "colab": {}
      },
      "source": [
        "training_corpus = hate_df_t2.article_title + ' ' + hate_df_t2.content\n",
        "training_corpus.reset_index(drop=True, inplace=True)\n",
        "training_corpus = training_corpus[training_corpus.notna()]"
      ],
      "execution_count": 0,
      "outputs": []
    },
    {
      "cell_type": "code",
      "metadata": {
        "id": "P8dJADHUdjxH",
        "colab_type": "code",
        "colab": {}
      },
      "source": [
        "training_corpus = training_corpus[training_corpus.notna()]"
      ],
      "execution_count": 0,
      "outputs": []
    },
    {
      "cell_type": "code",
      "metadata": {
        "id": "3lsPhHITCCO3",
        "colab_type": "code",
        "outputId": "17aa6d22-5553-4777-c63a-f1e4ef00c65e",
        "colab": {
          "base_uri": "https://localhost:8080/",
          "height": 54
        }
      },
      "source": [
        "training_corpus[0]"
      ],
      "execution_count": 0,
      "outputs": [
        {
          "output_type": "execute_result",
          "data": {
            "text/plain": [
              "'[新聞] 台灣民眾黨第二波提名 移民署專員陳允萍 1.新聞網址 https://tinyurl.com/y59nj5jl 2.新聞來源 聯合 3.新聞內容 台灣民眾黨第二波提名 移民署專員陳允萍台東披掛上陣 20191015 18:50聯合報 記者羅紹平台東即時報導 台灣民眾黨今天通過第二波區域立委提名名單，台東縣由移民署台東專勤隊專員陳允萍披 掛上陣，陳允萍說，期待能為民眾黨在台東開疆闢土，也期待台東不要再藍綠惡鬥，不要 再意識型態，選出一位真心能為地方奉獻的在地子弟。 台灣民眾黨今天通過第二波區域立委提名名單，預定10月20日上午10點在高雄市翰品酒店 舉辦提名記者會，介紹新北第三選區李旻蔚、台東縣陳允萍等7人。 今年50歲的陳允萍中央警察大學外事警察研究所畢業，現任移民署台東專勤隊專員，因長 期從事外籍配偶在台生活就業輔導事宜，與社團法人台東縣外籍配偶協會、台東縣多元移 民關懷協會等台東各個外籍配偶協會、社團關係緊密，台東目前外籍配偶已逾4千人，陳 允萍若獲得全體外配，甚至外配家庭的支持，實力確實不可小覷。 4.附註、心得、想法 這位評價好像還不錯 在台東出戰，膽量真是不錯 也越來越多人才披掛上陣 '"
            ]
          },
          "metadata": {
            "tags": []
          },
          "execution_count": 53
        }
      ]
    },
    {
      "cell_type": "markdown",
      "metadata": {
        "id": "rTooI9Ym567Z",
        "colab_type": "text"
      },
      "source": [
        "#try Tensorflow 2.0 of word2vec"
      ]
    },
    {
      "cell_type": "code",
      "metadata": {
        "id": "DIow5Ovr56-J",
        "colab_type": "code",
        "colab": {}
      },
      "source": [
        "embedding_layer = layers.Embedding(1000, 5)"
      ],
      "execution_count": 0,
      "outputs": []
    },
    {
      "cell_type": "code",
      "metadata": {
        "id": "7a-ArdM_Xfnz",
        "colab_type": "code",
        "outputId": "e25a0206-87c0-43ac-9f81-242f5f853e81",
        "colab": {
          "base_uri": "https://localhost:8080/",
          "height": 34
        }
      },
      "source": [
        "tf.constant([4,5,6])"
      ],
      "execution_count": 0,
      "outputs": [
        {
          "output_type": "execute_result",
          "data": {
            "text/plain": [
              "<tf.Tensor: id=41, shape=(3,), dtype=int32, numpy=array([4, 5, 6], dtype=int32)>"
            ]
          },
          "metadata": {
            "tags": []
          },
          "execution_count": 55
        }
      ]
    },
    {
      "cell_type": "code",
      "metadata": {
        "id": "LeVcLIcE57Al",
        "colab_type": "code",
        "outputId": "a3811cff-c631-4d67-a8ab-73619e9448be",
        "colab": {
          "base_uri": "https://localhost:8080/",
          "height": 34
        }
      },
      "source": [
        "result = embedding_layer(tf.constant([4,5,6]))\n",
        "result.shape"
      ],
      "execution_count": 0,
      "outputs": [
        {
          "output_type": "execute_result",
          "data": {
            "text/plain": [
              "TensorShape([3, 5])"
            ]
          },
          "metadata": {
            "tags": []
          },
          "execution_count": 60
        }
      ]
    },
    {
      "cell_type": "code",
      "metadata": {
        "id": "vYXcEM6657DI",
        "colab_type": "code",
        "outputId": "03124b4c-4dd3-4a71-f06a-1920ef426b1d",
        "colab": {
          "base_uri": "https://localhost:8080/",
          "height": 34
        }
      },
      "source": [
        "result = embedding_layer(tf.constant([[0,1,2],[3,4,6]]))\n",
        "result.shape"
      ],
      "execution_count": 0,
      "outputs": [
        {
          "output_type": "execute_result",
          "data": {
            "text/plain": [
              "TensorShape([2, 3, 5])"
            ]
          },
          "metadata": {
            "tags": []
          },
          "execution_count": 62
        }
      ]
    },
    {
      "cell_type": "code",
      "metadata": {
        "id": "9Y6HSH3W57FY",
        "colab_type": "code",
        "colab": {}
      },
      "source": [
        ""
      ],
      "execution_count": 0,
      "outputs": []
    },
    {
      "cell_type": "markdown",
      "metadata": {
        "id": "FjH03m_TV-TW",
        "colab_type": "text"
      },
      "source": [
        "#try ckip"
      ]
    },
    {
      "cell_type": "code",
      "metadata": {
        "id": "rn3TSc0PV-Xe",
        "colab_type": "code",
        "outputId": "0577c6ef-e39f-4517-85f2-6bbd1cea46ef",
        "colab": {
          "base_uri": "https://localhost:8080/",
          "height": 85
        }
      },
      "source": [
        "data_utils.download_data_gdown(\"./\")\n",
        "#CUDA_VISIBLE_DEVICES environment variable, e.g. \n",
        "os.environ[\"CUDA_VISIBLE_DEVICES\"] = \"0\"\n",
        "#disable_cuda=False, e.g. ws = WS(\"./data\", disable_cuda=False)\n",
        "\n",
        "ws = WS(\"./data\", disable_cuda=False)\n",
        "pos = POS(\"./data\", disable_cuda=False)\n",
        "ner = NER(\"./data\", disable_cuda=False)"
      ],
      "execution_count": 0,
      "outputs": [
        {
          "output_type": "stream",
          "text": [
            "Downloading...\n",
            "From: https://drive.google.com/uc?id=1efHsY16pxK0lBD2gYCgCTnv1Swstq771\n",
            "To: /content/data.zip\n",
            "1.88GB [00:14, 131MB/s] \n"
          ],
          "name": "stderr"
        }
      ]
    },
    {
      "cell_type": "code",
      "metadata": {
        "id": "L9pULmpJdZH_",
        "colab_type": "code",
        "outputId": "3f29ffb4-5d53-4359-c1ff-439c21a3c6eb",
        "colab": {
          "base_uri": "https://localhost:8080/",
          "height": 34
        }
      },
      "source": [
        "gc.collect()"
      ],
      "execution_count": 0,
      "outputs": [
        {
          "output_type": "execute_result",
          "data": {
            "text/plain": [
              "827"
            ]
          },
          "metadata": {
            "tags": []
          },
          "execution_count": 41
        }
      ]
    },
    {
      "cell_type": "code",
      "metadata": {
        "id": "0EbQa757V-bS",
        "colab_type": "code",
        "colab": {}
      },
      "source": [
        "ws_lst = ws(training_corpus[:100])\n",
        "#100 about 10s"
      ],
      "execution_count": 0,
      "outputs": []
    },
    {
      "cell_type": "code",
      "metadata": {
        "id": "QamVT9XCc-eZ",
        "colab_type": "code",
        "colab": {}
      },
      "source": [
        "#ws_lst[1]\n",
        "pos_sentence_list = pos(ws_lst)"
      ],
      "execution_count": 0,
      "outputs": []
    },
    {
      "cell_type": "code",
      "metadata": {
        "id": "C49QXPs75cJv",
        "colab_type": "code",
        "colab": {}
      },
      "source": [
        "entity_sentence_list = ner(ws_lst, pos_sentence_list)"
      ],
      "execution_count": 0,
      "outputs": []
    },
    {
      "cell_type": "code",
      "metadata": {
        "id": "FoH8OQEwF2oW",
        "colab_type": "code",
        "colab": {}
      },
      "source": [
        "tt = []\n",
        "[ tt.extend(x) for x in pos_sentence_list]\n",
        "tt = pd.DataFrame(tt)\n",
        "tt['temp'] = 1\n",
        "tt.groupby([0], as_index=False).count().sort_values('temp', ascending=False)"
      ],
      "execution_count": 0,
      "outputs": []
    },
    {
      "cell_type": "code",
      "metadata": {
        "id": "_kL5CMP35cTw",
        "colab_type": "code",
        "colab": {}
      },
      "source": [
        "for art_word, art_pos in zip(ws_lst, pos_sentence_list):\n",
        "    for words, pos_pieces in zip(art_word, art_pos):\n",
        "        print(words, pos_pieces)\n",
        "    break"
      ],
      "execution_count": 0,
      "outputs": []
    },
    {
      "cell_type": "code",
      "metadata": {
        "id": "zckiN9vc5yrU",
        "colab_type": "code",
        "colab": {}
      },
      "source": [
        "w_lst = []\n",
        "for ner_lst in entity_sentence_list:\n",
        "    for word in ner_lst:\n",
        "        if word[2] == 'PERSON':\n",
        "            #print(word)\n",
        "            w_lst.append(word[3])\n",
        "    #break"
      ],
      "execution_count": 0,
      "outputs": []
    },
    {
      "cell_type": "code",
      "metadata": {
        "id": "aq1V0wRMVIeL",
        "colab_type": "code",
        "outputId": "a3df96ae-c4ff-4441-d3bb-68bc74be18dc",
        "colab": {
          "base_uri": "https://localhost:8080/",
          "height": 669
        }
      },
      "source": [
        "tt = pd.DataFrame(w_lst)\n",
        "tt['temp'] = 1\n",
        "tt.groupby([0], as_index=False).count().sort_values('temp', ascending=False)[:20]"
      ],
      "execution_count": 0,
      "outputs": [
        {
          "output_type": "execute_result",
          "data": {
            "text/html": [
              "<div>\n",
              "<style scoped>\n",
              "    .dataframe tbody tr th:only-of-type {\n",
              "        vertical-align: middle;\n",
              "    }\n",
              "\n",
              "    .dataframe tbody tr th {\n",
              "        vertical-align: top;\n",
              "    }\n",
              "\n",
              "    .dataframe thead th {\n",
              "        text-align: right;\n",
              "    }\n",
              "</style>\n",
              "<table border=\"1\" class=\"dataframe\">\n",
              "  <thead>\n",
              "    <tr style=\"text-align: right;\">\n",
              "      <th></th>\n",
              "      <th>0</th>\n",
              "      <th>temp</th>\n",
              "    </tr>\n",
              "  </thead>\n",
              "  <tbody>\n",
              "    <tr>\n",
              "      <th>339</th>\n",
              "      <td>阿扁</td>\n",
              "      <td>80</td>\n",
              "    </tr>\n",
              "    <tr>\n",
              "      <th>357</th>\n",
              "      <td>陳水扁</td>\n",
              "      <td>66</td>\n",
              "    </tr>\n",
              "    <tr>\n",
              "      <th>385</th>\n",
              "      <td>馬英九</td>\n",
              "      <td>48</td>\n",
              "    </tr>\n",
              "    <tr>\n",
              "      <th>37</th>\n",
              "      <td>倒扁</td>\n",
              "      <td>33</td>\n",
              "    </tr>\n",
              "    <tr>\n",
              "      <th>263</th>\n",
              "      <td>蔡英文</td>\n",
              "      <td>24</td>\n",
              "    </tr>\n",
              "    <tr>\n",
              "      <th>150</th>\n",
              "      <td>施明德</td>\n",
              "      <td>24</td>\n",
              "    </tr>\n",
              "    <tr>\n",
              "      <th>371</th>\n",
              "      <td>韓國瑜</td>\n",
              "      <td>24</td>\n",
              "    </tr>\n",
              "    <tr>\n",
              "      <th>291</th>\n",
              "      <td>謝長廷</td>\n",
              "      <td>18</td>\n",
              "    </tr>\n",
              "    <tr>\n",
              "      <th>169</th>\n",
              "      <td>李濤</td>\n",
              "      <td>18</td>\n",
              "    </tr>\n",
              "    <tr>\n",
              "      <th>65</th>\n",
              "      <td>吳淑珍</td>\n",
              "      <td>17</td>\n",
              "    </tr>\n",
              "    <tr>\n",
              "      <th>135</th>\n",
              "      <td>扁</td>\n",
              "      <td>17</td>\n",
              "    </tr>\n",
              "    <tr>\n",
              "      <th>105</th>\n",
              "      <td>宋楚瑜</td>\n",
              "      <td>16</td>\n",
              "    </tr>\n",
              "    <tr>\n",
              "      <th>349</th>\n",
              "      <td>陳X扁</td>\n",
              "      <td>13</td>\n",
              "    </tr>\n",
              "    <tr>\n",
              "      <th>171</th>\n",
              "      <td>李登輝</td>\n",
              "      <td>10</td>\n",
              "    </tr>\n",
              "    <tr>\n",
              "      <th>277</th>\n",
              "      <td>蘇貞昌</td>\n",
              "      <td>8</td>\n",
              "    </tr>\n",
              "    <tr>\n",
              "      <th>302</th>\n",
              "      <td>趙建銘</td>\n",
              "      <td>8</td>\n",
              "    </tr>\n",
              "    <tr>\n",
              "      <th>310</th>\n",
              "      <td>郝榮斌</td>\n",
              "      <td>7</td>\n",
              "    </tr>\n",
              "    <tr>\n",
              "      <th>351</th>\n",
              "      <td>陳哲男</td>\n",
              "      <td>7</td>\n",
              "    </tr>\n",
              "    <tr>\n",
              "      <th>350</th>\n",
              "      <td>陳允萍</td>\n",
              "      <td>6</td>\n",
              "    </tr>\n",
              "    <tr>\n",
              "      <th>285</th>\n",
              "      <td>謝</td>\n",
              "      <td>6</td>\n",
              "    </tr>\n",
              "  </tbody>\n",
              "</table>\n",
              "</div>"
            ],
            "text/plain": [
              "       0  temp\n",
              "339   阿扁    80\n",
              "357  陳水扁    66\n",
              "385  馬英九    48\n",
              "37    倒扁    33\n",
              "263  蔡英文    24\n",
              "150  施明德    24\n",
              "371  韓國瑜    24\n",
              "291  謝長廷    18\n",
              "169   李濤    18\n",
              "65   吳淑珍    17\n",
              "135    扁    17\n",
              "105  宋楚瑜    16\n",
              "349  陳X扁    13\n",
              "171  李登輝    10\n",
              "277  蘇貞昌     8\n",
              "302  趙建銘     8\n",
              "310  郝榮斌     7\n",
              "351  陳哲男     7\n",
              "350  陳允萍     6\n",
              "285    謝     6"
            ]
          },
          "metadata": {
            "tags": []
          },
          "execution_count": 81
        }
      ]
    },
    {
      "cell_type": "code",
      "metadata": {
        "id": "tC4MYYVoVIgx",
        "colab_type": "code",
        "colab": {}
      },
      "source": [
        ""
      ],
      "execution_count": 0,
      "outputs": []
    },
    {
      "cell_type": "code",
      "metadata": {
        "id": "mIHTauJ5VIiz",
        "colab_type": "code",
        "colab": {}
      },
      "source": [
        ""
      ],
      "execution_count": 0,
      "outputs": []
    },
    {
      "cell_type": "code",
      "metadata": {
        "id": "a_7XVF-9odme",
        "colab_type": "code",
        "colab": {}
      },
      "source": [
        "#reindex frist??\n",
        "#art_df_2.reset_index(drop=True, inplace=True)\n",
        "#art_df_2['content'] = training_corpus[training_corpus.notna()]\n",
        "#art_df_2 = art_df_2[art_df_2.content.notna()]"
      ],
      "execution_count": 0,
      "outputs": []
    },
    {
      "cell_type": "code",
      "metadata": {
        "id": "Duye3mGJKBP-",
        "colab_type": "code",
        "colab": {}
      },
      "source": [
        ""
      ],
      "execution_count": 0,
      "outputs": []
    },
    {
      "cell_type": "code",
      "metadata": {
        "id": "PRgLnSeeeLPx",
        "colab_type": "code",
        "colab": {}
      },
      "source": [
        "#self define dict for politicals~~~\n",
        "#other source: wiki, articut, ckip... extract from 輸入法???"
      ],
      "execution_count": 0,
      "outputs": []
    },
    {
      "cell_type": "code",
      "metadata": {
        "id": "_CLQGRfqeLYB",
        "colab_type": "code",
        "outputId": "b6fb64d2-1d2f-4c43-fbec-21cb98525269",
        "colab": {
          "base_uri": "https://localhost:8080/",
          "height": 102
        }
      },
      "source": [
        "#testing not including seld def dict before\n",
        "\n",
        "test_str = '柯P真好玩'\n",
        "[ x for x in jieba.cut(test_str)]\n",
        "#jieba.add"
      ],
      "execution_count": 0,
      "outputs": [
        {
          "output_type": "stream",
          "text": [
            "Building prefix dict from the default dictionary ...\n",
            "Dumping model to file cache /tmp/jieba.cache\n",
            "Loading model cost 0.951 seconds.\n",
            "Prefix dict has been built succesfully.\n"
          ],
          "name": "stderr"
        },
        {
          "output_type": "execute_result",
          "data": {
            "text/plain": [
              "['柯', 'P', '真好玩']"
            ]
          },
          "metadata": {
            "tags": []
          },
          "execution_count": 32
        }
      ]
    },
    {
      "cell_type": "code",
      "metadata": {
        "id": "ZynuTp3pfJvF",
        "colab_type": "code",
        "outputId": "18c11e7b-4c79-4a75-ca07-6fe0c9f2aaf3",
        "colab": {
          "base_uri": "https://localhost:8080/",
          "height": 34
        }
      },
      "source": [
        "self_def_lst = ['柯文哲', '柯P', '民進黨', '蔡英文', '韓粉', '網軍', '長老教會', '行政院長']\n",
        "filter_lst = ['com', 'imgur', 'https' , 'www', '新聞', '討論']\n",
        "\n",
        "[ jieba.add_word(x) for x in self_def_lst]"
      ],
      "execution_count": 0,
      "outputs": [
        {
          "output_type": "execute_result",
          "data": {
            "text/plain": [
              "[None, None, None, None, None, None, None, None]"
            ]
          },
          "metadata": {
            "tags": []
          },
          "execution_count": 19
        }
      ]
    },
    {
      "cell_type": "code",
      "metadata": {
        "id": "tHyKomFgoeQE",
        "colab_type": "code",
        "colab": {}
      },
      "source": [
        "def chinese_word_cut(input_corpus):\n",
        "    \n",
        "    return \" \".join(jieba.cut(input_corpus))#分词"
      ],
      "execution_count": 0,
      "outputs": []
    },
    {
      "cell_type": "code",
      "metadata": {
        "id": "bId6bUnwhFCX",
        "colab_type": "code",
        "colab": {}
      },
      "source": [
        "#art_df_2_bk = art_df_2.copy()\n",
        "#art_df_2 = art_df_2_bk.copy()"
      ],
      "execution_count": 0,
      "outputs": []
    },
    {
      "cell_type": "code",
      "metadata": {
        "id": "nmSGk2iqnuaU",
        "colab_type": "code",
        "colab": {}
      },
      "source": [
        "#art_df_2.date = pd.to_datetime(art_df_2.date, errors='coerce')"
      ],
      "execution_count": 0,
      "outputs": []
    },
    {
      "cell_type": "code",
      "metadata": {
        "id": "ycyHEkMOn48r",
        "colab_type": "code",
        "colab": {}
      },
      "source": [
        "#art_df_2[art_df_2.date.isna()].shape"
      ],
      "execution_count": 0,
      "outputs": []
    },
    {
      "cell_type": "code",
      "metadata": {
        "id": "Jj3RQyrpk8_C",
        "colab_type": "code",
        "colab": {}
      },
      "source": [
        "#print(art_df_2[art_df_2.date !=''].date.min())\n",
        "#print(art_df_2[art_df_2.date !=''].date.max())\n",
        "#叫你爸媽負責好了  爽不爽                    42.74.19.119 06/18 20:44"
      ],
      "execution_count": 0,
      "outputs": []
    },
    {
      "cell_type": "code",
      "metadata": {
        "id": "aq_S4FfHD6MP",
        "colab_type": "code",
        "colab": {}
      },
      "source": [
        "training_corpus = training_corpus[training_corpus.notna()]"
      ],
      "execution_count": 0,
      "outputs": []
    },
    {
      "cell_type": "code",
      "metadata": {
        "id": "0oyToDbcp9Pk",
        "colab_type": "code",
        "colab": {}
      },
      "source": [
        "trim_corpus = training_corpus.apply(chinese_word_cut)\n",
        "#art_df_2[\"content_cutted\"] = art_df_2.content.apply(chinese_word_cut)"
      ],
      "execution_count": 0,
      "outputs": []
    },
    {
      "cell_type": "code",
      "metadata": {
        "id": "zHegyja6oeSq",
        "colab_type": "code",
        "outputId": "98fd180b-4f46-4e85-e89f-e72a8e018ac6",
        "colab": {
          "base_uri": "https://localhost:8080/",
          "height": 119
        }
      },
      "source": [
        "trim_corpus.head()"
      ],
      "execution_count": 0,
      "outputs": [
        {
          "output_type": "execute_result",
          "data": {
            "text/plain": [
              "0    [ 新聞 ]   台灣民眾 黨 第二 波 提名   移民 署 專員 陳 允萍   1 . 新...\n",
              "1      作者 :   kero2377   ( 賤畜 福利 熊 )   看 板 :   Hate...\n",
              "2    [ 公告 ]   政治 黑特板 板規 _ 20191004 _ V5.4   第一章   總...\n",
              "3    [ 討論 ]   政黑 投票 結果 整理   總統 你 錯 了 投票 結果   投票 結果 ...\n",
              "4    [ 公告 ]   2020 選戰大 預測 活動開 跑 ! ! ! ! ! ! ! ! ! !...\n",
              "dtype: object"
            ]
          },
          "metadata": {
            "tags": []
          },
          "execution_count": 27
        }
      ]
    },
    {
      "cell_type": "code",
      "metadata": {
        "id": "mM4v5Q-Fq9Ly",
        "colab_type": "code",
        "colab": {}
      },
      "source": [
        "# try the api of gensim plugin?\n",
        "# try mutiple processing\n",
        "#https://speakerdeck.com/fukuball/head-first-chinese-text-segmentation?slide=64\n",
        "#https://radimrehurek.com/gensim/models/ldamulticore.html\n",
        "\n",
        "# https://zhuanlan.zhihu.com/p/30925299\n",
        "# https://scikit-learn.org/stable/modules/generated/sklearn.decomposition.LatentDirichletAllocation.html\n",
        "# https://github.com/bmabey/pyLDAvis/tree/master/pyLDAvis\n",
        "# https://medium.com/pyladies-taiwan/%E4%BB%A5-jieba-%E8%88%87-gensim-%E6%8E%A2%E7%B4%A2%E6%96%87%E6%9C%AC%E4%B8%BB%E9%A1%8C-%E4%BA%94%E6%9C%88%E5%A4%A9%E4%BA%BA%E7%94%9F%E7%84%A1%E9%99%90%E5%85%AC%E5%8F%B8%E6%AD%8C%E8%A9%9E%E5%88%86%E6%9E%90-ii-fdf5d3708662"
      ],
      "execution_count": 0,
      "outputs": []
    },
    {
      "cell_type": "code",
      "metadata": {
        "id": "pNPiI44tfMsl",
        "colab_type": "code",
        "colab": {}
      },
      "source": [
        "#max_features : int or None, default=None\n",
        "#If not None, build a vocabulary that only consider the top max_features ordered by term frequency across the corpus.\n",
        "\n",
        "#This parameter is ignored if vocabulary is not None.\n",
        "\n",
        "#max_df : float in range [0.0, 1.0] or int, default=1.0\n",
        "#When building the vocabulary ignore terms that have a document frequency strictly higher than the given threshold (corpus-specific stop words). "
      ],
      "execution_count": 0,
      "outputs": []
    },
    {
      "cell_type": "code",
      "metadata": {
        "id": "_YmJarrVvlkp",
        "colab_type": "code",
        "colab": {}
      },
      "source": [
        "filter_lst = ['com'\n",
        ", 'imgur'\n",
        ", 'https'\n",
        ", 'www'\n",
        ", '新聞'\n",
        ", '討論'\n",
        ", 'sent'\n",
        ", 'from'\n",
        ", 'my'\n",
        ", '就是'\n",
        ", '真的'\n",
        ", '什麼'\n",
        ", '可以'\n",
        ", '不是'\n",
        ", '自己'\n",
        ", '知道'\n",
        ", '所以'\n",
        ", '如果'\n",
        ", '還是'\n",
        ", '這樣'\n",
        "]"
      ],
      "execution_count": 0,
      "outputs": []
    },
    {
      "cell_type": "code",
      "metadata": {
        "id": "rGa_VJa5qFmW",
        "colab_type": "code",
        "colab": {}
      },
      "source": [
        "from sklearn.feature_extraction.text import TfidfVectorizer, CountVectorizer\n",
        "\n",
        "n_features = 1000\n",
        "\n",
        "tf_vectorizer = CountVectorizer(strip_accents='unicode'\n",
        "                              , max_features=n_features\n",
        "                              , stop_words=filter_lst\n",
        "                              , max_df=1.0\n",
        "                              , min_df=0.1)#训练词矩阵\n",
        "tf = tf_vectorizer.fit_transform(trim_corpus)"
      ],
      "execution_count": 0,
      "outputs": []
    },
    {
      "cell_type": "code",
      "metadata": {
        "id": "iwAVtG0TkGD5",
        "colab_type": "code",
        "outputId": "6594fd89-04fc-4690-802e-756c6217ab55",
        "colab": {
          "base_uri": "https://localhost:8080/",
          "height": 34
        }
      },
      "source": [
        "tfidf_vectorizer = TfidfVectorizer(strip_accents='unicode'\n",
        "                                   , max_df=0.95\n",
        "                                   , min_df=2\n",
        "                                   , max_features=n_features\n",
        "                                   , stop_words=filter_lst)\n",
        "t0 = time.time()\n",
        "tfidf = tfidf_vectorizer.fit_transform(trim_corpus)\n",
        "print(\"done in %0.3fs.\" % (time.time() - t0))"
      ],
      "execution_count": 0,
      "outputs": [
        {
          "output_type": "stream",
          "text": [
            "done in 22.910s.\n"
          ],
          "name": "stdout"
        }
      ]
    },
    {
      "cell_type": "markdown",
      "metadata": {
        "id": "pDL4g2BRQDHo",
        "colab_type": "text"
      },
      "source": [
        "#get freq"
      ]
    },
    {
      "cell_type": "code",
      "metadata": {
        "id": "-jeRPmlOgkMy",
        "colab_type": "code",
        "colab": {}
      },
      "source": [
        "#tf.toarray.sum(axis=0)\n",
        "freq_df = pd.DataFrame([tf_vectorizer.get_feature_names(), tf.toarray().sum(axis=0)]).T\n",
        "freq_df.columns = ['word', 'cnt']\n",
        "\n",
        "freq_tfidf_df = pd.DataFrame([tfidf_vectorizer.get_feature_names(), tfidf.toarray().sum(axis=0)]).T\n",
        "freq_tfidf_df.columns = ['word', 'cnt']"
      ],
      "execution_count": 0,
      "outputs": []
    },
    {
      "cell_type": "code",
      "metadata": {
        "id": "uiGgV-JfMRld",
        "colab_type": "code",
        "outputId": "0c182ba1-2659-492d-cb43-e1c1d02a1342",
        "colab": {
          "base_uri": "https://localhost:8080/",
          "height": 669
        }
      },
      "source": [
        "freq_df.sort_values('cnt', ascending=False)[:20]\n",
        "#pd.DataFrame.plot()"
      ],
      "execution_count": 0,
      "outputs": [
        {
          "output_type": "execute_result",
          "data": {
            "text/html": [
              "<div>\n",
              "<style scoped>\n",
              "    .dataframe tbody tr th:only-of-type {\n",
              "        vertical-align: middle;\n",
              "    }\n",
              "\n",
              "    .dataframe tbody tr th {\n",
              "        vertical-align: top;\n",
              "    }\n",
              "\n",
              "    .dataframe thead th {\n",
              "        text-align: right;\n",
              "    }\n",
              "</style>\n",
              "<table border=\"1\" class=\"dataframe\">\n",
              "  <thead>\n",
              "    <tr style=\"text-align: right;\">\n",
              "      <th></th>\n",
              "      <th>word</th>\n",
              "      <th>cnt</th>\n",
              "    </tr>\n",
              "  </thead>\n",
              "  <tbody>\n",
              "    <tr>\n",
              "      <th>22</th>\n",
              "      <td>台灣</td>\n",
              "      <td>64782</td>\n",
              "    </tr>\n",
              "    <tr>\n",
              "      <th>63</th>\n",
              "      <td>韓國瑜</td>\n",
              "      <td>59516</td>\n",
              "    </tr>\n",
              "    <tr>\n",
              "      <th>41</th>\n",
              "      <td>柯文哲</td>\n",
              "      <td>52046</td>\n",
              "    </tr>\n",
              "    <tr>\n",
              "      <th>43</th>\n",
              "      <td>民進黨</td>\n",
              "      <td>37939</td>\n",
              "    </tr>\n",
              "    <tr>\n",
              "      <th>25</th>\n",
              "      <td>國民黨</td>\n",
              "      <td>37207</td>\n",
              "    </tr>\n",
              "    <tr>\n",
              "      <th>4</th>\n",
              "      <td>一個</td>\n",
              "      <td>36528</td>\n",
              "    </tr>\n",
              "    <tr>\n",
              "      <th>50</th>\n",
              "      <td>總統</td>\n",
              "      <td>36418</td>\n",
              "    </tr>\n",
              "    <tr>\n",
              "      <th>52</th>\n",
              "      <td>蔡英文</td>\n",
              "      <td>36299</td>\n",
              "    </tr>\n",
              "    <tr>\n",
              "      <th>33</th>\n",
              "      <td>我們</td>\n",
              "      <td>32217</td>\n",
              "    </tr>\n",
              "    <tr>\n",
              "      <th>24</th>\n",
              "      <td>因為</td>\n",
              "      <td>29700</td>\n",
              "    </tr>\n",
              "    <tr>\n",
              "      <th>34</th>\n",
              "      <td>支持</td>\n",
              "      <td>28405</td>\n",
              "    </tr>\n",
              "    <tr>\n",
              "      <th>57</th>\n",
              "      <td>這個</td>\n",
              "      <td>28157</td>\n",
              "    </tr>\n",
              "    <tr>\n",
              "      <th>45</th>\n",
              "      <td>現在</td>\n",
              "      <td>27371</td>\n",
              "    </tr>\n",
              "    <tr>\n",
              "      <th>44</th>\n",
              "      <td>沒有</td>\n",
              "      <td>26223</td>\n",
              "    </tr>\n",
              "    <tr>\n",
              "      <th>12</th>\n",
              "      <td>中國</td>\n",
              "      <td>25840</td>\n",
              "    </tr>\n",
              "    <tr>\n",
              "      <th>26</th>\n",
              "      <td>大家</td>\n",
              "      <td>25813</td>\n",
              "    </tr>\n",
              "    <tr>\n",
              "      <th>23</th>\n",
              "      <td>問題</td>\n",
              "      <td>25174</td>\n",
              "    </tr>\n",
              "    <tr>\n",
              "      <th>36</th>\n",
              "      <td>政治</td>\n",
              "      <td>24969</td>\n",
              "    </tr>\n",
              "    <tr>\n",
              "      <th>2</th>\n",
              "      <td>re</td>\n",
              "      <td>24627</td>\n",
              "    </tr>\n",
              "    <tr>\n",
              "      <th>21</th>\n",
              "      <td>可能</td>\n",
              "      <td>24365</td>\n",
              "    </tr>\n",
              "  </tbody>\n",
              "</table>\n",
              "</div>"
            ],
            "text/plain": [
              "   word    cnt\n",
              "22   台灣  64782\n",
              "63  韓國瑜  59516\n",
              "41  柯文哲  52046\n",
              "43  民進黨  37939\n",
              "25  國民黨  37207\n",
              "4    一個  36528\n",
              "50   總統  36418\n",
              "52  蔡英文  36299\n",
              "33   我們  32217\n",
              "24   因為  29700\n",
              "34   支持  28405\n",
              "57   這個  28157\n",
              "45   現在  27371\n",
              "44   沒有  26223\n",
              "12   中國  25840\n",
              "26   大家  25813\n",
              "23   問題  25174\n",
              "36   政治  24969\n",
              "2    re  24627\n",
              "21   可能  24365"
            ]
          },
          "metadata": {
            "tags": []
          },
          "execution_count": 34
        }
      ]
    },
    {
      "cell_type": "code",
      "metadata": {
        "id": "niHJ3j_PkGb_",
        "colab_type": "code",
        "outputId": "0e091fab-42a6-4b6c-e744-fc117bcc74e9",
        "colab": {
          "base_uri": "https://localhost:8080/",
          "height": 669
        }
      },
      "source": [
        "freq_tfidf_df.sort_values('cnt', ascending=False)[:20]"
      ],
      "execution_count": 0,
      "outputs": [
        {
          "output_type": "execute_result",
          "data": {
            "text/html": [
              "<div>\n",
              "<style scoped>\n",
              "    .dataframe tbody tr th:only-of-type {\n",
              "        vertical-align: middle;\n",
              "    }\n",
              "\n",
              "    .dataframe tbody tr th {\n",
              "        vertical-align: top;\n",
              "    }\n",
              "\n",
              "    .dataframe thead th {\n",
              "        text-align: right;\n",
              "    }\n",
              "</style>\n",
              "<table border=\"1\" class=\"dataframe\">\n",
              "  <thead>\n",
              "    <tr style=\"text-align: right;\">\n",
              "      <th></th>\n",
              "      <th>word</th>\n",
              "      <th>cnt</th>\n",
              "    </tr>\n",
              "  </thead>\n",
              "  <tbody>\n",
              "    <tr>\n",
              "      <th>980</th>\n",
              "      <td>韓國瑜</td>\n",
              "      <td>3498.74</td>\n",
              "    </tr>\n",
              "    <tr>\n",
              "      <th>622</th>\n",
              "      <td>柯文哲</td>\n",
              "      <td>2968.46</td>\n",
              "    </tr>\n",
              "    <tr>\n",
              "      <th>330</th>\n",
              "      <td>台灣</td>\n",
              "      <td>2943.26</td>\n",
              "    </tr>\n",
              "    <tr>\n",
              "      <th>816</th>\n",
              "      <td>蔡英文</td>\n",
              "      <td>2231.79</td>\n",
              "    </tr>\n",
              "    <tr>\n",
              "      <th>368</th>\n",
              "      <td>國民黨</td>\n",
              "      <td>2176.72</td>\n",
              "    </tr>\n",
              "    <tr>\n",
              "      <th>652</th>\n",
              "      <td>民進黨</td>\n",
              "      <td>2172.58</td>\n",
              "    </tr>\n",
              "    <tr>\n",
              "      <th>777</th>\n",
              "      <td>總統</td>\n",
              "      <td>1991.13</td>\n",
              "    </tr>\n",
              "    <tr>\n",
              "      <th>984</th>\n",
              "      <td>韓粉</td>\n",
              "      <td>1889.58</td>\n",
              "    </tr>\n",
              "    <tr>\n",
              "      <th>109</th>\n",
              "      <td>一個</td>\n",
              "      <td>1863.06</td>\n",
              "    </tr>\n",
              "    <tr>\n",
              "      <th>685</th>\n",
              "      <td>現在</td>\n",
              "      <td>1728.55</td>\n",
              "    </tr>\n",
              "    <tr>\n",
              "      <th>543</th>\n",
              "      <td>支持</td>\n",
              "      <td>1691.7</td>\n",
              "    </tr>\n",
              "    <tr>\n",
              "      <th>393</th>\n",
              "      <td>大家</td>\n",
              "      <td>1660.11</td>\n",
              "    </tr>\n",
              "    <tr>\n",
              "      <th>94</th>\n",
              "      <td>re</td>\n",
              "      <td>1624.22</td>\n",
              "    </tr>\n",
              "    <tr>\n",
              "      <th>484</th>\n",
              "      <td>怎麼</td>\n",
              "      <td>1592.04</td>\n",
              "    </tr>\n",
              "    <tr>\n",
              "      <th>507</th>\n",
              "      <td>我們</td>\n",
              "      <td>1581.8</td>\n",
              "    </tr>\n",
              "    <tr>\n",
              "      <th>950</th>\n",
              "      <td>郭台銘</td>\n",
              "      <td>1551.15</td>\n",
              "    </tr>\n",
              "    <tr>\n",
              "      <th>994</th>\n",
              "      <td>香港</td>\n",
              "      <td>1482.72</td>\n",
              "    </tr>\n",
              "    <tr>\n",
              "      <th>899</th>\n",
              "      <td>這個</td>\n",
              "      <td>1462.72</td>\n",
              "    </tr>\n",
              "    <tr>\n",
              "      <th>170</th>\n",
              "      <td>中國</td>\n",
              "      <td>1461.66</td>\n",
              "    </tr>\n",
              "    <tr>\n",
              "      <th>363</th>\n",
              "      <td>因為</td>\n",
              "      <td>1459.35</td>\n",
              "    </tr>\n",
              "  </tbody>\n",
              "</table>\n",
              "</div>"
            ],
            "text/plain": [
              "    word      cnt\n",
              "980  韓國瑜  3498.74\n",
              "622  柯文哲  2968.46\n",
              "330   台灣  2943.26\n",
              "816  蔡英文  2231.79\n",
              "368  國民黨  2176.72\n",
              "652  民進黨  2172.58\n",
              "777   總統  1991.13\n",
              "984   韓粉  1889.58\n",
              "109   一個  1863.06\n",
              "685   現在  1728.55\n",
              "543   支持   1691.7\n",
              "393   大家  1660.11\n",
              "94    re  1624.22\n",
              "484   怎麼  1592.04\n",
              "507   我們   1581.8\n",
              "950  郭台銘  1551.15\n",
              "994   香港  1482.72\n",
              "899   這個  1462.72\n",
              "170   中國  1461.66\n",
              "363   因為  1459.35"
            ]
          },
          "metadata": {
            "tags": []
          },
          "execution_count": 35
        }
      ]
    },
    {
      "cell_type": "markdown",
      "metadata": {
        "id": "TPGK0zh2MRn1",
        "colab_type": "text"
      },
      "source": [
        "#get kw"
      ]
    },
    {
      "cell_type": "code",
      "metadata": {
        "id": "4Jt2pxh1MRpw",
        "colab_type": "code",
        "outputId": "e76cb2b1-f86a-492b-c944-3048cde6fd70",
        "colab": {
          "base_uri": "https://localhost:8080/",
          "height": 357
        }
      },
      "source": [
        "test_kw_sent = ' '.join(trim_corpus[-2000:])\n",
        "jieba.analyse.extract_tags(test_kw_sent)"
      ],
      "execution_count": 0,
      "outputs": [
        {
          "output_type": "execute_result",
          "data": {
            "text/plain": [
              "['韓國瑜',\n",
              " '台灣',\n",
              " 'https',\n",
              " '新聞',\n",
              " '討論',\n",
              " '蔡英文',\n",
              " '柯文哲',\n",
              " '什麼',\n",
              " '總統',\n",
              " 'com',\n",
              " '立委',\n",
              " '一個',\n",
              " '民進黨',\n",
              " '國民黨',\n",
              " '我們',\n",
              " '中國',\n",
              " '問題',\n",
              " '因為',\n",
              " '這個',\n",
              " '這樣']"
            ]
          },
          "metadata": {
            "tags": []
          },
          "execution_count": 36
        }
      ]
    },
    {
      "cell_type": "code",
      "metadata": {
        "id": "udDUe9zZMRrY",
        "colab_type": "code",
        "outputId": "f98b089c-ff6a-40e8-83b7-63d00ef612fc",
        "colab": {
          "base_uri": "https://localhost:8080/",
          "height": 311
        }
      },
      "source": [
        "#len(test_kw_sent)\n",
        "#test_kw_sent[:30]\n",
        "#jieba.analyse.TextRank\n",
        "\n",
        "#computensive......\n",
        "#jieba.analyse.textrank(test_kw_sent)"
      ],
      "execution_count": 0,
      "outputs": [
        {
          "output_type": "error",
          "ename": "KeyboardInterrupt",
          "evalue": "ignored",
          "traceback": [
            "\u001b[0;31m---------------------------------------------------------------------------\u001b[0m",
            "\u001b[0;31mKeyboardInterrupt\u001b[0m                         Traceback (most recent call last)",
            "\u001b[0;32m<ipython-input-37-7cb61e39547f>\u001b[0m in \u001b[0;36m<module>\u001b[0;34m()\u001b[0m\n\u001b[0;32m----> 1\u001b[0;31m \u001b[0mjieba\u001b[0m\u001b[0;34m.\u001b[0m\u001b[0manalyse\u001b[0m\u001b[0;34m.\u001b[0m\u001b[0mtextrank\u001b[0m\u001b[0;34m(\u001b[0m\u001b[0mtest_kw_sent\u001b[0m\u001b[0;34m)\u001b[0m\u001b[0;34m\u001b[0m\u001b[0;34m\u001b[0m\u001b[0m\n\u001b[0m",
            "\u001b[0;32m/usr/local/lib/python3.6/dist-packages/jieba/analyse/textrank.py\u001b[0m in \u001b[0;36mtextrank\u001b[0;34m(self, sentence, topK, withWeight, allowPOS, withFlag)\u001b[0m\n\u001b[1;32m     82\u001b[0m         \u001b[0mg\u001b[0m \u001b[0;34m=\u001b[0m \u001b[0mUndirectWeightedGraph\u001b[0m\u001b[0;34m(\u001b[0m\u001b[0;34m)\u001b[0m\u001b[0;34m\u001b[0m\u001b[0;34m\u001b[0m\u001b[0m\n\u001b[1;32m     83\u001b[0m         \u001b[0mcm\u001b[0m \u001b[0;34m=\u001b[0m \u001b[0mdefaultdict\u001b[0m\u001b[0;34m(\u001b[0m\u001b[0mint\u001b[0m\u001b[0;34m)\u001b[0m\u001b[0;34m\u001b[0m\u001b[0;34m\u001b[0m\u001b[0m\n\u001b[0;32m---> 84\u001b[0;31m         \u001b[0mwords\u001b[0m \u001b[0;34m=\u001b[0m \u001b[0mtuple\u001b[0m\u001b[0;34m(\u001b[0m\u001b[0mself\u001b[0m\u001b[0;34m.\u001b[0m\u001b[0mtokenizer\u001b[0m\u001b[0;34m.\u001b[0m\u001b[0mcut\u001b[0m\u001b[0;34m(\u001b[0m\u001b[0msentence\u001b[0m\u001b[0;34m)\u001b[0m\u001b[0;34m)\u001b[0m\u001b[0;34m\u001b[0m\u001b[0;34m\u001b[0m\u001b[0m\n\u001b[0m\u001b[1;32m     85\u001b[0m         \u001b[0;32mfor\u001b[0m \u001b[0mi\u001b[0m\u001b[0;34m,\u001b[0m \u001b[0mwp\u001b[0m \u001b[0;32min\u001b[0m \u001b[0menumerate\u001b[0m\u001b[0;34m(\u001b[0m\u001b[0mwords\u001b[0m\u001b[0;34m)\u001b[0m\u001b[0;34m:\u001b[0m\u001b[0;34m\u001b[0m\u001b[0;34m\u001b[0m\u001b[0m\n\u001b[1;32m     86\u001b[0m             \u001b[0;32mif\u001b[0m \u001b[0mself\u001b[0m\u001b[0;34m.\u001b[0m\u001b[0mpairfilter\u001b[0m\u001b[0;34m(\u001b[0m\u001b[0mwp\u001b[0m\u001b[0;34m)\u001b[0m\u001b[0;34m:\u001b[0m\u001b[0;34m\u001b[0m\u001b[0;34m\u001b[0m\u001b[0m\n",
            "\u001b[0;32m/usr/local/lib/python3.6/dist-packages/jieba/posseg/__init__.py\u001b[0m in \u001b[0;36mcut\u001b[0;34m(self, sentence, HMM)\u001b[0m\n\u001b[1;32m    247\u001b[0m \u001b[0;34m\u001b[0m\u001b[0m\n\u001b[1;32m    248\u001b[0m     \u001b[0;32mdef\u001b[0m \u001b[0mcut\u001b[0m\u001b[0;34m(\u001b[0m\u001b[0mself\u001b[0m\u001b[0;34m,\u001b[0m \u001b[0msentence\u001b[0m\u001b[0;34m,\u001b[0m \u001b[0mHMM\u001b[0m\u001b[0;34m=\u001b[0m\u001b[0;32mTrue\u001b[0m\u001b[0;34m)\u001b[0m\u001b[0;34m:\u001b[0m\u001b[0;34m\u001b[0m\u001b[0;34m\u001b[0m\u001b[0m\n\u001b[0;32m--> 249\u001b[0;31m         \u001b[0;32mfor\u001b[0m \u001b[0mw\u001b[0m \u001b[0;32min\u001b[0m \u001b[0mself\u001b[0m\u001b[0;34m.\u001b[0m\u001b[0m__cut_internal\u001b[0m\u001b[0;34m(\u001b[0m\u001b[0msentence\u001b[0m\u001b[0;34m,\u001b[0m \u001b[0mHMM\u001b[0m\u001b[0;34m=\u001b[0m\u001b[0mHMM\u001b[0m\u001b[0;34m)\u001b[0m\u001b[0;34m:\u001b[0m\u001b[0;34m\u001b[0m\u001b[0;34m\u001b[0m\u001b[0m\n\u001b[0m\u001b[1;32m    250\u001b[0m             \u001b[0;32myield\u001b[0m \u001b[0mw\u001b[0m\u001b[0;34m\u001b[0m\u001b[0;34m\u001b[0m\u001b[0m\n\u001b[1;32m    251\u001b[0m \u001b[0;34m\u001b[0m\u001b[0m\n",
            "\u001b[0;32m/usr/local/lib/python3.6/dist-packages/jieba/posseg/__init__.py\u001b[0m in \u001b[0;36m__cut_internal\u001b[0;34m(self, sentence, HMM)\u001b[0m\n\u001b[1;32m    224\u001b[0m         \u001b[0;32mfor\u001b[0m \u001b[0mblk\u001b[0m \u001b[0;32min\u001b[0m \u001b[0mblocks\u001b[0m\u001b[0;34m:\u001b[0m\u001b[0;34m\u001b[0m\u001b[0;34m\u001b[0m\u001b[0m\n\u001b[1;32m    225\u001b[0m             \u001b[0;32mif\u001b[0m \u001b[0mre_han_internal\u001b[0m\u001b[0;34m.\u001b[0m\u001b[0mmatch\u001b[0m\u001b[0;34m(\u001b[0m\u001b[0mblk\u001b[0m\u001b[0;34m)\u001b[0m\u001b[0;34m:\u001b[0m\u001b[0;34m\u001b[0m\u001b[0;34m\u001b[0m\u001b[0m\n\u001b[0;32m--> 226\u001b[0;31m                 \u001b[0;32mfor\u001b[0m \u001b[0mword\u001b[0m \u001b[0;32min\u001b[0m \u001b[0mcut_blk\u001b[0m\u001b[0;34m(\u001b[0m\u001b[0mblk\u001b[0m\u001b[0;34m)\u001b[0m\u001b[0;34m:\u001b[0m\u001b[0;34m\u001b[0m\u001b[0;34m\u001b[0m\u001b[0m\n\u001b[0m\u001b[1;32m    227\u001b[0m                     \u001b[0;32myield\u001b[0m \u001b[0mword\u001b[0m\u001b[0;34m\u001b[0m\u001b[0;34m\u001b[0m\u001b[0m\n\u001b[1;32m    228\u001b[0m             \u001b[0;32melse\u001b[0m\u001b[0;34m:\u001b[0m\u001b[0;34m\u001b[0m\u001b[0;34m\u001b[0m\u001b[0m\n",
            "\u001b[0;32m/usr/local/lib/python3.6/dist-packages/jieba/posseg/__init__.py\u001b[0m in \u001b[0;36m__cut_DAG\u001b[0;34m(self, sentence)\u001b[0m\n\u001b[1;32m    207\u001b[0m             \u001b[0;32melif\u001b[0m \u001b[0;32mnot\u001b[0m \u001b[0mself\u001b[0m\u001b[0;34m.\u001b[0m\u001b[0mtokenizer\u001b[0m\u001b[0;34m.\u001b[0m\u001b[0mFREQ\u001b[0m\u001b[0;34m.\u001b[0m\u001b[0mget\u001b[0m\u001b[0;34m(\u001b[0m\u001b[0mbuf\u001b[0m\u001b[0;34m)\u001b[0m\u001b[0;34m:\u001b[0m\u001b[0;34m\u001b[0m\u001b[0;34m\u001b[0m\u001b[0m\n\u001b[1;32m    208\u001b[0m                 \u001b[0mrecognized\u001b[0m \u001b[0;34m=\u001b[0m \u001b[0mself\u001b[0m\u001b[0;34m.\u001b[0m\u001b[0m__cut_detail\u001b[0m\u001b[0;34m(\u001b[0m\u001b[0mbuf\u001b[0m\u001b[0;34m)\u001b[0m\u001b[0;34m\u001b[0m\u001b[0;34m\u001b[0m\u001b[0m\n\u001b[0;32m--> 209\u001b[0;31m                 \u001b[0;32mfor\u001b[0m \u001b[0mt\u001b[0m \u001b[0;32min\u001b[0m \u001b[0mrecognized\u001b[0m\u001b[0;34m:\u001b[0m\u001b[0;34m\u001b[0m\u001b[0;34m\u001b[0m\u001b[0m\n\u001b[0m\u001b[1;32m    210\u001b[0m                     \u001b[0;32myield\u001b[0m \u001b[0mt\u001b[0m\u001b[0;34m\u001b[0m\u001b[0;34m\u001b[0m\u001b[0m\n\u001b[1;32m    211\u001b[0m             \u001b[0;32melse\u001b[0m\u001b[0;34m:\u001b[0m\u001b[0;34m\u001b[0m\u001b[0;34m\u001b[0m\u001b[0m\n",
            "\u001b[0;32m/usr/local/lib/python3.6/dist-packages/jieba/posseg/__init__.py\u001b[0m in \u001b[0;36m__cut_detail\u001b[0;34m(self, sentence)\u001b[0m\n\u001b[1;32m    137\u001b[0m         \u001b[0;32mfor\u001b[0m \u001b[0mblk\u001b[0m \u001b[0;32min\u001b[0m \u001b[0mblocks\u001b[0m\u001b[0;34m:\u001b[0m\u001b[0;34m\u001b[0m\u001b[0;34m\u001b[0m\u001b[0m\n\u001b[1;32m    138\u001b[0m             \u001b[0;32mif\u001b[0m \u001b[0mre_han_detail\u001b[0m\u001b[0;34m.\u001b[0m\u001b[0mmatch\u001b[0m\u001b[0;34m(\u001b[0m\u001b[0mblk\u001b[0m\u001b[0;34m)\u001b[0m\u001b[0;34m:\u001b[0m\u001b[0;34m\u001b[0m\u001b[0;34m\u001b[0m\u001b[0m\n\u001b[0;32m--> 139\u001b[0;31m                 \u001b[0;32mfor\u001b[0m \u001b[0mword\u001b[0m \u001b[0;32min\u001b[0m \u001b[0mself\u001b[0m\u001b[0;34m.\u001b[0m\u001b[0m__cut\u001b[0m\u001b[0;34m(\u001b[0m\u001b[0mblk\u001b[0m\u001b[0;34m)\u001b[0m\u001b[0;34m:\u001b[0m\u001b[0;34m\u001b[0m\u001b[0;34m\u001b[0m\u001b[0m\n\u001b[0m\u001b[1;32m    140\u001b[0m                     \u001b[0;32myield\u001b[0m \u001b[0mword\u001b[0m\u001b[0;34m\u001b[0m\u001b[0;34m\u001b[0m\u001b[0m\n\u001b[1;32m    141\u001b[0m             \u001b[0;32melse\u001b[0m\u001b[0;34m:\u001b[0m\u001b[0;34m\u001b[0m\u001b[0;34m\u001b[0m\u001b[0m\n",
            "\u001b[0;32m/usr/local/lib/python3.6/dist-packages/jieba/posseg/__init__.py\u001b[0m in \u001b[0;36m__cut\u001b[0;34m(self, sentence)\u001b[0m\n\u001b[1;32m    117\u001b[0m     \u001b[0;32mdef\u001b[0m \u001b[0m__cut\u001b[0m\u001b[0;34m(\u001b[0m\u001b[0mself\u001b[0m\u001b[0;34m,\u001b[0m \u001b[0msentence\u001b[0m\u001b[0;34m)\u001b[0m\u001b[0;34m:\u001b[0m\u001b[0;34m\u001b[0m\u001b[0;34m\u001b[0m\u001b[0m\n\u001b[1;32m    118\u001b[0m         prob, pos_list = viterbi(\n\u001b[0;32m--> 119\u001b[0;31m             sentence, char_state_tab_P, start_P, trans_P, emit_P)\n\u001b[0m\u001b[1;32m    120\u001b[0m         \u001b[0mbegin\u001b[0m\u001b[0;34m,\u001b[0m \u001b[0mnexti\u001b[0m \u001b[0;34m=\u001b[0m \u001b[0;36m0\u001b[0m\u001b[0;34m,\u001b[0m \u001b[0;36m0\u001b[0m\u001b[0;34m\u001b[0m\u001b[0;34m\u001b[0m\u001b[0m\n\u001b[1;32m    121\u001b[0m \u001b[0;34m\u001b[0m\u001b[0m\n",
            "\u001b[0;32m/usr/local/lib/python3.6/dist-packages/jieba/posseg/viterbi.py\u001b[0m in \u001b[0;36mviterbi\u001b[0;34m(obs, states, start_p, trans_p, emit_p)\u001b[0m\n\u001b[1;32m     36\u001b[0m         \u001b[0;32mfor\u001b[0m \u001b[0my\u001b[0m \u001b[0;32min\u001b[0m \u001b[0mobs_states\u001b[0m\u001b[0;34m:\u001b[0m\u001b[0;34m\u001b[0m\u001b[0;34m\u001b[0m\u001b[0m\n\u001b[1;32m     37\u001b[0m             prob, state = max((V[t - 1][y0] + trans_p[y0].get(y, MIN_INF) +\n\u001b[0;32m---> 38\u001b[0;31m                                emit_p[y].get(obs[t], MIN_FLOAT), y0) for y0 in prev_states)\n\u001b[0m\u001b[1;32m     39\u001b[0m             \u001b[0mV\u001b[0m\u001b[0;34m[\u001b[0m\u001b[0mt\u001b[0m\u001b[0;34m]\u001b[0m\u001b[0;34m[\u001b[0m\u001b[0my\u001b[0m\u001b[0;34m]\u001b[0m \u001b[0;34m=\u001b[0m \u001b[0mprob\u001b[0m\u001b[0;34m\u001b[0m\u001b[0;34m\u001b[0m\u001b[0m\n\u001b[1;32m     40\u001b[0m             \u001b[0mmem_path\u001b[0m\u001b[0;34m[\u001b[0m\u001b[0mt\u001b[0m\u001b[0;34m]\u001b[0m\u001b[0;34m[\u001b[0m\u001b[0my\u001b[0m\u001b[0;34m]\u001b[0m \u001b[0;34m=\u001b[0m \u001b[0mstate\u001b[0m\u001b[0;34m\u001b[0m\u001b[0;34m\u001b[0m\u001b[0m\n",
            "\u001b[0;32m/usr/local/lib/python3.6/dist-packages/jieba/posseg/viterbi.py\u001b[0m in \u001b[0;36m<genexpr>\u001b[0;34m(.0)\u001b[0m\n\u001b[1;32m     36\u001b[0m         \u001b[0;32mfor\u001b[0m \u001b[0my\u001b[0m \u001b[0;32min\u001b[0m \u001b[0mobs_states\u001b[0m\u001b[0;34m:\u001b[0m\u001b[0;34m\u001b[0m\u001b[0;34m\u001b[0m\u001b[0m\n\u001b[1;32m     37\u001b[0m             prob, state = max((V[t - 1][y0] + trans_p[y0].get(y, MIN_INF) +\n\u001b[0;32m---> 38\u001b[0;31m                                emit_p[y].get(obs[t], MIN_FLOAT), y0) for y0 in prev_states)\n\u001b[0m\u001b[1;32m     39\u001b[0m             \u001b[0mV\u001b[0m\u001b[0;34m[\u001b[0m\u001b[0mt\u001b[0m\u001b[0;34m]\u001b[0m\u001b[0;34m[\u001b[0m\u001b[0my\u001b[0m\u001b[0;34m]\u001b[0m \u001b[0;34m=\u001b[0m \u001b[0mprob\u001b[0m\u001b[0;34m\u001b[0m\u001b[0;34m\u001b[0m\u001b[0m\n\u001b[1;32m     40\u001b[0m             \u001b[0mmem_path\u001b[0m\u001b[0;34m[\u001b[0m\u001b[0mt\u001b[0m\u001b[0;34m]\u001b[0m\u001b[0;34m[\u001b[0m\u001b[0my\u001b[0m\u001b[0;34m]\u001b[0m \u001b[0;34m=\u001b[0m \u001b[0mstate\u001b[0m\u001b[0;34m\u001b[0m\u001b[0;34m\u001b[0m\u001b[0m\n",
            "\u001b[0;31mKeyboardInterrupt\u001b[0m: "
          ]
        }
      ]
    },
    {
      "cell_type": "code",
      "metadata": {
        "id": "aR_Rg4fvqFpT",
        "colab_type": "code",
        "colab": {}
      },
      "source": [
        "from sklearn.decomposition import LatentDirichletAllocation\n",
        "\n",
        "#Latent Dirichlet Allocation with online variational Bayes algorithm\n",
        "n_topics = 4\n",
        "lda = LatentDirichletAllocation(n_components=n_topics, max_iter=30, \n",
        "                  learning_method='online', learning_offset=20.0,)#LDA模型训练\n",
        "\n",
        "#random_state=0 should check random state??"
      ],
      "execution_count": 0,
      "outputs": []
    },
    {
      "cell_type": "code",
      "metadata": {
        "id": "l5sbtE7VMjsU",
        "colab_type": "code",
        "outputId": "e1fe5532-cb4b-4769-cf9a-1e380931c83f",
        "colab": {
          "base_uri": "https://localhost:8080/",
          "height": 153
        }
      },
      "source": [
        "#training step\n",
        "lda.fit(tfidf)"
      ],
      "execution_count": 0,
      "outputs": [
        {
          "output_type": "execute_result",
          "data": {
            "text/plain": [
              "LatentDirichletAllocation(batch_size=128, doc_topic_prior=None,\n",
              "                          evaluate_every=-1, learning_decay=0.7,\n",
              "                          learning_method='online', learning_offset=20.0,\n",
              "                          max_doc_update_iter=100, max_iter=30,\n",
              "                          mean_change_tol=0.001, n_components=4, n_jobs=None,\n",
              "                          perp_tol=0.1, random_state=None,\n",
              "                          topic_word_prior=None, total_samples=1000000.0,\n",
              "                          verbose=0)"
            ]
          },
          "metadata": {
            "tags": []
          },
          "execution_count": 46
        }
      ]
    },
    {
      "cell_type": "code",
      "metadata": {
        "id": "toj7mPVcoeVM",
        "colab_type": "code",
        "colab": {}
      },
      "source": [
        "#lda.fit(tf)\n",
        "\n",
        "def print_top_words(model, feature_names, n_top_words):#主题相关的top词计算\n",
        "    for topic_idx, topic in enumerate(model.components_):\n",
        "        print(\"Topic #%d:\" % topic_idx)\n",
        "        print(\" \".join([feature_names[i]\n",
        "            for i in topic.argsort()[:-n_top_words - 1:-1]]))\n",
        "    print()\n"
      ],
      "execution_count": 0,
      "outputs": []
    },
    {
      "cell_type": "code",
      "metadata": {
        "id": "fi9lty33Lzx4",
        "colab_type": "code",
        "outputId": "20617c46-8ad5-4bb3-fe8f-5424b2aca488",
        "colab": {
          "base_uri": "https://localhost:8080/",
          "height": 997
        }
      },
      "source": [
        "n_top_words = 50\n",
        "#tf_feature_names = tf_vectorizer.get_feature_names()\n",
        "#print_top_words(lda, tf_feature_names, n_top_words)\n",
        "\n",
        "data = pyLDAvis.sklearn.prepare(lda, tfidf, tfidf_vectorizer)\n",
        "pyLDAvis.display(data)#可视化主题模型"
      ],
      "execution_count": 0,
      "outputs": [
        {
          "output_type": "stream",
          "text": [
            "/usr/local/lib/python3.6/dist-packages/pyLDAvis/_prepare.py:257: FutureWarning: Sorting because non-concatenation axis is not aligned. A future version\n",
            "of pandas will change to not sort by default.\n",
            "\n",
            "To accept the future behavior, pass 'sort=False'.\n",
            "\n",
            "To retain the current behavior and silence the warning, pass 'sort=True'.\n",
            "\n",
            "  return pd.concat([default_term_info] + list(topic_dfs))\n"
          ],
          "name": "stderr"
        },
        {
          "output_type": "execute_result",
          "data": {
            "text/html": [
              "\n",
              "<link rel=\"stylesheet\" type=\"text/css\" href=\"https://cdn.rawgit.com/bmabey/pyLDAvis/files/ldavis.v1.0.0.css\">\n",
              "\n",
              "\n",
              "<div id=\"ldavis_el1221405571199974165114741660\"></div>\n",
              "<script type=\"text/javascript\">\n",
              "\n",
              "var ldavis_el1221405571199974165114741660_data = {\"mdsDat\": {\"x\": [-0.020289342165907456, -0.03887519032330187, -0.22612322039423446, 0.2852877528834438], \"y\": [-0.15299947007821832, -0.1603330220793759, 0.19304857169630854, 0.12028392046128573], \"topics\": [1, 2, 3, 4], \"cluster\": [1, 1, 1, 1], \"Freq\": [37.28093526414281, 34.951197646889646, 17.835179707401075, 9.932687381566465]}, \"tinfo\": {\"Category\": [\"Default\", \"Default\", \"Default\", \"Default\", \"Default\", \"Default\", \"Default\", \"Default\", \"Default\", \"Default\", \"Default\", \"Default\", \"Default\", \"Default\", \"Default\", \"Default\", \"Default\", \"Default\", \"Default\", \"Default\", \"Default\", \"Default\", \"Default\", \"Default\", \"Default\", \"Default\", \"Default\", \"Default\", \"Default\", \"Default\", \"Topic1\", \"Topic1\", \"Topic1\", \"Topic1\", \"Topic1\", \"Topic1\", \"Topic1\", \"Topic1\", \"Topic1\", \"Topic1\", \"Topic1\", \"Topic1\", \"Topic1\", \"Topic1\", \"Topic1\", \"Topic1\", \"Topic1\", \"Topic1\", \"Topic1\", \"Topic1\", \"Topic1\", \"Topic1\", \"Topic1\", \"Topic1\", \"Topic1\", \"Topic1\", \"Topic1\", \"Topic1\", \"Topic1\", \"Topic1\", \"Topic1\", \"Topic1\", \"Topic1\", \"Topic1\", \"Topic1\", \"Topic1\", \"Topic1\", \"Topic1\", \"Topic1\", \"Topic1\", \"Topic1\", \"Topic1\", \"Topic1\", \"Topic1\", \"Topic1\", \"Topic1\", \"Topic1\", \"Topic1\", \"Topic1\", \"Topic1\", \"Topic1\", \"Topic1\", \"Topic1\", \"Topic1\", \"Topic1\", \"Topic1\", \"Topic1\", \"Topic1\", \"Topic1\", \"Topic1\", \"Topic1\", \"Topic1\", \"Topic1\", \"Topic1\", \"Topic2\", \"Topic2\", \"Topic2\", \"Topic2\", \"Topic2\", \"Topic2\", \"Topic2\", \"Topic2\", \"Topic2\", \"Topic2\", \"Topic2\", \"Topic2\", \"Topic2\", \"Topic2\", \"Topic2\", \"Topic2\", \"Topic2\", \"Topic2\", \"Topic2\", \"Topic2\", \"Topic2\", \"Topic2\", \"Topic2\", \"Topic2\", \"Topic2\", \"Topic2\", \"Topic2\", \"Topic2\", \"Topic2\", \"Topic2\", \"Topic2\", \"Topic2\", \"Topic2\", \"Topic2\", \"Topic2\", \"Topic2\", \"Topic2\", \"Topic2\", \"Topic2\", \"Topic2\", \"Topic2\", \"Topic2\", \"Topic2\", \"Topic2\", \"Topic2\", \"Topic2\", \"Topic2\", \"Topic2\", \"Topic2\", \"Topic2\", \"Topic2\", \"Topic2\", \"Topic2\", \"Topic2\", \"Topic2\", \"Topic2\", \"Topic2\", \"Topic2\", \"Topic2\", \"Topic2\", \"Topic2\", \"Topic2\", \"Topic2\", \"Topic3\", \"Topic3\", \"Topic3\", \"Topic3\", \"Topic3\", \"Topic3\", \"Topic3\", \"Topic3\", \"Topic3\", \"Topic3\", \"Topic3\", \"Topic3\", \"Topic3\", \"Topic3\", \"Topic3\", \"Topic3\", \"Topic3\", \"Topic3\", \"Topic3\", \"Topic3\", \"Topic3\", \"Topic3\", \"Topic3\", \"Topic3\", \"Topic3\", \"Topic3\", \"Topic3\", \"Topic3\", \"Topic3\", \"Topic3\", \"Topic3\", \"Topic3\", \"Topic3\", \"Topic3\", \"Topic3\", \"Topic3\", \"Topic3\", \"Topic3\", \"Topic3\", \"Topic3\", \"Topic3\", \"Topic3\", \"Topic3\", \"Topic3\", \"Topic3\", \"Topic3\", \"Topic3\", \"Topic3\", \"Topic3\", \"Topic3\", \"Topic3\", \"Topic3\", \"Topic3\", \"Topic3\", \"Topic3\", \"Topic3\", \"Topic3\", \"Topic3\", \"Topic3\", \"Topic3\", \"Topic3\", \"Topic4\", \"Topic4\", \"Topic4\", \"Topic4\", \"Topic4\", \"Topic4\", \"Topic4\", \"Topic4\", \"Topic4\", \"Topic4\", \"Topic4\", \"Topic4\", \"Topic4\", \"Topic4\", \"Topic4\", \"Topic4\", \"Topic4\", \"Topic4\", \"Topic4\", \"Topic4\", \"Topic4\", \"Topic4\", \"Topic4\", \"Topic4\", \"Topic4\", \"Topic4\", \"Topic4\", \"Topic4\", \"Topic4\", \"Topic4\", \"Topic4\", \"Topic4\", \"Topic4\", \"Topic4\", \"Topic4\", \"Topic4\", \"Topic4\", \"Topic4\", \"Topic4\"], \"Freq\": [1777.0, 1974.0, 717.0, 1085.0, 670.0, 1484.0, 649.0, 642.0, 626.0, 690.0, 804.0, 885.0, 788.0, 597.0, 1220.0, 739.0, 650.0, 707.0, 553.0, 580.0, 610.0, 3492.0, 489.0, 2791.0, 1326.0, 419.0, 460.0, 1199.0, 496.0, 1470.0, 779.9558086535096, 596.55071462306, 376.4871133978522, 341.2703500608262, 234.97671249055213, 239.11729736969048, 322.99542979484784, 276.64475957561393, 534.7761433538749, 301.97704259881164, 244.60835862777353, 407.0557802149371, 166.50721489759192, 430.3564887162866, 234.68537062200951, 274.15993941888155, 363.0480356139599, 188.53232372299792, 169.8069607653709, 210.7959243335076, 505.05025690080873, 196.77863934255316, 187.94312711120077, 182.05957687091365, 312.71755685622196, 721.7021858839832, 357.82846913970747, 245.2419165337453, 669.1024510953148, 252.19155237958992, 415.8500431348666, 1264.3459554179765, 710.5129682785608, 356.1485979416551, 807.5386784100181, 667.0455120431591, 400.59171118724527, 1512.1990118441718, 2355.788085947646, 1311.2188036926038, 898.3373694308494, 1010.2676572069015, 597.6841247532478, 882.1170473153892, 1180.6101772440413, 1464.2619638438741, 1086.2304458807853, 956.2928271153156, 523.1610731422101, 777.9974647549504, 446.8433750852309, 599.9132399056413, 583.7216752006826, 680.351010876666, 765.4012527425618, 806.1576951629179, 715.577657438589, 881.0814422355478, 665.8750342250421, 750.935565931697, 702.0834753147699, 629.8211815332418, 631.6471251489359, 598.1835425071336, 1483.2525187343551, 554.7818467409463, 402.8886573504267, 343.66877357875205, 322.2788273813144, 311.2885936587061, 285.8299235326044, 240.7140626537188, 244.31397207341547, 234.59556902768384, 207.43976180952518, 193.17648169848096, 188.26917181552065, 176.3193969288201, 169.16860166330943, 157.51399649993226, 157.50859040164514, 145.94398592303165, 242.56034149185942, 341.26681304081825, 807.949808270283, 125.17757676361799, 131.74725204788965, 825.006529343302, 185.10845004222676, 226.3582111031936, 159.0660809006037, 164.3531230281305, 319.5078921090168, 166.11908735164081, 1266.0774536520757, 511.8998576443011, 420.72139284918154, 2197.6877864604576, 286.3962447854841, 599.9299272361602, 1029.2259849233112, 279.5766809034316, 385.34115617396975, 575.8004047578672, 726.1696175462766, 503.76356674565835, 483.2427517334853, 801.1088369391476, 715.6594029353154, 1002.295976404382, 873.2730784670946, 750.756754333956, 615.5769955680854, 452.724384922457, 687.4927054671064, 661.3269062956595, 540.9876999433599, 654.1088897275837, 973.1810094732868, 693.3261414209483, 565.6498941664339, 662.1619654895097, 716.327344048496, 606.3560251461242, 570.7666434191418, 606.6874287464977, 518.8982548524402, 787.4142140442433, 514.844751569305, 434.4265170248786, 322.90392305771263, 304.75307584302243, 307.0440832701669, 293.40742851268436, 278.01464989289093, 273.50572741845934, 262.21157967148395, 260.2305282261659, 259.75629131910415, 256.6307853350074, 250.66017748676242, 244.79959633499078, 232.26892490868022, 227.3182843872432, 223.31353115521816, 228.919194415778, 225.45512457630716, 221.49756358479024, 223.7936147360868, 223.57882081821623, 207.9470893565061, 200.64034773489254, 207.4081107786445, 191.21031802696606, 182.16220403916574, 180.72422782397274, 185.47118215963843, 283.1760967344224, 330.3930639948154, 986.7731757117118, 379.1276206774456, 492.38608182757156, 528.1604369854872, 404.0304313186736, 410.0095576477535, 301.8898036961484, 312.5767892249336, 289.58994019647207, 345.25676921419193, 592.0923673292929, 399.68155348759086, 298.2192510551658, 523.2614713010278, 494.99826390414233, 324.97507280667907, 364.0831838589887, 476.3424376257775, 354.70015460112774, 387.7453332635422, 380.3074938594945, 684.7328477466524, 359.1330592356254, 441.3329387726545, 434.93618037438296, 317.35377648334907, 328.52321001274237, 356.2870604790506, 316.3589155729821, 716.4543895508509, 649.0539978313202, 641.6968563818909, 625.7566167934266, 552.4103773628188, 489.0555764777622, 669.5495458152876, 418.60837318216016, 372.02894181807045, 366.84353643827086, 348.2250532441419, 322.4715948522861, 297.6230288975801, 236.1509537473546, 185.14389028154594, 329.40575944225924, 577.3467457110924, 276.7386976991008, 1657.8961541755903, 88.50170427191526, 211.76145591677005, 524.9188858674552, 203.95837802614474, 403.7742323964575, 598.2324283169323, 524.4327697981454, 552.0570534862089, 228.01449674641816, 343.06151969886736, 200.93738177089202, 545.1574654223049, 385.7928318344037, 544.7340294422229, 567.0694063135066, 597.262893203626, 659.900934295391, 340.66723121228245, 447.6307894900778, 342.004254609196], \"Term\": [\"jpg\", \"\\u97d3\\u7c89\", \"\\u9928\\u9577\", \"\\u8868\\u793a\", \"\\u76f4\\u64ad\", \"\\u9999\\u6e2f\", \"be\", \"youtu\", \"youtube\", \"\\u653f\\u9ed1\", \"1450\", \"\\u8f49\\u9304\", \"news\", \"\\u516b\\u5366\", \"\\u67ef\\u7c89\", \"http\", \"\\u6587\\u7ae0\", \"cc\", \"watch\", \"\\u5f71\\u7247\", \"ptt\", \"\\u97d3\\u570b\\u745c\", \"live\", \"\\u53f0\\u7063\", \"\\u9ed1\\u7279\", \"\\u674e\\u4f73\\u82ac\", \"\\u7db2\\u8ecd\", \"\\u9ad8\\u96c4\", \"reurl\", \"\\u90ed\\u53f0\\u9298\", \"\\u90ed\\u8463\", \"\\u521d\\u9078\", \"\\u738b\\u91d1\\u5e73\", \"\\u526f\\u624b\", \"\\u9000\\u9ee8\", \"\\u97d3\\u9ed1\", \"\\u4e0d\\u9078\", \"\\u7f77\\u514d\", \"\\u8349\\u5305\", \"\\u5eb6\\u6c11\", \"\\u97d3\\u7684\", \"\\u6642\\u529b\", \"\\u9ee8\\u5167\", \"\\u9078\\u7e3d\\u7d71\", \"\\u9ad8\\u96c4\\u4eba\", \"\\u7d44\\u9ee8\", \"\\u85cd\\u71df\", \"\\u7e3d\\u7d71\\u5019\", \"\\u5433\\u6566\\u7fa9\", \"\\u9078\\u4e0a\", \"\\u97d3\\u7e3d\", \"\\u842c\\u7968\", \"1124\", \"\\u5b8b\\u695a\\u745c\", \"\\u9078\\u4eba\", \"\\u97d3\\u5c0e\", \"\\u9078\\u6c11\", \"\\u89aa\\u6c11\\u9ee8\", \"kmt\", \"\\u6295\\u7d66\", \"\\u9020\\u52e2\", \"\\u90ed\\u53f0\\u9298\", \"\\u53c3\\u9078\", \"\\u7576\\u9078\", \"\\u6c11\\u8abf\", \"2020\", \"\\u6731\\u7acb\\u502b\", \"\\u570b\\u6c11\\u9ee8\", \"\\u97d3\\u570b\\u745c\", \"\\u97d3\\u7c89\", \"\\u51fa\\u4f86\", \"\\u652f\\u6301\", \"dpp\", \"\\u7acb\\u59d4\", \"\\u6c11\\u9032\\u9ee8\", \"\\u67ef\\u6587\\u54f2\", \"\\u7e3d\\u7d71\", \"\\u73fe\\u5728\", \"\\u529b\\u91cf\", \"\\u53ef\\u80fd\", \"\\u85cd\\u7da0\", \"\\u4e00\\u5b9a\", \"\\u67efp\", \"\\u61c9\\u8a72\", \"re\", \"\\u4e00\\u500b\", \"\\u662f\\u4e0d\\u662f\", \"\\u8521\\u82f1\\u6587\", \"\\u4e0d\\u6703\", \"\\u5927\\u5bb6\", \"\\u600e\\u9ebc\", \"\\u4e0d\\u8981\", \"\\u56e0\\u70ba\", \"\\u9078\\u8209\", \"\\u9999\\u6e2f\", \"\\u8ad6\\u6587\", \"\\u535a\\u58eb\", \"asus\", \"\\u8d70\\u79c1\", \"\\u5927\\u9678\", \"lse\", \"\\u4e2d\\u570b\\u4eba\", \"\\u7562\\u696d\", \"\\u5b78\\u751f\", \"\\u5b78\\u4f4d\", \"\\u5169\\u5236\", \"\\u904a\\u884c\", \"\\u5ddd\\u666e\", \"\\u82f1\\u570b\", \"\\u5317\\u4eac\", \"\\u5c0d\\u5cb8\", \"\\u611b\\u53f0\\u7063\", \"\\u4e00\\u570b\", \"\\u8b66\\u5bdf\", \"\\u4e2d\\u5171\", \"\\u6c11\\u65cf\", \"\\u4e2d\\u83ef\", \"\\u7f8e\\u570b\", \"\\u4e3b\\u6b0a\", \"\\u53f0\\u7368\", \"\\u7d71\\u4e00\", \"\\u5171\\u7522\\u9ee8\", \"\\u5916\\u4ea4\", \"\\u548c\\u5e73\", \"\\u4e2d\\u570b\", \"\\u65e5\\u672c\", \"\\u5169\\u5cb8\", \"\\u53f0\\u7063\", \"\\u6587\\u5316\", \"\\u570b\\u5bb6\", \"\\u6211\\u5011\", \"\\u53cd\\u9001\", \"\\u50f9\\u503c\", \"\\u4eba\\u6c11\", \"\\u653f\\u5e9c\", \"\\u6c11\\u4e3b\", \"\\u4e2d\\u83ef\\u6c11\\u570b\", \"\\u554f\\u984c\", \"\\u4ed6\\u5011\", \"\\u8521\\u82f1\\u6587\", \"\\u4e00\\u500b\", \"\\u9019\\u500b\", \"\\u9019\\u7a2e\", \"\\u4e8b\\u60c5\", \"\\u56e0\\u70ba\", \"\\u6c92\\u6709\", \"\\u9019\\u4e9b\", \"\\u653f\\u6cbb\", \"\\u67ef\\u6587\\u54f2\", \"re\", \"\\u4f46\\u662f\", \"\\u600e\\u9ebc\", \"\\u6c11\\u9032\\u9ee8\", \"\\u5927\\u5bb6\", \"\\u4e0d\\u8981\", \"\\u73fe\\u5728\", \"\\u53ea\\u662f\", \"news\", \"tw\", \"12\", \"ettoday\", \"udn\", \"16\", \"13\", \"ltn\", \"09\", \"22\", \"23\", \"\\u51fa\\u5e2d\", \"08\", \"21\", \"19\", \"\\u5c0d\\u6b64\", \"29\", \"breakingnews\", \"28\", \"27\", \"politics\", \"26\", \"\\u65e5\\u524d\", \"07\", \"net\", \"35\", \"\\u806f\\u5408\\u5831\", \"\\u53f0\\u4e2d\\u5e02\", \"\\u842c\\u5143\", \"chinatimes\", \"story\", \"\\u65b0\\u5317\\u5e02\", \"\\u8868\\u793a\", \"\\u6307\\u51fa\", \"\\u5e02\\u5e9c\", \"\\u5831\\u5c0e\", \"2019\", \"\\u4f86\\u6e90\", \"18\", \"\\u6843\\u5712\", \"14\", \"15\", \"10\", \"11\", \"25\", \"\\u8a18\\u8005\", \"\\u53f0\\u5317\\u5e02\", \"\\u9078\\u5340\", \"\\u7db2\\u5740\", \"\\u9ad8\\u96c4\\u5e02\", \"\\u5fc3\\u5f97\", \"\\u53f0\\u5317\", \"\\u5167\\u5bb9\", \"\\u97d3\\u570b\\u745c\", \"20\", \"\\u7acb\\u59d4\", \"\\u7e3d\\u7d71\", \"30\", \"\\u5e02\\u9577\", \"\\u67ef\\u6587\\u54f2\", \"\\u9ad8\\u96c4\", \"\\u9928\\u9577\", \"be\", \"youtu\", \"youtube\", \"watch\", \"live\", \"\\u76f4\\u64ad\", \"\\u674e\\u4f73\\u82ac\", \"\\u87d1\\u8782\", \"\\u6df9\\u6c34\", \"\\u5e33\\u865f\", \"\\u7559\\u8a00\", \"\\u7167\\u7247\", \"the\", \"\\u6c34\\u6876\", \"\\u67ef\\u7cde\", \"\\u516b\\u5366\", \"hatepolitics\", \"jpg\", \"\\u4f7f\\u7528\\u8005\", \"id\", \"\\u5f71\\u7247\", \"\\u63a8\\u6587\", \"\\u7db2\\u8ecd\", \"\\u653f\\u9ed1\", \"ptt\", \"\\u6587\\u7ae0\", \"\\u54c8\\u54c8\\u54c8\", \"fb\", \"\\u5206\\u4eab\", \"cc\", \"reurl\", \"http\", \"1450\", \"\\u8f49\\u9304\", \"\\u97d3\\u7c89\", \"\\u81c9\\u66f8\", \"\\u67ef\\u7c89\", \"\\u9ed1\\u7279\"], \"Total\": [1777.0, 1974.0, 717.0, 1085.0, 670.0, 1484.0, 649.0, 642.0, 626.0, 690.0, 804.0, 885.0, 788.0, 597.0, 1220.0, 739.0, 650.0, 707.0, 553.0, 580.0, 610.0, 3492.0, 489.0, 2791.0, 1326.0, 419.0, 460.0, 1199.0, 496.0, 1470.0, 780.8844095349292, 597.4946902223958, 377.4240763917792, 342.1658443443342, 235.90776104919607, 240.103451537764, 328.7615571635685, 283.6585040751859, 553.4673024443873, 313.3934075020887, 254.61455331609017, 424.3351993581885, 175.89996815040737, 455.9523886495142, 253.4971999632978, 297.3928721096867, 394.1673798461672, 204.93851902969683, 185.18294249241342, 230.01683087938403, 556.7034991557357, 220.9378163276681, 211.49534728831102, 204.93043548249162, 352.25422173389813, 814.0050053021416, 403.74680514496447, 277.0599173284256, 765.1894309485956, 288.6372295500092, 476.5621216423622, 1470.2597506886618, 833.0174610058814, 414.00577859741605, 989.2654535929059, 815.1097972359446, 471.474329088079, 2082.243333511404, 3492.645443798082, 1974.835038233612, 1260.9222669246192, 1590.4956809862263, 815.6939160380655, 1371.815577997295, 2041.2026175735082, 2897.111751457875, 1928.4526904908648, 1670.4452121223294, 715.5435091003735, 1329.0911925109394, 569.9673088098276, 965.7884636661707, 924.7346237822292, 1246.3560420770982, 1579.0942605404712, 1775.7714403704822, 1405.166932182117, 2171.5894841257204, 1212.0356010241053, 1630.3667798476174, 1568.6489410698912, 1328.548800469438, 1384.9689004790646, 1013.1591877462989, 1484.1642841637188, 555.6756456008567, 403.7818649271791, 344.60245192702683, 323.19638277658834, 312.2076780926412, 286.7054410965307, 241.60008463538676, 245.2337319169538, 235.55276020540893, 208.3182357025165, 194.06492746441828, 189.21736349136734, 177.22243991594834, 170.06898904147096, 158.41898224073717, 158.42265266096376, 146.85480793889886, 245.37552078516097, 352.8373526306788, 844.5943261487888, 130.97043926377714, 139.45049072618735, 878.9238006924023, 197.43083007610542, 241.6177205666465, 170.52294526444683, 178.28301352370147, 350.27514457132247, 182.63991376737428, 1399.6574808571986, 582.1226399475612, 478.55861403146076, 2791.7926055995067, 318.65232268441935, 736.3860982700019, 1495.797996662716, 318.7247918798931, 473.17105339624413, 777.6320724560414, 1056.9126231972054, 667.1529007170557, 636.4725276525829, 1261.7769981980903, 1126.182653901111, 2171.5894841257204, 1775.7714403704822, 1417.9955980847212, 1096.0275210015664, 679.2695066782836, 1384.9689004790646, 1302.3789735234477, 931.9715827787378, 1339.938034344113, 2897.111751457875, 1579.0942605404712, 1061.3556383416299, 1568.6489410698912, 2041.2026175735082, 1630.3667798476174, 1328.548800469438, 1670.4452121223294, 975.8368537184163, 788.2615988469803, 515.7212794615501, 435.30995053422157, 323.74121704967195, 305.59992542375943, 307.92263809809407, 294.2684016310572, 278.85099166021354, 274.3518355587898, 263.06568758324795, 261.0893701513773, 260.621856136586, 257.48617077800634, 251.5288690583123, 245.6591855456764, 233.11237188689555, 228.16824544549027, 224.14895119428482, 229.77718160055383, 226.30740578766213, 222.33571789703936, 224.64949798754986, 224.4342935374097, 208.79175306680793, 201.4826122738768, 208.32051772945226, 192.05576630746864, 183.00134043233638, 181.56736502756647, 186.3504744965615, 284.6676665000474, 339.2364945654732, 1085.788096639359, 399.5955888537384, 541.2332480397985, 611.0101554928975, 450.3541210490856, 481.08789961636535, 327.5463010305756, 343.6852461100726, 313.9439041527841, 398.1800993529888, 857.6077302454332, 496.9793613589976, 339.95805980377327, 814.3384102033293, 834.2605365351727, 399.89985791859925, 500.3365619551156, 866.6931898119341, 495.6417111246135, 643.8681869185704, 620.9563448573373, 3492.645443798082, 574.9398701603822, 1371.815577997295, 1928.4526904908648, 490.0641056054856, 869.0836610113989, 2897.111751457875, 1199.9762087467836, 717.2265590808836, 649.8419133574738, 642.4766205030874, 626.5390390116917, 553.1886135724858, 489.8082923040099, 670.6453860727744, 419.3976169772956, 372.8073279786593, 367.62633056138645, 349.00146141771205, 323.2835154919711, 298.48378751248083, 236.9855260046336, 185.9062252401408, 331.0358700390979, 597.1803764945881, 293.50267614014456, 1777.3048338533433, 95.03377811198015, 233.44960135726706, 580.4183759418406, 227.38557780105495, 460.96257465820946, 690.657570502861, 610.0718278457836, 650.9274212578312, 279.32014733853526, 424.0968896929501, 253.77094529531962, 707.601653704884, 496.109341196293, 739.7922255991809, 804.1441758556122, 885.3335061069065, 1974.835038233612, 599.0812857475671, 1220.5503524239734, 1326.484823068869], \"loglift\": [30.0, 29.0, 28.0, 27.0, 26.0, 25.0, 24.0, 23.0, 22.0, 21.0, 20.0, 19.0, 18.0, 17.0, 16.0, 15.0, 14.0, 13.0, 12.0, 11.0, 10.0, 9.0, 8.0, 7.0, 6.0, 5.0, 4.0, 3.0, 2.0, 1.0, 0.9855, 0.9851, 0.9842, 0.9841, 0.9827, 0.9826, 0.969, 0.9617, 0.9523, 0.9496, 0.9466, 0.9451, 0.9318, 0.9289, 0.9096, 0.9053, 0.9044, 0.9032, 0.9, 0.8994, 0.8893, 0.8709, 0.8686, 0.8684, 0.8676, 0.8663, 0.866, 0.8647, 0.8525, 0.8517, 0.8504, 0.8358, 0.8276, 0.8362, 0.7837, 0.7862, 0.8238, 0.6668, 0.5929, 0.5772, 0.6476, 0.5329, 0.6757, 0.5451, 0.4392, 0.3043, 0.4127, 0.4289, 0.6735, 0.4512, 0.7433, 0.5105, 0.5266, 0.3813, 0.2625, 0.197, 0.3119, 0.0846, 0.3877, 0.2114, 0.1828, 0.2403, 0.2016, 0.4598, 1.0506, 1.0496, 1.049, 1.0485, 1.0484, 1.0483, 1.0482, 1.0475, 1.0475, 1.0471, 1.047, 1.0466, 1.0462, 1.0461, 1.0459, 1.0455, 1.0454, 1.045, 1.0397, 1.0179, 1.0069, 1.006, 0.9944, 0.9879, 0.9868, 0.986, 0.9817, 0.9699, 0.9593, 0.9564, 0.9509, 0.9227, 0.9224, 0.8119, 0.9445, 0.8463, 0.6774, 0.9202, 0.8459, 0.7507, 0.6759, 0.7703, 0.7758, 0.5969, 0.5978, 0.2781, 0.3415, 0.4153, 0.4743, 0.6455, 0.3508, 0.3735, 0.5073, 0.3341, -0.0397, 0.2281, 0.4219, 0.1888, 0.0041, 0.0621, 0.2064, 0.0384, 0.4196, 1.7229, 1.7223, 1.722, 1.7214, 1.7212, 1.7211, 1.7211, 1.721, 1.7209, 1.7207, 1.7207, 1.7207, 1.7207, 1.7205, 1.7205, 1.7204, 1.7203, 1.7203, 1.7203, 1.7202, 1.7202, 1.7202, 1.7202, 1.7199, 1.7198, 1.7196, 1.7196, 1.7194, 1.7193, 1.7193, 1.7187, 1.6976, 1.6284, 1.6714, 1.6294, 1.5783, 1.6155, 1.5641, 1.6424, 1.6291, 1.6432, 1.5814, 1.3535, 1.5061, 1.593, 1.2817, 1.202, 1.5165, 1.4061, 1.1254, 1.3894, 1.2169, 1.2337, 0.0946, 1.2534, 0.5899, 0.2347, 1.2895, 0.7512, -0.3717, 0.3908, 2.3083, 2.3081, 2.3081, 2.3081, 2.3079, 2.3078, 2.3077, 2.3075, 2.3072, 2.3072, 2.3071, 2.3068, 2.3065, 2.3058, 2.3052, 2.3044, 2.2756, 2.2505, 2.2398, 2.2381, 2.2118, 2.2088, 2.2006, 2.1769, 2.1657, 2.1581, 2.1446, 2.1064, 2.0973, 2.0759, 2.0485, 2.0578, 2.0033, 1.96, 1.9157, 1.2132, 1.7448, 1.3063, 0.9539], \"logprob\": [30.0, 29.0, 28.0, 27.0, 26.0, 25.0, 24.0, 23.0, 22.0, 21.0, 20.0, 19.0, 18.0, 17.0, 16.0, 15.0, 14.0, 13.0, 12.0, 11.0, 10.0, 9.0, 8.0, 7.0, 6.0, 5.0, 4.0, 3.0, 2.0, 1.0, -5.1765, -5.4446, -5.9049, -6.0031, -6.3763, -6.3588, -6.0581, -6.213, -5.5539, -6.1254, -6.3361, -5.8268, -6.7207, -5.7711, -6.3775, -6.222, -5.9412, -6.5965, -6.7011, -6.4849, -5.6111, -6.5537, -6.5996, -6.6314, -6.0904, -5.2541, -5.9557, -6.3335, -5.3298, -6.3056, -5.8054, -4.6934, -5.2698, -5.9604, -5.1417, -5.3329, -5.8428, -4.5144, -4.0711, -4.657, -5.0352, -4.9178, -5.4427, -5.0534, -4.762, -4.5466, -4.8453, -4.9727, -5.5759, -5.179, -5.7335, -5.439, -5.4663, -5.3131, -5.1953, -5.1435, -5.2627, -5.0546, -5.3346, -5.2144, -5.2817, -5.3903, -5.3874, -5.4418, -4.4692, -5.4526, -5.7726, -5.9315, -5.9958, -6.0305, -6.1158, -6.2876, -6.2728, -6.3133, -6.4364, -6.5076, -6.5333, -6.5989, -6.6403, -6.7117, -6.7117, -6.788, -6.28, -5.9385, -5.0767, -6.9415, -6.8903, -5.0558, -6.5503, -6.3491, -6.7019, -6.6692, -6.0044, -6.6585, -4.6275, -5.5331, -5.7292, -4.0761, -6.1138, -5.3744, -4.8346, -6.1379, -5.8171, -5.4155, -5.1834, -5.5491, -5.5907, -5.0852, -5.198, -4.8612, -4.999, -5.1501, -5.3487, -5.6559, -5.2382, -5.277, -5.4778, -5.2879, -4.8906, -5.2297, -5.4332, -5.2757, -5.1971, -5.3637, -5.4242, -5.3632, -5.5195, -4.4297, -4.8546, -5.0244, -5.3211, -5.3789, -5.3714, -5.4169, -5.4708, -5.4871, -5.5293, -5.5369, -5.5387, -5.5508, -5.5743, -5.598, -5.6505, -5.6721, -5.6899, -5.6651, -5.6803, -5.698, -5.6877, -5.6887, -5.7611, -5.7969, -5.7637, -5.8451, -5.8935, -5.9015, -5.8755, -5.4524, -5.2981, -4.204, -5.1606, -4.8992, -4.829, -5.0969, -5.0823, -5.3884, -5.3536, -5.43, -5.2541, -4.7148, -5.1078, -5.4006, -4.8384, -4.8939, -5.3147, -5.201, -4.9323, -5.2272, -5.1381, -5.1575, -4.5694, -5.2147, -5.0086, -5.0232, -5.3384, -5.3038, -5.2227, -5.3416, -3.9388, -4.0376, -4.049, -4.0741, -4.1988, -4.3206, -4.0065, -4.4762, -4.5941, -4.6082, -4.6602, -4.7371, -4.8173, -5.0486, -5.292, -4.7158, -4.1546, -4.89, -3.0998, -6.0301, -5.1576, -4.2498, -5.1952, -4.5122, -4.1191, -4.2508, -4.1994, -5.0837, -4.6752, -5.2101, -4.212, -4.5578, -4.2128, -4.1726, -4.1207, -4.021, -4.6822, -4.4091, -4.6783]}, \"token.table\": {\"Topic\": [3, 3, 3, 1, 2, 3, 4, 1, 3, 1, 2, 3, 3, 3, 4, 1, 2, 4, 1, 3, 3, 3, 4, 3, 1, 2, 3, 2, 3, 1, 2, 3, 3, 3, 3, 1, 3, 3, 3, 3, 3, 1, 2, 3, 4, 3, 2, 4, 3, 3, 4, 3, 1, 2, 3, 2, 4, 3, 4, 2, 3, 4, 3, 4, 3, 4, 1, 2, 4, 2, 3, 3, 3, 3, 2, 3, 4, 1, 2, 3, 4, 3, 4, 3, 4, 4, 3, 3, 4, 4, 4, 1, 2, 4, 1, 2, 1, 2, 1, 2, 4, 1, 2, 4, 1, 2, 1, 2, 1, 2, 3, 4, 2, 2, 3, 1, 2, 1, 2, 1, 2, 1, 2, 3, 1, 2, 1, 2, 3, 4, 2, 3, 4, 1, 2, 1, 2, 3, 4, 2, 1, 2, 2, 4, 1, 2, 1, 2, 4, 3, 2, 4, 1, 1, 1, 2, 3, 2, 2, 1, 3, 1, 2, 1, 2, 4, 1, 2, 3, 3, 1, 2, 3, 4, 1, 2, 3, 1, 2, 3, 4, 1, 2, 1, 3, 1, 2, 1, 2, 4, 1, 2, 3, 1, 2, 3, 4, 1, 2, 3, 1, 2, 3, 2, 3, 4, 1, 2, 1, 2, 3, 4, 2, 2, 2, 1, 3, 2, 3, 2, 1, 2, 3, 1, 2, 3, 4, 1, 2, 2, 4, 3, 4, 1, 2, 4, 2, 1, 2, 3, 4, 1, 2, 3, 4, 1, 2, 2, 3, 2, 4, 1, 2, 3, 1, 2, 3, 1, 2, 3, 4, 1, 2, 4, 1, 2, 2, 3, 4, 1, 3, 3, 2, 3, 1, 2, 4, 1, 2, 1, 3, 4, 1, 2, 4, 1, 2, 3, 4, 1, 2, 4, 2, 4, 1, 3, 1, 2, 3, 2, 3, 1, 2, 3, 1, 2, 3, 4, 1, 2, 3, 4, 4, 4, 1, 1, 2, 4, 4, 2, 1, 2, 1, 4, 1, 2, 3, 1, 2, 1, 2, 3, 4, 1, 2, 4, 1, 2, 3, 1, 2, 1, 4, 1, 2, 3, 3, 1, 2, 3, 4, 2, 1, 2, 3, 1, 3, 1, 2, 3, 1, 2, 1, 2, 4, 1, 2, 3, 1, 3, 1, 2, 3, 4, 2, 2, 4, 2, 2, 3, 4, 1, 1, 2, 4, 1, 2, 4, 1, 2, 1, 4, 2, 1, 2, 1, 2, 1, 3, 1, 2, 1, 2, 1, 2, 3, 1, 3, 1, 1, 2, 3, 4, 1, 2, 4, 1, 2, 1, 2, 4, 1, 4, 1, 4, 2, 1, 3, 4, 1, 4, 1, 3, 4, 1, 2, 4, 1, 2], \"Freq\": [0.996207929407276, 0.998111856739578, 0.9987175753423585, 0.15624859160452229, 0.09211670699072581, 0.6902922852975909, 0.061799816082385675, 0.19517913125155142, 0.8048623969136142, 0.8889084436629138, 0.10874943725663307, 0.9969907636326393, 0.9956896437944857, 0.9237319029417066, 0.07644677817448606, 0.1504705295804146, 0.14425273910188505, 0.7050974402652486, 0.1305941710409332, 0.8664420963292684, 0.9970036691560166, 0.92200705381133, 0.07632508723603725, 0.9973166664042619, 0.2382857879760247, 0.13566636103744473, 0.6244131232364443, 0.10214184316298575, 0.8970718399531792, 0.8182946668802311, 0.06747557223150331, 0.11409505850054197, 0.9978973822754728, 0.9959489677538782, 0.9958275966932484, 0.12060311211231631, 0.8765787173041527, 0.997108838464505, 0.9942228766968022, 0.9966176728466237, 0.9948798946881968, 0.22650097962766916, 0.09590582020270676, 0.6468541490267669, 0.03060824049022556, 0.9936611249633739, 0.9982517479964002, 0.9987044335858178, 0.9948741620776581, 0.2289423705439283, 0.7702073576940798, 0.9927530396678093, 0.7331181319882414, 0.26603116160777324, 0.9977104643751363, 0.1886361393923938, 0.8087774476448885, 0.05451398334903142, 0.9437733367301063, 0.0013517308852361467, 0.26223579173581246, 0.7366933324537, 0.08995517609756797, 0.9081189206040194, 0.06695531218581012, 0.9328731731434722, 0.8742933095281377, 0.1241522636848626, 0.9983497782362815, 0.9975394917730452, 0.996948220785779, 0.9976046951723021, 0.9983995175601277, 0.9939923377598829, 0.029504722523509337, 0.10982313383750697, 0.8589152556843829, 0.48445493034606185, 0.43885917219584425, 0.001899823256259066, 0.07409310699410358, 0.2217253150983845, 0.7780542875270583, 0.9941417073440368, 0.003512868223830519, 0.9958414084554078, 0.9986014161325606, 0.9980368927677992, 0.9978513412183058, 0.9992581512106788, 0.9991396561457017, 0.45388724115973106, 0.49161732200055236, 0.05406101135401263, 0.008150772308502216, 0.9903188354830192, 0.6212540556990881, 0.3779295505502786, 0.5494888099303895, 0.4224298358624015, 0.0280519812877376, 0.4742016249439928, 0.4297922664174919, 0.09634572697274775, 0.9824749669235142, 0.015208590819249445, 0.04262401354760939, 0.9566723040685664, 0.016432591769462056, 0.9045070078321289, 0.07358943270672139, 0.005715684093725934, 0.9975162068494621, 0.9465725026323752, 0.05019702665474717, 0.24038743756040748, 0.7588701460240315, 0.0607807807695194, 0.937037036863424, 0.3327103569026224, 0.6668928835260529, 0.22247024798450488, 0.7407101898212417, 0.036006745338532584, 0.36406172531583114, 0.6357760861613051, 0.4663846708097188, 0.5332802498551532, 0.0631354463560323, 0.9365091209478125, 0.010393111121662295, 0.8522351119763081, 0.13718906680594228, 0.1838658543787636, 0.8136592406416551, 0.003220838335196484, 0.15460024008943124, 0.611959283687332, 0.23028994096654862, 0.9945125197101186, 0.11910766691633051, 0.8797250486276341, 0.031816182761276963, 0.9662072343819372, 0.07291777126188044, 0.9198857297652608, 0.7121771290392197, 0.25536863647063335, 0.03172281198392961, 0.9976139524681302, 0.20490919454741477, 0.7920528481544302, 0.9991720592157703, 0.9965927506687051, 0.7309129261161891, 0.14115144462282045, 0.12717605406610558, 0.9973552270390144, 0.9980636452622257, 0.8535235253549867, 0.14645551349269814, 0.11922511510908684, 0.8785008481722189, 0.4396226668067515, 0.5318511983046714, 0.028693320910463966, 0.5853623922751233, 0.3731873349209013, 0.040629266301872316, 0.9945282344382247, 0.17084242122046578, 0.18326732458195422, 0.6026078130321885, 0.04504027468539553, 0.2661039211107889, 0.1402439584232536, 0.5933398240983806, 0.16870880704222582, 0.7873077661970538, 0.04334132834842744, 0.0007163855925359907, 0.06208153923818879, 0.9353618578553777, 0.9180111176112485, 0.0810009809656984, 0.08760407114722447, 0.908892238152454, 0.17900606338790212, 0.003580121267758042, 0.8162676490488336, 0.3059177656204196, 0.6348189903159485, 0.05943998036666184, 0.45632793615899203, 0.49604001921080304, 0.010108530231370077, 0.03682393155713385, 0.1317243769645882, 0.8147899606057001, 0.052961347439370504, 0.7261399163421641, 0.13783211375013302, 0.13543085741302266, 0.09656140649970886, 0.8641427564719709, 0.039279216203271405, 0.08564695629978235, 0.9135675338643451, 0.4606325455614303, 0.37169550280988917, 0.027601151198754146, 0.13984583274035434, 0.996131811683751, 0.9936720100471714, 0.9976533486386366, 0.8881062472321214, 0.10735350241267401, 0.997332119782969, 0.9952281730999878, 0.9931022283829964, 0.003695264485771085, 0.0868387154156205, 0.9090350634996869, 0.5477033125281098, 0.07364078151638451, 0.37855964248266405, 0.9971304950596942, 0.9636450313588273, 0.03509965346008974, 0.09475923278747318, 0.9045199493349713, 0.7162431894492964, 0.28246210288141266, 0.4475188690219008, 0.4220192183653822, 0.13004821834824468, 0.9941792308273999, 0.5455904870222757, 0.40277415365468, 0.01925613483608032, 0.032093558060133864, 0.213264090947924, 0.6879271146878175, 0.036101131383034155, 0.06217417071522549, 0.8730682469232146, 0.12472403527474495, 0.050050602553874744, 0.9484589183959264, 0.10114977485565618, 0.8971545248066896, 0.635022158232913, 0.30116397405303497, 0.0635022158232913, 0.04919990438064577, 0.6869063573144005, 0.26303025803499086, 0.4224075931071332, 0.488082271894108, 0.05000231225826489, 0.03955406790579163, 0.12741480548157616, 0.0057915820673443705, 0.8658415190679835, 0.10042293032865018, 0.897529939812311, 0.1090751406090742, 0.04301554840921236, 0.8480208114959007, 0.023582368430752624, 0.9727726977685458, 0.9980649412771792, 0.8795397479234307, 0.12024957491140655, 0.5095480000287984, 0.3294982178957174, 0.16083498324931347, 0.9591473924755519, 0.04006266749897883, 0.8505235073468587, 0.14847043769147159, 0.9990519331507858, 0.6315325337461674, 0.3157662668730837, 0.052988174920483216, 0.5053308693609387, 0.33585173216406655, 0.12288100375170369, 0.035552649961869326, 0.48748500937986644, 0.1458358515455735, 0.36704753647425237, 0.003020820673849913, 0.9938500016966214, 0.08728917036605013, 0.9107170108191232, 0.08094096561966653, 0.7554490124502209, 0.1633808380100676, 0.954413841036659, 0.03817655364146636, 0.8167676300283516, 0.03032553081788434, 0.1536493561439473, 0.5785804847751571, 0.35077360465623414, 0.07054664674650518, 0.9951253636667078, 0.42767889479442056, 0.5075327638404165, 0.05528344780107411, 0.009213907966845685, 0.9982962848160793, 0.9983791832832442, 0.9962268533438737, 0.572302517354272, 0.36337617995192795, 0.06405477966203672, 0.9960297527388061, 0.9949691589843294, 0.859891379308931, 0.1376792376983401, 0.001491100991324029, 0.9990376641870994, 0.6429435662828865, 0.03499012605621151, 0.32147178314144326, 0.9213401721980116, 0.07733877357866521, 0.06450744785659906, 0.9324258371999319, 0.72751029542521, 0.27181703345557295, 0.041218096749151396, 0.08243619349830279, 0.8764268992977454, 0.5631457828107629, 0.21105003094289182, 0.22556944339105145, 0.9222278022445002, 0.07807219489900531, 0.9765263371993917, 0.021152195029589715, 0.010239795523696072, 0.9386479230054733, 0.050061222560291906, 0.9945028138036822, 0.013353780514136998, 0.05174589949228087, 0.36722896413876743, 0.5692048944150895, 0.9937143799848761, 0.9666334355022844, 0.03252224642811424, 0.9968751816854294, 0.8916536031470211, 0.10862785012958633, 0.40569362047481533, 0.4614131756138081, 0.13262175107462748, 0.9209285662899579, 0.07610979886693867, 0.7842555056945271, 0.21404736397031834, 0.9978344632251823, 0.03315564069216102, 0.057101381192055094, 0.909017148976748, 0.8842852562811461, 0.11188915487638991, 0.0871873401897772, 0.15349883836228378, 0.6422391397077953, 0.11665911715533568, 0.9987841007497709, 0.966450965175818, 0.031175837586316712, 0.9962982791876871, 0.1140813030381389, 0.21009032044647363, 0.6743221575620686, 0.9961520509322846, 0.37769391954043025, 0.5804898024754908, 0.04184676949453631, 0.38646100223454893, 0.5296208260550114, 0.0839212760326849, 0.4379452073989609, 0.5620296828286665, 0.872918725823931, 0.1259017393015285, 0.9935663225144616, 0.9173241766409865, 0.08260265097715044, 0.8885628068822642, 0.1107154935092917, 0.1850463273109312, 0.8127034645412519, 0.8866943228726252, 0.11145599030521824, 0.9430809240272157, 0.05483028628065207, 0.5902330129682867, 0.17963613438165246, 0.2289867207502383, 0.8597120334743226, 0.1394311446694906, 0.9988674258006305, 0.674560311921603, 0.04523791565518391, 0.19612640647975302, 0.08446319695113451, 0.8869724329668079, 0.009827949395754106, 0.1031934686554181, 0.962238791181138, 0.03534754743114384, 0.6638529166327846, 0.0015191142257043125, 0.33420512965494875, 0.9071256077352734, 0.09161070493960187, 0.995404266241502, 0.9982898582528017, 0.999215528781994, 0.47917616683460035, 0.26333855429518904, 0.25750510530763737, 0.9270319357926798, 0.07100670146497122, 0.44883241794528245, 0.5492139612903714, 0.0011538108430469987, 0.43196875684890573, 0.30984146433664966, 0.2578242841925406, 0.949403241831191, 0.05116544417054322], \"Term\": [\"07\", \"08\", \"09\", \"10\", \"10\", \"10\", \"10\", \"11\", \"11\", \"1124\", \"1124\", \"12\", \"13\", \"14\", \"14\", \"1450\", \"1450\", \"1450\", \"15\", \"15\", \"16\", \"18\", \"18\", \"19\", \"20\", \"20\", \"20\", \"2019\", \"2019\", \"2020\", \"2020\", \"2020\", \"21\", \"22\", \"23\", \"25\", \"25\", \"26\", \"27\", \"28\", \"29\", \"30\", \"30\", \"30\", \"30\", \"35\", \"asus\", \"be\", \"breakingnews\", \"cc\", \"cc\", \"chinatimes\", \"dpp\", \"dpp\", \"ettoday\", \"fb\", \"fb\", \"hatepolitics\", \"hatepolitics\", \"http\", \"http\", \"http\", \"id\", \"id\", \"jpg\", \"jpg\", \"kmt\", \"kmt\", \"live\", \"lse\", \"ltn\", \"net\", \"news\", \"politics\", \"ptt\", \"ptt\", \"ptt\", \"re\", \"re\", \"re\", \"re\", \"reurl\", \"reurl\", \"story\", \"story\", \"the\", \"tw\", \"udn\", \"watch\", \"youtu\", \"youtube\", \"\\u4e00\\u500b\", \"\\u4e00\\u500b\", \"\\u4e00\\u500b\", \"\\u4e00\\u570b\", \"\\u4e00\\u570b\", \"\\u4e00\\u5b9a\", \"\\u4e00\\u5b9a\", \"\\u4e0d\\u6703\", \"\\u4e0d\\u6703\", \"\\u4e0d\\u6703\", \"\\u4e0d\\u8981\", \"\\u4e0d\\u8981\", \"\\u4e0d\\u8981\", \"\\u4e0d\\u9078\", \"\\u4e0d\\u9078\", \"\\u4e2d\\u5171\", \"\\u4e2d\\u5171\", \"\\u4e2d\\u570b\", \"\\u4e2d\\u570b\", \"\\u4e2d\\u570b\", \"\\u4e2d\\u570b\", \"\\u4e2d\\u570b\\u4eba\", \"\\u4e2d\\u83ef\", \"\\u4e2d\\u83ef\", \"\\u4e2d\\u83ef\\u6c11\\u570b\", \"\\u4e2d\\u83ef\\u6c11\\u570b\", \"\\u4e3b\\u6b0a\", \"\\u4e3b\\u6b0a\", \"\\u4e8b\\u60c5\", \"\\u4e8b\\u60c5\", \"\\u4eba\\u6c11\", \"\\u4eba\\u6c11\", \"\\u4eba\\u6c11\", \"\\u4ed6\\u5011\", \"\\u4ed6\\u5011\", \"\\u4f46\\u662f\", \"\\u4f46\\u662f\", \"\\u4f7f\\u7528\\u8005\", \"\\u4f7f\\u7528\\u8005\", \"\\u4f86\\u6e90\", \"\\u4f86\\u6e90\", \"\\u4f86\\u6e90\", \"\\u50f9\\u503c\", \"\\u50f9\\u503c\", \"\\u5167\\u5bb9\", \"\\u5167\\u5bb9\", \"\\u5167\\u5bb9\", \"\\u5167\\u5bb9\", \"\\u5169\\u5236\", \"\\u5169\\u5cb8\", \"\\u5169\\u5cb8\", \"\\u516b\\u5366\", \"\\u516b\\u5366\", \"\\u5171\\u7522\\u9ee8\", \"\\u5171\\u7522\\u9ee8\", \"\\u51fa\\u4f86\", \"\\u51fa\\u4f86\", \"\\u51fa\\u4f86\", \"\\u51fa\\u5e2d\", \"\\u5206\\u4eab\", \"\\u5206\\u4eab\", \"\\u521d\\u9078\", \"\\u526f\\u624b\", \"\\u529b\\u91cf\", \"\\u529b\\u91cf\", \"\\u529b\\u91cf\", \"\\u5317\\u4eac\", \"\\u535a\\u58eb\", \"\\u53c3\\u9078\", \"\\u53c3\\u9078\", \"\\u53cd\\u9001\", \"\\u53cd\\u9001\", \"\\u53ea\\u662f\", \"\\u53ea\\u662f\", \"\\u53ea\\u662f\", \"\\u53ef\\u80fd\", \"\\u53ef\\u80fd\", \"\\u53ef\\u80fd\", \"\\u53f0\\u4e2d\\u5e02\", \"\\u53f0\\u5317\", \"\\u53f0\\u5317\", \"\\u53f0\\u5317\", \"\\u53f0\\u5317\", \"\\u53f0\\u5317\\u5e02\", \"\\u53f0\\u5317\\u5e02\", \"\\u53f0\\u5317\\u5e02\", \"\\u53f0\\u7063\", \"\\u53f0\\u7063\", \"\\u53f0\\u7063\", \"\\u53f0\\u7063\", \"\\u53f0\\u7368\", \"\\u53f0\\u7368\", \"\\u5433\\u6566\\u7fa9\", \"\\u5433\\u6566\\u7fa9\", \"\\u548c\\u5e73\", \"\\u548c\\u5e73\", \"\\u54c8\\u54c8\\u54c8\", \"\\u54c8\\u54c8\\u54c8\", \"\\u54c8\\u54c8\\u54c8\", \"\\u554f\\u984c\", \"\\u554f\\u984c\", \"\\u554f\\u984c\", \"\\u56e0\\u70ba\", \"\\u56e0\\u70ba\", \"\\u56e0\\u70ba\", \"\\u56e0\\u70ba\", \"\\u570b\\u5bb6\", \"\\u570b\\u5bb6\", \"\\u570b\\u5bb6\", \"\\u570b\\u6c11\\u9ee8\", \"\\u570b\\u6c11\\u9ee8\", \"\\u570b\\u6c11\\u9ee8\", \"\\u5831\\u5c0e\", \"\\u5831\\u5c0e\", \"\\u5831\\u5c0e\", \"\\u5916\\u4ea4\", \"\\u5916\\u4ea4\", \"\\u5927\\u5bb6\", \"\\u5927\\u5bb6\", \"\\u5927\\u5bb6\", \"\\u5927\\u5bb6\", \"\\u5927\\u9678\", \"\\u5b78\\u4f4d\", \"\\u5b78\\u751f\", \"\\u5b8b\\u695a\\u745c\", \"\\u5b8b\\u695a\\u745c\", \"\\u5c0d\\u5cb8\", \"\\u5c0d\\u6b64\", \"\\u5ddd\\u666e\", \"\\u5e02\\u5e9c\", \"\\u5e02\\u5e9c\", \"\\u5e02\\u5e9c\", \"\\u5e02\\u9577\", \"\\u5e02\\u9577\", \"\\u5e02\\u9577\", \"\\u5e33\\u865f\", \"\\u5eb6\\u6c11\", \"\\u5eb6\\u6c11\", \"\\u5f71\\u7247\", \"\\u5f71\\u7247\", \"\\u5fc3\\u5f97\", \"\\u5fc3\\u5f97\", \"\\u600e\\u9ebc\", \"\\u600e\\u9ebc\", \"\\u600e\\u9ebc\", \"\\u611b\\u53f0\\u7063\", \"\\u61c9\\u8a72\", \"\\u61c9\\u8a72\", \"\\u61c9\\u8a72\", \"\\u61c9\\u8a72\", \"\\u6211\\u5011\", \"\\u6211\\u5011\", \"\\u6211\\u5011\", \"\\u6211\\u5011\", \"\\u6295\\u7d66\", \"\\u6295\\u7d66\", \"\\u6307\\u51fa\", \"\\u6307\\u51fa\", \"\\u63a8\\u6587\", \"\\u63a8\\u6587\", \"\\u652f\\u6301\", \"\\u652f\\u6301\", \"\\u652f\\u6301\", \"\\u653f\\u5e9c\", \"\\u653f\\u5e9c\", \"\\u653f\\u5e9c\", \"\\u653f\\u6cbb\", \"\\u653f\\u6cbb\", \"\\u653f\\u6cbb\", \"\\u653f\\u6cbb\", \"\\u653f\\u9ed1\", \"\\u653f\\u9ed1\", \"\\u653f\\u9ed1\", \"\\u6587\\u5316\", \"\\u6587\\u5316\", \"\\u6587\\u7ae0\", \"\\u6587\\u7ae0\", \"\\u6587\\u7ae0\", \"\\u65b0\\u5317\\u5e02\", \"\\u65b0\\u5317\\u5e02\", \"\\u65e5\\u524d\", \"\\u65e5\\u672c\", \"\\u65e5\\u672c\", \"\\u662f\\u4e0d\\u662f\", \"\\u662f\\u4e0d\\u662f\", \"\\u662f\\u4e0d\\u662f\", \"\\u6642\\u529b\", \"\\u6642\\u529b\", \"\\u6731\\u7acb\\u502b\", \"\\u6731\\u7acb\\u502b\", \"\\u674e\\u4f73\\u82ac\", \"\\u67efp\", \"\\u67efp\", \"\\u67efp\", \"\\u67ef\\u6587\\u54f2\", \"\\u67ef\\u6587\\u54f2\", \"\\u67ef\\u6587\\u54f2\", \"\\u67ef\\u6587\\u54f2\", \"\\u67ef\\u7c89\", \"\\u67ef\\u7c89\", \"\\u67ef\\u7c89\", \"\\u67ef\\u7cde\", \"\\u67ef\\u7cde\", \"\\u6843\\u5712\", \"\\u6843\\u5712\", \"\\u6c11\\u4e3b\", \"\\u6c11\\u4e3b\", \"\\u6c11\\u4e3b\", \"\\u6c11\\u65cf\", \"\\u6c11\\u65cf\", \"\\u6c11\\u8abf\", \"\\u6c11\\u8abf\", \"\\u6c11\\u8abf\", \"\\u6c11\\u9032\\u9ee8\", \"\\u6c11\\u9032\\u9ee8\", \"\\u6c11\\u9032\\u9ee8\", \"\\u6c34\\u6876\", \"\\u6c92\\u6709\", \"\\u6c92\\u6709\", \"\\u6c92\\u6709\", \"\\u6c92\\u6709\", \"\\u6df9\\u6c34\", \"\\u7167\\u7247\", \"\\u738b\\u91d1\\u5e73\", \"\\u73fe\\u5728\", \"\\u73fe\\u5728\", \"\\u73fe\\u5728\", \"\\u7559\\u8a00\", \"\\u7562\\u696d\", \"\\u7576\\u9078\", \"\\u7576\\u9078\", \"\\u76f4\\u64ad\", \"\\u76f4\\u64ad\", \"\\u7acb\\u59d4\", \"\\u7acb\\u59d4\", \"\\u7acb\\u59d4\", \"\\u7d44\\u9ee8\", \"\\u7d44\\u9ee8\", \"\\u7d71\\u4e00\", \"\\u7d71\\u4e00\", \"\\u7db2\\u5740\", \"\\u7db2\\u5740\", \"\\u7db2\\u8ecd\", \"\\u7db2\\u8ecd\", \"\\u7db2\\u8ecd\", \"\\u7e3d\\u7d71\", \"\\u7e3d\\u7d71\", \"\\u7e3d\\u7d71\", \"\\u7e3d\\u7d71\\u5019\", \"\\u7e3d\\u7d71\\u5019\", \"\\u7f77\\u514d\", \"\\u7f77\\u514d\", \"\\u7f8e\\u570b\", \"\\u7f8e\\u570b\", \"\\u7f8e\\u570b\", \"\\u806f\\u5408\\u5831\", \"\\u81c9\\u66f8\", \"\\u81c9\\u66f8\", \"\\u81c9\\u66f8\", \"\\u81c9\\u66f8\", \"\\u82f1\\u570b\", \"\\u8349\\u5305\", \"\\u8349\\u5305\", \"\\u842c\\u5143\", \"\\u842c\\u7968\", \"\\u842c\\u7968\", \"\\u8521\\u82f1\\u6587\", \"\\u8521\\u82f1\\u6587\", \"\\u8521\\u82f1\\u6587\", \"\\u85cd\\u71df\", \"\\u85cd\\u71df\", \"\\u85cd\\u7da0\", \"\\u85cd\\u7da0\", \"\\u87d1\\u8782\", \"\\u8868\\u793a\", \"\\u8868\\u793a\", \"\\u8868\\u793a\", \"\\u89aa\\u6c11\\u9ee8\", \"\\u89aa\\u6c11\\u9ee8\", \"\\u8a18\\u8005\", \"\\u8a18\\u8005\", \"\\u8a18\\u8005\", \"\\u8a18\\u8005\", \"\\u8ad6\\u6587\", \"\\u8b66\\u5bdf\", \"\\u8b66\\u5bdf\", \"\\u8d70\\u79c1\", \"\\u8f49\\u9304\", \"\\u8f49\\u9304\", \"\\u8f49\\u9304\", \"\\u9000\\u9ee8\", \"\\u9019\\u4e9b\", \"\\u9019\\u4e9b\", \"\\u9019\\u4e9b\", \"\\u9019\\u500b\", \"\\u9019\\u500b\", \"\\u9019\\u500b\", \"\\u9019\\u7a2e\", \"\\u9019\\u7a2e\", \"\\u9020\\u52e2\", \"\\u9020\\u52e2\", \"\\u904a\\u884c\", \"\\u9078\\u4e0a\", \"\\u9078\\u4e0a\", \"\\u9078\\u4eba\", \"\\u9078\\u4eba\", \"\\u9078\\u5340\", \"\\u9078\\u5340\", \"\\u9078\\u6c11\", \"\\u9078\\u6c11\", \"\\u9078\\u7e3d\\u7d71\", \"\\u9078\\u7e3d\\u7d71\", \"\\u9078\\u8209\", \"\\u9078\\u8209\", \"\\u9078\\u8209\", \"\\u90ed\\u53f0\\u9298\", \"\\u90ed\\u53f0\\u9298\", \"\\u90ed\\u8463\", \"\\u97d3\\u570b\\u745c\", \"\\u97d3\\u570b\\u745c\", \"\\u97d3\\u570b\\u745c\", \"\\u97d3\\u570b\\u745c\", \"\\u97d3\\u5c0e\", \"\\u97d3\\u5c0e\", \"\\u97d3\\u5c0e\", \"\\u97d3\\u7684\", \"\\u97d3\\u7684\", \"\\u97d3\\u7c89\", \"\\u97d3\\u7c89\", \"\\u97d3\\u7c89\", \"\\u97d3\\u7e3d\", \"\\u97d3\\u7e3d\", \"\\u97d3\\u9ed1\", \"\\u9928\\u9577\", \"\\u9999\\u6e2f\", \"\\u9ad8\\u96c4\", \"\\u9ad8\\u96c4\", \"\\u9ad8\\u96c4\", \"\\u9ad8\\u96c4\\u4eba\", \"\\u9ad8\\u96c4\\u4eba\", \"\\u9ad8\\u96c4\\u5e02\", \"\\u9ad8\\u96c4\\u5e02\", \"\\u9ad8\\u96c4\\u5e02\", \"\\u9ed1\\u7279\", \"\\u9ed1\\u7279\", \"\\u9ed1\\u7279\", \"\\u9ee8\\u5167\", \"\\u9ee8\\u5167\"]}, \"R\": 30, \"lambda.step\": 0.01, \"plot.opts\": {\"xlab\": \"PC1\", \"ylab\": \"PC2\"}, \"topic.order\": [3, 1, 4, 2]};\n",
              "\n",
              "function LDAvis_load_lib(url, callback){\n",
              "  var s = document.createElement('script');\n",
              "  s.src = url;\n",
              "  s.async = true;\n",
              "  s.onreadystatechange = s.onload = callback;\n",
              "  s.onerror = function(){console.warn(\"failed to load library \" + url);};\n",
              "  document.getElementsByTagName(\"head\")[0].appendChild(s);\n",
              "}\n",
              "\n",
              "if(typeof(LDAvis) !== \"undefined\"){\n",
              "   // already loaded: just create the visualization\n",
              "   !function(LDAvis){\n",
              "       new LDAvis(\"#\" + \"ldavis_el1221405571199974165114741660\", ldavis_el1221405571199974165114741660_data);\n",
              "   }(LDAvis);\n",
              "}else if(typeof define === \"function\" && define.amd){\n",
              "   // require.js is available: use it to load d3/LDAvis\n",
              "   require.config({paths: {d3: \"https://cdnjs.cloudflare.com/ajax/libs/d3/3.5.5/d3.min\"}});\n",
              "   require([\"d3\"], function(d3){\n",
              "      window.d3 = d3;\n",
              "      LDAvis_load_lib(\"https://cdn.rawgit.com/bmabey/pyLDAvis/files/ldavis.v1.0.0.js\", function(){\n",
              "        new LDAvis(\"#\" + \"ldavis_el1221405571199974165114741660\", ldavis_el1221405571199974165114741660_data);\n",
              "      });\n",
              "    });\n",
              "}else{\n",
              "    // require.js not available: dynamically load d3 & LDAvis\n",
              "    LDAvis_load_lib(\"https://cdnjs.cloudflare.com/ajax/libs/d3/3.5.5/d3.min.js\", function(){\n",
              "         LDAvis_load_lib(\"https://cdn.rawgit.com/bmabey/pyLDAvis/files/ldavis.v1.0.0.js\", function(){\n",
              "                 new LDAvis(\"#\" + \"ldavis_el1221405571199974165114741660\", ldavis_el1221405571199974165114741660_data);\n",
              "            })\n",
              "         });\n",
              "}\n",
              "</script>"
            ],
            "text/plain": [
              "<IPython.core.display.HTML object>"
            ]
          },
          "metadata": {
            "tags": []
          },
          "execution_count": 48
        }
      ]
    },
    {
      "cell_type": "code",
      "metadata": {
        "id": "6chPW4ceLz0_",
        "colab_type": "code",
        "colab": {}
      },
      "source": [
        ""
      ],
      "execution_count": 0,
      "outputs": []
    },
    {
      "cell_type": "code",
      "metadata": {
        "id": "b19XxWwWLuXF",
        "colab_type": "code",
        "outputId": "54a1dd2b-f8f3-4429-fd98-eada37bbc6cd",
        "colab": {
          "base_uri": "https://localhost:8080/",
          "height": 153
        }
      },
      "source": [
        "n_topics = 4\n",
        "lda = LatentDirichletAllocation(n_components=n_topics, max_iter=30, \n",
        "                  learning_method='online', learning_offset=20.0,)#LDA模型训练\n",
        "lda.fit(tf)"
      ],
      "execution_count": 0,
      "outputs": [
        {
          "output_type": "execute_result",
          "data": {
            "text/plain": [
              "LatentDirichletAllocation(batch_size=128, doc_topic_prior=None,\n",
              "                          evaluate_every=-1, learning_decay=0.7,\n",
              "                          learning_method='online', learning_offset=20.0,\n",
              "                          max_doc_update_iter=100, max_iter=30,\n",
              "                          mean_change_tol=0.001, n_components=4, n_jobs=None,\n",
              "                          perp_tol=0.1, random_state=None,\n",
              "                          topic_word_prior=None, total_samples=1000000.0,\n",
              "                          verbose=0)"
            ]
          },
          "metadata": {
            "tags": []
          },
          "execution_count": 49
        }
      ]
    },
    {
      "cell_type": "code",
      "metadata": {
        "id": "24c1bZLqoeXm",
        "colab_type": "code",
        "outputId": "93a0ca6b-1731-444a-89fd-67b255f015c6",
        "colab": {
          "base_uri": "https://localhost:8080/",
          "height": 1000
        }
      },
      "source": [
        "n_top_words = 50\n",
        "tf_feature_names = tf_vectorizer.get_feature_names()\n",
        "print_top_words(lda, tf_feature_names, n_top_words)\n",
        "\n",
        "data = pyLDAvis.sklearn.prepare(lda, tf, tf_vectorizer)\n",
        "pyLDAvis.display(data)#可视化主题模型"
      ],
      "execution_count": 0,
      "outputs": [
        {
          "output_type": "stream",
          "text": [
            "Topic #0:\n",
            "一個 這個 因為 現在 大家 怎麼 沒有 re 問題 但是 我們 可能 這種 他們 不要 覺得 不會 出來 其實 只是 應該 時候 一樣 這些 是不是 根本 很多 看到 有人 一下 這麼 結果 到底 一直 政治 還有 已經 今天 一定 而且 只有 開始 不能 黑特 完全 不過 時間 支持 認為 希望\n",
            "Topic #1:\n",
            "台灣 中國 政府 我們 政治 表示 問題 一個 他們 希望 認為 news 沒有 因為 這些 目前 支持 今天 可能 不能 on 應該 已經 時間 不要 這個 不會 只是 開始 不過 很多 完全 只有 大家 現在 但是 一樣 re 還有 這種 看到 一定 其實 一直 而且 根本 有人 怎麼 這麼 結果\n",
            "Topic #2:\n",
            "民進黨 蔡英文 國民黨 總統 立委 支持 選舉 表示 可能 news 希望 目前 認為 應該 結果 一定 不會 大家 不過 現在 沒有 今天 時間 已經 re 出來 只有 政治 不能 還有 因為 不要 完全 問題 開始 只是 有人 而且 一個 一直 很多 一樣 這些 on 其實 到底 怎麼 這個 但是 根本\n",
            "Topic #3:\n",
            "韓國瑜 柯文哲 韓粉 on 表示 支持 news 政治 re 不要 今天 現在 怎麼 大家 一定 因為 出來 沒有 開始 不會 認為 黑特 是不是 結果 希望 時間 一直 已經 應該 看到 很多 不過 到底 只是 目前 這麼 可能 還有 有人 問題 只有 一樣 一下 根本 完全 覺得 一個 這些 而且 不能\n",
            "\n"
          ],
          "name": "stdout"
        },
        {
          "output_type": "stream",
          "text": [
            "/usr/local/lib/python3.6/dist-packages/pyLDAvis/_prepare.py:257: FutureWarning: Sorting because non-concatenation axis is not aligned. A future version\n",
            "of pandas will change to not sort by default.\n",
            "\n",
            "To accept the future behavior, pass 'sort=False'.\n",
            "\n",
            "To retain the current behavior and silence the warning, pass 'sort=True'.\n",
            "\n",
            "  return pd.concat([default_term_info] + list(topic_dfs))\n"
          ],
          "name": "stderr"
        },
        {
          "output_type": "execute_result",
          "data": {
            "text/html": [
              "\n",
              "<link rel=\"stylesheet\" type=\"text/css\" href=\"https://cdn.rawgit.com/bmabey/pyLDAvis/files/ldavis.v1.0.0.css\">\n",
              "\n",
              "\n",
              "<div id=\"ldavis_el1221405571200739209396910193\"></div>\n",
              "<script type=\"text/javascript\">\n",
              "\n",
              "var ldavis_el1221405571200739209396910193_data = {\"mdsDat\": {\"x\": [-0.11719202806176718, 0.335187462083297, -0.12453514227220089, -0.0934602917493291], \"y\": [-0.026255600846592883, -0.016152645993667395, -0.20275896172004684, 0.2451672085603072], \"topics\": [1, 2, 3, 4], \"cluster\": [1, 1, 1, 1], \"Freq\": [47.2151679766098, 18.92651350673968, 17.307240094996246, 16.551078421654267]}, \"tinfo\": {\"Category\": [\"Default\", \"Default\", \"Default\", \"Default\", \"Default\", \"Default\", \"Default\", \"Default\", \"Default\", \"Default\", \"Default\", \"Default\", \"Default\", \"Default\", \"Default\", \"Default\", \"Default\", \"Default\", \"Default\", \"Default\", \"Default\", \"Default\", \"Default\", \"Default\", \"Default\", \"Default\", \"Default\", \"Default\", \"Default\", \"Default\", \"Topic1\", \"Topic1\", \"Topic1\", \"Topic1\", \"Topic1\", \"Topic1\", \"Topic1\", \"Topic1\", \"Topic1\", \"Topic1\", \"Topic1\", \"Topic1\", \"Topic1\", \"Topic1\", \"Topic1\", \"Topic1\", \"Topic1\", \"Topic1\", \"Topic1\", \"Topic1\", \"Topic1\", \"Topic1\", \"Topic1\", \"Topic1\", \"Topic1\", \"Topic1\", \"Topic1\", \"Topic1\", \"Topic1\", \"Topic1\", \"Topic1\", \"Topic1\", \"Topic1\", \"Topic1\", \"Topic1\", \"Topic1\", \"Topic1\", \"Topic2\", \"Topic2\", \"Topic2\", \"Topic2\", \"Topic2\", \"Topic2\", \"Topic2\", \"Topic2\", \"Topic2\", \"Topic2\", \"Topic2\", \"Topic2\", \"Topic2\", \"Topic2\", \"Topic2\", \"Topic2\", \"Topic2\", \"Topic2\", \"Topic2\", \"Topic2\", \"Topic2\", \"Topic2\", \"Topic2\", \"Topic2\", \"Topic2\", \"Topic2\", \"Topic2\", \"Topic2\", \"Topic2\", \"Topic2\", \"Topic2\", \"Topic3\", \"Topic3\", \"Topic3\", \"Topic3\", \"Topic3\", \"Topic3\", \"Topic3\", \"Topic3\", \"Topic3\", \"Topic3\", \"Topic3\", \"Topic3\", \"Topic3\", \"Topic3\", \"Topic3\", \"Topic3\", \"Topic3\", \"Topic3\", \"Topic3\", \"Topic3\", \"Topic3\", \"Topic3\", \"Topic3\", \"Topic3\", \"Topic3\", \"Topic3\", \"Topic3\", \"Topic3\", \"Topic3\", \"Topic3\", \"Topic3\", \"Topic3\", \"Topic4\", \"Topic4\", \"Topic4\", \"Topic4\", \"Topic4\", \"Topic4\", \"Topic4\", \"Topic4\", \"Topic4\", \"Topic4\", \"Topic4\", \"Topic4\", \"Topic4\", \"Topic4\", \"Topic4\", \"Topic4\", \"Topic4\", \"Topic4\", \"Topic4\", \"Topic4\", \"Topic4\", \"Topic4\", \"Topic4\", \"Topic4\", \"Topic4\", \"Topic4\", \"Topic4\", \"Topic4\", \"Topic4\", \"Topic4\", \"Topic4\", \"Topic4\", \"Topic4\", \"Topic4\"], \"Freq\": [67031.0, 60502.0, 53330.0, 38193.0, 37825.0, 37454.0, 37136.0, 26574.0, 20586.0, 21885.0, 19390.0, 32289.0, 16301.0, 28549.0, 20568.0, 27756.0, 8870.0, 20472.0, 35978.0, 24993.0, 25219.0, 11768.0, 15052.0, 22568.0, 17589.0, 13633.0, 12648.0, 12051.0, 17185.0, 9990.0, 12163.728479575882, 14373.12308960619, 11241.932879646507, 16347.021839105893, 25712.188382836626, 15692.736468150966, 12859.038889198462, 11764.827584595327, 11130.233410822233, 10482.879978574516, 19621.649410219157, 11409.778922504907, 11789.53032791523, 11978.851876235238, 8568.459830813948, 11491.39088575115, 8124.1599910908635, 29182.229061231537, 11643.866580722266, 10284.612513407912, 12701.176809141443, 13551.174112900842, 22727.333277891794, 21245.676329428068, 19710.60078143777, 10127.73865671715, 15654.597294053492, 11790.979998683859, 18425.41552920746, 7808.009127442861, 18556.224249233554, 14875.414522026173, 14259.390432425118, 16725.248318942948, 15813.456892816484, 16235.586769830572, 12661.79802502158, 38193.042762641075, 37453.70976380388, 21885.046473351293, 37822.74533612029, 37116.384273300006, 12939.901427617757, 15343.470911551352, 3600.1780543383275, 6176.511299140767, 3164.7633360860605, 3322.908951122385, 3057.1228480986056, 4798.003469909959, 2692.416999456297, 2702.3953240740325, 2043.0175547411081, 2867.9743748392752, 1530.9460775759708, 1324.237847786216, 2282.78440579775, 1481.4863305493923, 1149.0348661723624, 1580.9381484599892, 2126.871291149071, 1340.877534785056, 1018.8911523881541, 709.7279410557463, 1742.2435063809628, 1823.761683385344, 1460.3903743056387, 1305.8991879584405, 67031.06763710939, 26574.048959363492, 19389.476598389116, 16053.367120034725, 8848.312350913879, 9621.223011715465, 3799.277313776125, 4288.539216039989, 7263.663931397419, 3997.9964648619275, 3090.0812376946, 2278.743999781454, 4815.9680406983825, 3280.0956368883158, 2321.679973075267, 2038.1542885720794, 5900.469453248934, 2746.0222066710544, 2100.249669997892, 3544.808271673433, 1505.9154194108792, 1275.7477683142174, 1437.5901863200525, 3437.2509059612476, 2169.5295542267486, 1682.621268008829, 1221.542552998603, 2412.4394217951135, 2859.672075962813, 1953.0663031639713, 1839.3652938298876, 1875.6029460494487, 60501.368358989894, 53329.30567047983, 20585.505725468738, 6552.5242259899505, 4368.784451568588, 5543.214193896021, 3503.016538874411, 1865.652736289362, 4913.2934027848405, 2062.560954352292, 3505.1996149094684, 3836.4539984058392, 3739.79354008482, 2197.943175463894, 1660.6212083661167, 1842.7603891681883, 1876.8557028119567, 2162.5694013553507, 1595.4637456001087, 1665.5304634869835, 1377.0559174966288, 2573.8194094216115, 1340.4868127876862, 1785.9810999979761, 3031.8093028538797, 1508.1099374796997, 1387.7183400464316, 1959.6739315060474, 1379.8163153820985, 1059.5401918517664, 2314.1364987130037, 2146.516379370981, 2186.925704369504, 1399.0164208387553], \"Term\": [\"\\u53f0\\u7063\", \"\\u97d3\\u570b\\u745c\", \"\\u67ef\\u6587\\u54f2\", \"\\u6c11\\u9032\\u9ee8\", \"\\u8521\\u82f1\\u6587\", \"\\u570b\\u6c11\\u9ee8\", \"\\u7e3d\\u7d71\", \"\\u4e2d\\u570b\", \"\\u97d3\\u7c89\", \"\\u7acb\\u59d4\", \"\\u653f\\u5e9c\", \"\\u6211\\u5011\", \"\\u9078\\u8209\", \"\\u652f\\u6301\", \"\\u8868\\u793a\", \"\\u9019\\u500b\", \"on\", \"\\u4ed6\\u5011\", \"\\u4e00\\u500b\", \"\\u653f\\u6cbb\", \"\\u554f\\u984c\", \"news\", \"\\u89ba\\u5f97\", \"\\u600e\\u9ebc\", \"\\u4f46\\u662f\", \"\\u662f\\u4e0d\\u662f\", \"\\u6642\\u5019\", \"\\u4e00\\u4e0b\", \"\\u9019\\u7a2e\", \"\\u9ed1\\u7279\", \"\\u6642\\u5019\", \"\\u89ba\\u5f97\", \"\\u4e00\\u4e0b\", \"\\u4f46\\u662f\", \"\\u9019\\u500b\", \"\\u9019\\u7a2e\", \"\\u5176\\u5be6\", \"\\u6839\\u672c\", \"\\u9019\\u9ebc\", \"\\u5230\\u5e95\", \"\\u600e\\u9ebc\", \"\\u6709\\u4eba\", \"\\u662f\\u4e0d\\u662f\", \"\\u4e00\\u6a23\", \"\\u800c\\u4e14\", \"\\u770b\\u5230\", \"\\u9ed1\\u7279\", \"\\u4e00\\u500b\", \"\\u5f88\\u591a\", \"\\u4e00\\u76f4\", \"\\u53ea\\u662f\", \"\\u51fa\\u4f86\", \"\\u56e0\\u70ba\", \"\\u73fe\\u5728\", \"\\u5927\\u5bb6\", \"\\u9084\\u6709\", \"\\u4ed6\\u5011\", \"\\u9019\\u4e9b\", \"re\", \"\\u5b8c\\u5168\", \"\\u6c92\\u6709\", \"\\u4e0d\\u8981\", \"\\u4e0d\\u6703\", \"\\u554f\\u984c\", \"\\u53ef\\u80fd\", \"\\u6211\\u5011\", \"\\u61c9\\u8a72\", \"\\u6c11\\u9032\\u9ee8\", \"\\u570b\\u6c11\\u9ee8\", \"\\u7acb\\u59d4\", \"\\u8521\\u82f1\\u6587\", \"\\u7e3d\\u7d71\", \"\\u9078\\u8209\", \"\\u652f\\u6301\", \"news\", \"\\u8868\\u793a\", \"\\u76ee\\u524d\", \"\\u5e0c\\u671b\", \"\\u8a8d\\u70ba\", \"\\u53ef\\u80fd\", \"\\u4e00\\u5b9a\", \"\\u7d50\\u679c\", \"\\u4e0d\\u904e\", \"\\u61c9\\u8a72\", \"\\u6642\\u9593\", \"\\u53ea\\u6709\", \"\\u4e0d\\u6703\", \"\\u5df2\\u7d93\", \"\\u4e0d\\u80fd\", \"\\u4eca\\u5929\", \"\\u5927\\u5bb6\", \"\\u51fa\\u4f86\", \"\\u9084\\u6709\", \"\\u5b8c\\u5168\", \"\\u6c92\\u6709\", \"\\u73fe\\u5728\", \"re\", \"\\u653f\\u6cbb\", \"\\u53f0\\u7063\", \"\\u4e2d\\u570b\", \"\\u653f\\u5e9c\", \"\\u6211\\u5011\", \"\\u8868\\u793a\", \"\\u653f\\u6cbb\", \"news\", \"\\u5e0c\\u671b\", \"\\u554f\\u984c\", \"\\u8a8d\\u70ba\", \"\\u76ee\\u524d\", \"on\", \"\\u4ed6\\u5011\", \"\\u9019\\u4e9b\", \"\\u4e0d\\u80fd\", \"\\u6642\\u9593\", \"\\u4e00\\u500b\", \"\\u4eca\\u5929\", \"\\u5df2\\u7d93\", \"\\u6c92\\u6709\", \"\\u958b\\u59cb\", \"\\u5b8c\\u5168\", \"\\u4e0d\\u904e\", \"\\u56e0\\u70ba\", \"\\u61c9\\u8a72\", \"\\u53ea\\u662f\", \"\\u53ea\\u6709\", \"\\u53ef\\u80fd\", \"\\u652f\\u6301\", \"\\u4e0d\\u8981\", \"\\u4e0d\\u6703\", \"\\u9019\\u500b\", \"\\u97d3\\u570b\\u745c\", \"\\u67ef\\u6587\\u54f2\", \"\\u97d3\\u7c89\", \"on\", \"news\", \"\\u8868\\u793a\", \"\\u4eca\\u5929\", \"\\u9ed1\\u7279\", \"\\u652f\\u6301\", \"\\u958b\\u59cb\", \"\\u4e0d\\u8981\", \"\\u653f\\u6cbb\", \"re\", \"\\u4e00\\u5b9a\", \"\\u6642\\u9593\", \"\\u662f\\u4e0d\\u662f\", \"\\u8a8d\\u70ba\", \"\\u51fa\\u4f86\", \"\\u4e00\\u76f4\", \"\\u5e0c\\u671b\", \"\\u4e0d\\u904e\", \"\\u600e\\u9ebc\", \"\\u5230\\u5e95\", \"\\u7d50\\u679c\", \"\\u73fe\\u5728\", \"\\u5df2\\u7d93\", \"\\u770b\\u5230\", \"\\u4e0d\\u6703\", \"\\u5f88\\u591a\", \"\\u76ee\\u524d\", \"\\u5927\\u5bb6\", \"\\u6c92\\u6709\", \"\\u56e0\\u70ba\", \"\\u61c9\\u8a72\"], \"Total\": [67031.0, 60502.0, 53330.0, 38193.0, 37825.0, 37454.0, 37136.0, 26574.0, 20586.0, 21885.0, 19390.0, 32289.0, 16301.0, 28549.0, 20568.0, 27756.0, 8870.0, 20472.0, 35978.0, 24993.0, 25219.0, 11768.0, 15052.0, 22568.0, 17589.0, 13633.0, 12648.0, 12051.0, 17185.0, 9990.0, 12648.524260158852, 15052.46182977068, 12051.725566403145, 17589.214708269166, 27756.253103956013, 17185.050666045252, 14100.78983348232, 13082.196699043789, 12510.063324204211, 11867.351841243202, 22568.616064906164, 13126.311867914606, 13633.070455044413, 14060.662558102034, 10118.186679540933, 13790.113219602845, 9990.372013852791, 35978.51829689298, 14491.29365855922, 12806.790710606127, 15958.105996336722, 17054.895136682997, 29140.396138989578, 27244.784270177694, 25330.6718024469, 13032.964218919344, 20472.120923111917, 15743.8242289092, 24641.774534486598, 10523.209986884513, 25989.79240665893, 21083.30926624601, 20341.214063558804, 25219.700261107537, 23962.963947693577, 32289.488003582246, 19098.31837492636, 38193.83883231552, 37454.5009831445, 21885.834431717325, 37825.850358171534, 37136.59493170412, 16301.691344044322, 28549.215866331237, 11768.495979481326, 20568.29331850876, 11403.975531864333, 13565.366908963628, 13911.20769413526, 23962.963947693577, 14876.383486324874, 15852.83209400179, 12027.568954500139, 19098.31837492636, 11592.220233325399, 11793.305292463543, 20341.214063558804, 14727.098883036439, 12320.134312026321, 17274.643051437117, 25330.6718024469, 17054.895136682997, 13032.964218919344, 10523.209986884513, 25989.79240665893, 27244.784270177694, 24641.774534486598, 24993.415877551477, 67031.8513156276, 26574.82042503865, 19390.364245581284, 32289.488003582246, 20568.29331850876, 24993.415877551477, 11768.495979481326, 13565.366908963628, 25219.700261107537, 13911.20769413526, 11403.975531864333, 8870.896412996739, 20472.120923111917, 15743.8242289092, 12320.134312026321, 11592.220233325399, 35978.51829689298, 17274.643051437117, 14727.098883036439, 25989.79240665893, 12159.952257842657, 10523.209986884513, 12027.568954500139, 29140.396138989578, 19098.31837492636, 15958.105996336722, 11793.305292463543, 23962.963947693577, 28549.215866331237, 21083.30926624601, 20341.214063558804, 27756.253103956013, 60502.15618959823, 53330.103489558445, 20586.286380393503, 8870.896412996739, 11768.495979481326, 20568.29331850876, 17274.643051437117, 9990.372013852791, 28549.215866331237, 12159.952257842657, 21083.30926624601, 24993.415877551477, 24641.774534486598, 14876.383486324874, 11592.220233325399, 13633.070455044413, 13911.20769413526, 17054.895136682997, 12806.790710606127, 13565.366908963628, 12027.568954500139, 22568.616064906164, 11867.351841243202, 15852.83209400179, 27244.784270177694, 14727.098883036439, 13790.113219602845, 20341.214063558804, 14491.29365855922, 11403.975531864333, 25330.6718024469, 25989.79240665893, 29140.396138989578, 19098.31837492636], \"loglift\": [30.0, 29.0, 28.0, 27.0, 26.0, 25.0, 24.0, 23.0, 22.0, 21.0, 20.0, 19.0, 18.0, 17.0, 16.0, 15.0, 14.0, 13.0, 12.0, 11.0, 10.0, 9.0, 8.0, 7.0, 6.0, 5.0, 4.0, 3.0, 2.0, 1.0, 0.7114, 0.7043, 0.6809, 0.6772, 0.674, 0.6596, 0.6583, 0.6443, 0.6336, 0.6264, 0.6105, 0.6103, 0.6052, 0.5902, 0.5842, 0.5681, 0.5437, 0.5411, 0.5317, 0.5311, 0.5222, 0.5205, 0.5019, 0.5017, 0.4996, 0.4983, 0.4822, 0.4613, 0.4597, 0.452, 0.4136, 0.4017, 0.3952, 0.3397, 0.3348, 0.0629, 0.3394, 1.6646, 1.6646, 1.6646, 1.6645, 1.6641, 1.4337, 1.0437, 0.4802, 0.4616, 0.3827, 0.2579, 0.1494, 0.0563, -0.0447, -0.1046, -0.1082, -0.2314, -0.3598, -0.5221, -0.5226, -0.632, -0.7077, -0.7266, -0.8128, -0.8785, -0.8842, -1.0319, -1.0379, -1.0394, -1.1611, -1.2871, 1.754, 1.754, 1.754, 1.0552, 0.9105, 0.7994, 0.6234, 0.6025, 0.5093, 0.5071, 0.4483, 0.3949, 0.3069, 0.1855, 0.0851, 0.0158, -0.0538, -0.085, -0.1936, -0.2382, -0.3347, -0.356, -0.3702, -0.3834, -0.421, -0.4956, -0.5134, -0.5418, -0.5469, -0.625, -0.6492, -0.9405, 1.7987, 1.7987, 1.7987, 1.4958, 0.8078, 0.4875, 0.2031, 0.1207, 0.039, 0.0245, 0.0045, -0.0753, -0.0867, -0.1135, -0.1444, -0.2025, -0.2044, -0.2664, -0.2841, -0.2987, -0.3685, -0.3725, -0.382, -0.3847, -0.397, -0.4801, -0.4976, -0.5412, -0.5529, -0.5774, -0.5943, -0.6951, -0.7909, -0.8151], \"logprob\": [30.0, 29.0, 28.0, 27.0, 26.0, 25.0, 24.0, 23.0, 22.0, 21.0, 20.0, 19.0, 18.0, 17.0, 16.0, 15.0, 14.0, 13.0, 12.0, 11.0, 10.0, 9.0, 8.0, 7.0, 6.0, 5.0, 4.0, 3.0, 2.0, 1.0, -3.9766, -3.8097, -4.0554, -3.681, -3.2281, -3.7218, -3.921, -4.0099, -4.0654, -4.1253, -3.4984, -4.0406, -4.0078, -3.9919, -4.3269, -4.0334, -4.3802, -3.1015, -4.0202, -4.1444, -3.9333, -3.8686, -3.3515, -3.4189, -3.4939, -4.1598, -3.7243, -4.0077, -3.5613, -4.4199, -3.5542, -3.7753, -3.8176, -3.6581, -3.7142, -3.6878, -3.9364, -1.9182, -1.9378, -2.4751, -1.928, -1.9468, -3.0006, -2.8302, -4.2799, -3.7401, -4.4088, -4.36, -4.4434, -3.9927, -4.5704, -4.5667, -4.8465, -4.5073, -5.135, -5.28, -4.7355, -5.1678, -5.422, -5.1029, -4.8062, -5.2676, -5.5422, -5.9038, -5.0057, -4.96, -5.1822, -5.294, -1.2663, -2.1915, -2.5067, -2.6955, -3.2912, -3.2075, -4.1366, -4.0155, -3.4886, -4.0856, -4.3432, -4.6478, -3.8995, -4.2836, -4.6291, -4.7594, -3.6964, -4.4613, -4.7294, -4.206, -5.062, -5.2279, -5.1085, -4.2368, -4.6969, -4.9511, -5.2713, -4.5908, -4.4207, -4.802, -4.862, -4.8425, -1.3241, -1.4503, -2.4022, -3.5469, -3.9523, -3.7142, -4.1731, -4.8032, -3.8348, -4.7028, -4.1725, -4.0822, -4.1077, -4.6392, -4.9196, -4.8155, -4.7972, -4.6555, -4.9596, -4.9166, -5.1068, -4.4814, -5.1337, -4.8468, -4.3176, -5.0159, -5.0991, -4.754, -5.1048, -5.3689, -4.5877, -4.6629, -4.6443, -5.091]}, \"token.table\": {\"Topic\": [2, 3, 4, 2, 3, 4, 1, 2, 3, 4, 1, 4, 1, 2, 3, 4, 1, 2, 3, 4, 1, 2, 3, 4, 1, 2, 3, 4, 1, 2, 3, 4, 1, 2, 3, 4, 1, 2, 3, 4, 1, 2, 3, 4, 3, 1, 2, 3, 4, 1, 3, 4, 1, 2, 3, 4, 1, 2, 3, 4, 1, 2, 4, 1, 2, 3, 4, 1, 2, 3, 4, 1, 2, 3, 4, 1, 2, 3, 4, 3, 1, 2, 3, 4, 1, 2, 3, 4, 2, 1, 2, 3, 4, 1, 2, 3, 4, 1, 2, 3, 4, 1, 2, 3, 4, 1, 2, 3, 4, 1, 2, 3, 4, 1, 2, 3, 4, 1, 3, 1, 2, 3, 4, 3, 1, 2, 3, 4, 1, 3, 4, 1, 3, 4, 1, 2, 3, 4, 1, 2, 3, 4, 4, 1, 2, 3, 4, 2, 1, 2, 3, 4, 1, 2, 3, 4, 1, 2, 3, 4, 1, 3, 4, 2, 1, 2, 3, 4, 2, 3, 4, 1, 2, 3, 4, 2, 4, 2, 3, 4, 1, 4, 1, 2, 3, 4, 1, 2, 3, 4, 1, 2, 3, 4, 1, 3, 4, 1, 2, 3, 4, 1, 2, 3, 1, 2, 3, 4, 1, 2, 3, 4, 4, 4, 1, 4], \"Freq\": [0.30590145132196095, 0.322811003770036, 0.3712454002293465, 0.0043963989865625245, 0.2569075202660511, 0.7387077579216468, 0.7477140079426459, 0.05924897973385416, 0.041230796855887555, 0.1517747837017908, 0.932812478848636, 0.06712731679314593, 0.8110951028942203, 0.0063927035044092475, 0.16398674206962854, 0.01851104579972417, 0.6104306203418133, 0.18095795947144164, 0.060834678054106486, 0.14775096393693488, 0.8519513181188935, 0.006969799580570295, 0.07993933396490828, 0.061163547339698504, 0.8030895664971186, 0.014133127033152988, 0.05825034677752557, 0.12454330175623765, 0.7009906073180232, 0.11223518875847163, 0.09040758306037201, 0.09635609722584511, 0.6692297170779729, 0.0932619702756326, 0.18847197126198337, 0.049025439553074056, 0.705534402220936, 0.03557316313719005, 0.09263251680924289, 0.16624524906113483, 0.5961304422467959, 0.16985976199584435, 0.11955865773373675, 0.1144869761469788, 0.9999691277297258, 0.5467551469443677, 0.09152142798507626, 0.15896131641177697, 0.20278277181007093, 0.7646984921003642, 0.23524675426096162, 4.884691741299037e-05, 0.929376340622804, 0.0007390892780385668, 0.0643576202107429, 0.005514743074595461, 0.9119347321570817, 0.0023402944366734345, 0.05354309999055888, 0.03219677800756786, 0.7945519389828116, 0.07862845178776108, 0.12682575780531485, 0.8833478724013141, 0.002022355140478063, 0.0016852959503983861, 0.11291482867669186, 0.7958964555640619, 0.020115169060393973, 0.1054636433914114, 0.07851808982141324, 0.7098094887231867, 0.11226708434709107, 0.1036181095711067, 0.07427943042904211, 0.6598933268237043, 0.20022564864985348, 0.1006553281666208, 0.03918546979620934, 0.99998729983417, 0.6631720372106243, 0.013957342726346175, 0.2880287998982347, 0.03485370527402923, 0.7799138999895573, 0.027075815861827814, 0.11794623462243624, 0.0750504553736596, 0.9999866242205516, 0.7781475419888371, 0.08396934817159232, 0.04654436365505753, 0.0913517027123012, 0.7419789218053631, 0.06746990708014956, 0.1212557766679871, 0.06937046784297068, 0.6543719218929451, 0.10056291546367664, 0.14259427580939968, 0.10239627043836892, 0.3160990800157868, 0.2449620435849952, 0.3161727971519845, 0.1228127489053873, 0.80351694433592, 0.008625868948985744, 0.09260732903631096, 0.09522959319680262, 0.8694374499334895, 0.0008418770537527418, 0.015685498790972138, 0.11405218612418724, 0.6629903089595355, 0.15017028953529835, 0.11362256913932964, 0.07325252268475677, 0.5028261828802846, 0.4971587037310426, 0.19030295001577485, 0.5374228165087491, 0.10017788276184725, 0.1720887895136208, 0.9999296431173749, 0.409307797306264, 0.05225376180664524, 0.3849413800472694, 0.1534804213555062, 0.8648088513059468, 7.335104760864688e-05, 0.13518598074273622, 0.961693218102523, 0.01707709101530294, 0.021267303162576346, 0.5488163502717518, 0.13207133484219616, 0.17580756395061775, 0.14328575256230425, 0.86924645055022, 0.02384523567241182, 0.03976745374121077, 0.06719328390756302, 0.9999793083176998, 0.8993137980305658, 0.000611518094708417, 0.04188898948752656, 0.05817065875913817, 0.9999780374965919, 0.7139726131573758, 0.06702631451391187, 0.13639970433514212, 0.08260935548873065, 0.7798189844085497, 0.06694859397351006, 0.04198968832549096, 0.11128735577175576, 0.3586468585952291, 0.2775347939985086, 0.270958140112288, 0.09295004159191757, 0.833278147685211, 0.06606182164661276, 0.10065182046706753, 0.9999618734337076, 0.6973517371815767, 0.17044273124058076, 0.01955486553833458, 0.11266125758537276, 0.9994454275697059, 8.07828505956762e-05, 0.0004308418698436064, 0.8467920459823671, 0.027475278802882593, 0.06562440692487065, 0.06008981838903819, 0.9999246452321747, 7.931084090887884e-05, 0.300316604024774, 0.43017667353265343, 0.26949246173050384, 0.9548604183518443, 0.04510890030340933, 0.35791285052117117, 0.21975087046459535, 0.28739417079406354, 0.13492717823423142, 0.748928584857361, 0.003811018157191219, 0.20833565925978664, 0.038935902172636955, 0.9263498175960698, 0.0005404187641545211, 0.06758837343692545, 0.005548299311986417, 0.9131774066285826, 0.05475689413353064, 0.03206275097510668, 0.8896837459220456, 0.00047961387920325907, 0.02589914947697599, 0.08385249321403646, 0.20611358227117618, 0.7937826650562558, 6.134332805689767e-05, 0.7771064072513647, 0.07818635752262447, 0.07580777353518448, 0.06897893563575996, 0.6789500340904076, 0.027549450268930055, 0.12384917046271242, 0.16965527135762, 0.9999808901091953, 0.9999860887783153, 0.8131829313998664, 0.186779831362894], \"Term\": [\"news\", \"news\", \"news\", \"on\", \"on\", \"on\", \"re\", \"re\", \"re\", \"re\", \"\\u4e00\\u4e0b\", \"\\u4e00\\u4e0b\", \"\\u4e00\\u500b\", \"\\u4e00\\u500b\", \"\\u4e00\\u500b\", \"\\u4e00\\u500b\", \"\\u4e00\\u5b9a\", \"\\u4e00\\u5b9a\", \"\\u4e00\\u5b9a\", \"\\u4e00\\u5b9a\", \"\\u4e00\\u6a23\", \"\\u4e00\\u6a23\", \"\\u4e00\\u6a23\", \"\\u4e00\\u6a23\", \"\\u4e00\\u76f4\", \"\\u4e00\\u76f4\", \"\\u4e00\\u76f4\", \"\\u4e00\\u76f4\", \"\\u4e0d\\u6703\", \"\\u4e0d\\u6703\", \"\\u4e0d\\u6703\", \"\\u4e0d\\u6703\", \"\\u4e0d\\u80fd\", \"\\u4e0d\\u80fd\", \"\\u4e0d\\u80fd\", \"\\u4e0d\\u80fd\", \"\\u4e0d\\u8981\", \"\\u4e0d\\u8981\", \"\\u4e0d\\u8981\", \"\\u4e0d\\u8981\", \"\\u4e0d\\u904e\", \"\\u4e0d\\u904e\", \"\\u4e0d\\u904e\", \"\\u4e0d\\u904e\", \"\\u4e2d\\u570b\", \"\\u4eca\\u5929\", \"\\u4eca\\u5929\", \"\\u4eca\\u5929\", \"\\u4eca\\u5929\", \"\\u4ed6\\u5011\", \"\\u4ed6\\u5011\", \"\\u4ed6\\u5011\", \"\\u4f46\\u662f\", \"\\u4f46\\u662f\", \"\\u4f46\\u662f\", \"\\u4f46\\u662f\", \"\\u5176\\u5be6\", \"\\u5176\\u5be6\", \"\\u5176\\u5be6\", \"\\u5176\\u5be6\", \"\\u51fa\\u4f86\", \"\\u51fa\\u4f86\", \"\\u51fa\\u4f86\", \"\\u5230\\u5e95\", \"\\u5230\\u5e95\", \"\\u5230\\u5e95\", \"\\u5230\\u5e95\", \"\\u53ea\\u662f\", \"\\u53ea\\u662f\", \"\\u53ea\\u662f\", \"\\u53ea\\u662f\", \"\\u53ea\\u6709\", \"\\u53ea\\u6709\", \"\\u53ea\\u6709\", \"\\u53ea\\u6709\", \"\\u53ef\\u80fd\", \"\\u53ef\\u80fd\", \"\\u53ef\\u80fd\", \"\\u53ef\\u80fd\", \"\\u53f0\\u7063\", \"\\u554f\\u984c\", \"\\u554f\\u984c\", \"\\u554f\\u984c\", \"\\u554f\\u984c\", \"\\u56e0\\u70ba\", \"\\u56e0\\u70ba\", \"\\u56e0\\u70ba\", \"\\u56e0\\u70ba\", \"\\u570b\\u6c11\\u9ee8\", \"\\u5927\\u5bb6\", \"\\u5927\\u5bb6\", \"\\u5927\\u5bb6\", \"\\u5927\\u5bb6\", \"\\u5b8c\\u5168\", \"\\u5b8c\\u5168\", \"\\u5b8c\\u5168\", \"\\u5b8c\\u5168\", \"\\u5df2\\u7d93\", \"\\u5df2\\u7d93\", \"\\u5df2\\u7d93\", \"\\u5df2\\u7d93\", \"\\u5e0c\\u671b\", \"\\u5e0c\\u671b\", \"\\u5e0c\\u671b\", \"\\u5e0c\\u671b\", \"\\u5f88\\u591a\", \"\\u5f88\\u591a\", \"\\u5f88\\u591a\", \"\\u5f88\\u591a\", \"\\u600e\\u9ebc\", \"\\u600e\\u9ebc\", \"\\u600e\\u9ebc\", \"\\u600e\\u9ebc\", \"\\u61c9\\u8a72\", \"\\u61c9\\u8a72\", \"\\u61c9\\u8a72\", \"\\u61c9\\u8a72\", \"\\u6211\\u5011\", \"\\u6211\\u5011\", \"\\u652f\\u6301\", \"\\u652f\\u6301\", \"\\u652f\\u6301\", \"\\u652f\\u6301\", \"\\u653f\\u5e9c\", \"\\u653f\\u6cbb\", \"\\u653f\\u6cbb\", \"\\u653f\\u6cbb\", \"\\u653f\\u6cbb\", \"\\u662f\\u4e0d\\u662f\", \"\\u662f\\u4e0d\\u662f\", \"\\u662f\\u4e0d\\u662f\", \"\\u6642\\u5019\", \"\\u6642\\u5019\", \"\\u6642\\u5019\", \"\\u6642\\u9593\", \"\\u6642\\u9593\", \"\\u6642\\u9593\", \"\\u6642\\u9593\", \"\\u6709\\u4eba\", \"\\u6709\\u4eba\", \"\\u6709\\u4eba\", \"\\u6709\\u4eba\", \"\\u67ef\\u6587\\u54f2\", \"\\u6839\\u672c\", \"\\u6839\\u672c\", \"\\u6839\\u672c\", \"\\u6839\\u672c\", \"\\u6c11\\u9032\\u9ee8\", \"\\u6c92\\u6709\", \"\\u6c92\\u6709\", \"\\u6c92\\u6709\", \"\\u6c92\\u6709\", \"\\u73fe\\u5728\", \"\\u73fe\\u5728\", \"\\u73fe\\u5728\", \"\\u73fe\\u5728\", \"\\u76ee\\u524d\", \"\\u76ee\\u524d\", \"\\u76ee\\u524d\", \"\\u76ee\\u524d\", \"\\u770b\\u5230\", \"\\u770b\\u5230\", \"\\u770b\\u5230\", \"\\u7acb\\u59d4\", \"\\u7d50\\u679c\", \"\\u7d50\\u679c\", \"\\u7d50\\u679c\", \"\\u7d50\\u679c\", \"\\u7e3d\\u7d71\", \"\\u7e3d\\u7d71\", \"\\u7e3d\\u7d71\", \"\\u800c\\u4e14\", \"\\u800c\\u4e14\", \"\\u800c\\u4e14\", \"\\u800c\\u4e14\", \"\\u8521\\u82f1\\u6587\", \"\\u8521\\u82f1\\u6587\", \"\\u8868\\u793a\", \"\\u8868\\u793a\", \"\\u8868\\u793a\", \"\\u89ba\\u5f97\", \"\\u89ba\\u5f97\", \"\\u8a8d\\u70ba\", \"\\u8a8d\\u70ba\", \"\\u8a8d\\u70ba\", \"\\u8a8d\\u70ba\", \"\\u9019\\u4e9b\", \"\\u9019\\u4e9b\", \"\\u9019\\u4e9b\", \"\\u9019\\u4e9b\", \"\\u9019\\u500b\", \"\\u9019\\u500b\", \"\\u9019\\u500b\", \"\\u9019\\u500b\", \"\\u9019\\u7a2e\", \"\\u9019\\u7a2e\", \"\\u9019\\u7a2e\", \"\\u9019\\u9ebc\", \"\\u9019\\u9ebc\", \"\\u9019\\u9ebc\", \"\\u9019\\u9ebc\", \"\\u9078\\u8209\", \"\\u9078\\u8209\", \"\\u9078\\u8209\", \"\\u9084\\u6709\", \"\\u9084\\u6709\", \"\\u9084\\u6709\", \"\\u9084\\u6709\", \"\\u958b\\u59cb\", \"\\u958b\\u59cb\", \"\\u958b\\u59cb\", \"\\u958b\\u59cb\", \"\\u97d3\\u570b\\u745c\", \"\\u97d3\\u7c89\", \"\\u9ed1\\u7279\", \"\\u9ed1\\u7279\"]}, \"R\": 30, \"lambda.step\": 0.01, \"plot.opts\": {\"xlab\": \"PC1\", \"ylab\": \"PC2\"}, \"topic.order\": [1, 3, 2, 4]};\n",
              "\n",
              "function LDAvis_load_lib(url, callback){\n",
              "  var s = document.createElement('script');\n",
              "  s.src = url;\n",
              "  s.async = true;\n",
              "  s.onreadystatechange = s.onload = callback;\n",
              "  s.onerror = function(){console.warn(\"failed to load library \" + url);};\n",
              "  document.getElementsByTagName(\"head\")[0].appendChild(s);\n",
              "}\n",
              "\n",
              "if(typeof(LDAvis) !== \"undefined\"){\n",
              "   // already loaded: just create the visualization\n",
              "   !function(LDAvis){\n",
              "       new LDAvis(\"#\" + \"ldavis_el1221405571200739209396910193\", ldavis_el1221405571200739209396910193_data);\n",
              "   }(LDAvis);\n",
              "}else if(typeof define === \"function\" && define.amd){\n",
              "   // require.js is available: use it to load d3/LDAvis\n",
              "   require.config({paths: {d3: \"https://cdnjs.cloudflare.com/ajax/libs/d3/3.5.5/d3.min\"}});\n",
              "   require([\"d3\"], function(d3){\n",
              "      window.d3 = d3;\n",
              "      LDAvis_load_lib(\"https://cdn.rawgit.com/bmabey/pyLDAvis/files/ldavis.v1.0.0.js\", function(){\n",
              "        new LDAvis(\"#\" + \"ldavis_el1221405571200739209396910193\", ldavis_el1221405571200739209396910193_data);\n",
              "      });\n",
              "    });\n",
              "}else{\n",
              "    // require.js not available: dynamically load d3 & LDAvis\n",
              "    LDAvis_load_lib(\"https://cdnjs.cloudflare.com/ajax/libs/d3/3.5.5/d3.min.js\", function(){\n",
              "         LDAvis_load_lib(\"https://cdn.rawgit.com/bmabey/pyLDAvis/files/ldavis.v1.0.0.js\", function(){\n",
              "                 new LDAvis(\"#\" + \"ldavis_el1221405571200739209396910193\", ldavis_el1221405571200739209396910193_data);\n",
              "            })\n",
              "         });\n",
              "}\n",
              "</script>"
            ],
            "text/plain": [
              "<IPython.core.display.HTML object>"
            ]
          },
          "metadata": {
            "tags": []
          },
          "execution_count": 50
        }
      ]
    },
    {
      "cell_type": "code",
      "metadata": {
        "id": "kQYMdKLqrnOz",
        "colab_type": "code",
        "colab": {}
      },
      "source": [
        ""
      ],
      "execution_count": 0,
      "outputs": []
    }
  ]
}